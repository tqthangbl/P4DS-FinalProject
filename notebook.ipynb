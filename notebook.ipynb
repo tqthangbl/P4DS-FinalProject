{
 "cells": [
  {
   "cell_type": "markdown",
   "id": "e474838c",
   "metadata": {},
   "source": [
    "# Thông tin đồ án"
   ]
  },
  {
   "cell_type": "markdown",
   "id": "fdfb51e4",
   "metadata": {},
   "source": [
    "## Thành viên"
   ]
  },
  {
   "cell_type": "markdown",
   "id": "40b1c777",
   "metadata": {},
   "source": [
    "|   MSSV   |      Họ tên     |   GitHub  |\n",
    "|:--------:|:---------------:|:---------:|\n",
    "| 18120120 | Trần Chí Hào    | haotrch   |\n",
    "| 18120147 | Trần Quốc Thắng | tqthangbl |"
   ]
  },
  {
   "cell_type": "markdown",
   "id": "5b2520d2",
   "metadata": {},
   "source": [
    "## Link thùng chứa GitHub"
   ]
  },
  {
   "cell_type": "markdown",
   "id": "0809edc8",
   "metadata": {},
   "source": [
    "[https://github.com/tqthangbl/P4DS-FinalProject](https://github.com/tqthangbl/P4DS-FinalProject)"
   ]
  },
  {
   "cell_type": "markdown",
   "id": "327b7a2f",
   "metadata": {},
   "source": [
    "# Môi trường code\n",
    "\n"
   ]
  },
  {
   "cell_type": "markdown",
   "id": "a8daa95e",
   "metadata": {},
   "source": [
    "- Code trên môi trường Linux\n",
    "- Dùng phiên bản các package như trong file \"min_ds-env.yml\"\n"
   ]
  },
  {
   "cell_type": "code",
   "execution_count": 1,
   "id": "170a7edc",
   "metadata": {},
   "outputs": [
    {
     "data": {
      "text/plain": [
       "'/home/family-u/.conda/envs/min_ds-env/bin/python'"
      ]
     },
     "execution_count": 1,
     "metadata": {},
     "output_type": "execute_result"
    }
   ],
   "source": [
    "import sys\n",
    "sys.executable"
   ]
  },
  {
   "cell_type": "markdown",
   "id": "7d334681",
   "metadata": {},
   "source": [
    "# Import các thư viện cần thiết"
   ]
  },
  {
   "cell_type": "code",
   "execution_count": 2,
   "id": "c12a8ca2",
   "metadata": {},
   "outputs": [],
   "source": [
    "import pandas as pd\n",
    "import matplotlib.pyplot as plt\n",
    "import numpy as np"
   ]
  },
  {
   "cell_type": "markdown",
   "id": "5d6ef28c",
   "metadata": {},
   "source": [
    "# Thu thập dữ liệu"
   ]
  },
  {
   "cell_type": "markdown",
   "id": "7a4253e8",
   "metadata": {},
   "source": [
    "**Dữ liệu của bạn là về chủ đề gì và bạn lấy từ nguồn nào?**\n",
    "\n",
    "Bộ dữ liệu mà nhóm sử dụng có tên là \"Google Play Store Apps\", được lấy từ [Kaggle](https://www.kaggle.com/lava18/google-play-store-apps), chứa thông tin về hơn 10000 ứng dụng trên Google Play Store. Thời điểm bộ dữ liệu được đăng lên Kaggle là 2018-09-05, lần cập nhật cuối là vào 2019-02-03.\n",
    "\n",
    "Có 2 file dữ liệu:\n",
    "1. `googleplaystore.csv`: Chứa các thông tin chi tiết về các ứng dụng thu thập được từ Google Play\n",
    "2. `googleplaystore_user_reviews`: Chứa thông tin về 100 đánh giá liên quan nhất cho mỗi ứng dụng thu thập được từ Google Play\n",
    "\n",
    "**Người ta có cho phép bạn dùng dữ liệu như này không? Ví dụ, bạn có thể xem thử license của dữ liệu là gì**\n",
    "\n",
    "\n",
    "License của dữ liệu là Creative Commons Attribution 3.0 Unported, theo như được nói ở [đây](https://creativecommons.org/licenses/by/3.0/), người ta cho phép:\n",
    "\n",
    "1. Copy và chia sẻ dữ liệu này dưới bất kì hình thức nào\n",
    "2. Sử dụng bộ dữ liệu này để xây dựng bất cứ thứ gì, cho bất cứ mục đích nào, kể cả thương mại\n",
    "\n",
    "**Người ta thu thập dữ liệu như thế nào?**\n",
    "\n",
    "Dữ liệu được tác giả crawl từ Google Play Store.\n"
   ]
  },
  {
   "cell_type": "markdown",
   "id": "e3023e5b",
   "metadata": {},
   "source": [
    "# Khám phá dữ liệu (thường đan xen với tiền xử lý)"
   ]
  },
  {
   "cell_type": "markdown",
   "id": "386bcab9",
   "metadata": {},
   "source": [
    "* Dữ liệu có bao nhiêu dòng và bao nhiêu cột?\n",
    "* Mỗi dòng có ý nghĩa gì? Có vấn đề các dòng có ý nghĩa\n",
    "khác nhau không?\n",
    "* Dữ liệu có các dòng bị lặp không?\n",
    "* Mỗi cột có ý nghĩa gì?\n",
    "* Mỗi cột hiện đang có kiểu dữ liệu gì? Có cột nào có kiểu\n",
    "dữ liệu chưa phù hợp để có thể xử lý tiếp không?\n",
    "* Với mỗi cột có kiểu dữ liệu dạng số (numerical), các giá\n",
    "trị được phân bố như thế nào?\n",
    "    * Số-lượng/tỉ-lệ các giá trị thiếu?\n",
    "    * Min? max? → Có gì bất thường không?\n",
    "* Với mỗi cột có kiểu dữ liệu dạng phân loại (categorical),\n",
    "các giá trị được phân bố như thế nào?\n",
    "    * Số-lượng/tỉ-lệ các giá trị thiếu?\n",
    "    * Số lượng các giá trị khác nhau? Show một vài giá trị\n",
    "→ Có gì bất thường không?"
   ]
  },
  {
   "cell_type": "markdown",
   "id": "14bd9e92",
   "metadata": {},
   "source": [
    "## Đọc dữ liệu từ file csv vào dataframe"
   ]
  },
  {
   "cell_type": "markdown",
   "id": "05e7d8e0",
   "metadata": {},
   "source": [
    "Ở đây nhóm khám phá dữ liệu trong file `googleplaystore.csv` trước. Dữ liệu đọc từ file sẽ lưu vào dataframe `app_df`."
   ]
  },
  {
   "cell_type": "code",
   "execution_count": 3,
   "id": "f8d57c7e",
   "metadata": {},
   "outputs": [
    {
     "data": {
      "text/html": [
       "<div>\n",
       "<style scoped>\n",
       "    .dataframe tbody tr th:only-of-type {\n",
       "        vertical-align: middle;\n",
       "    }\n",
       "\n",
       "    .dataframe tbody tr th {\n",
       "        vertical-align: top;\n",
       "    }\n",
       "\n",
       "    .dataframe thead th {\n",
       "        text-align: right;\n",
       "    }\n",
       "</style>\n",
       "<table border=\"1\" class=\"dataframe\">\n",
       "  <thead>\n",
       "    <tr style=\"text-align: right;\">\n",
       "      <th></th>\n",
       "      <th>App</th>\n",
       "      <th>Category</th>\n",
       "      <th>Rating</th>\n",
       "      <th>Reviews</th>\n",
       "      <th>Size</th>\n",
       "      <th>Installs</th>\n",
       "      <th>Type</th>\n",
       "      <th>Price</th>\n",
       "      <th>Content Rating</th>\n",
       "      <th>Genres</th>\n",
       "      <th>Last Updated</th>\n",
       "      <th>Current Ver</th>\n",
       "      <th>Android Ver</th>\n",
       "    </tr>\n",
       "  </thead>\n",
       "  <tbody>\n",
       "    <tr>\n",
       "      <th>0</th>\n",
       "      <td>Photo Editor &amp; Candy Camera &amp; Grid &amp; ScrapBook</td>\n",
       "      <td>ART_AND_DESIGN</td>\n",
       "      <td>4.1</td>\n",
       "      <td>159</td>\n",
       "      <td>19M</td>\n",
       "      <td>10,000+</td>\n",
       "      <td>Free</td>\n",
       "      <td>0</td>\n",
       "      <td>Everyone</td>\n",
       "      <td>Art &amp; Design</td>\n",
       "      <td>January 7, 2018</td>\n",
       "      <td>1.0.0</td>\n",
       "      <td>4.0.3 and up</td>\n",
       "    </tr>\n",
       "    <tr>\n",
       "      <th>1</th>\n",
       "      <td>Coloring book moana</td>\n",
       "      <td>ART_AND_DESIGN</td>\n",
       "      <td>3.9</td>\n",
       "      <td>967</td>\n",
       "      <td>14M</td>\n",
       "      <td>500,000+</td>\n",
       "      <td>Free</td>\n",
       "      <td>0</td>\n",
       "      <td>Everyone</td>\n",
       "      <td>Art &amp; Design;Pretend Play</td>\n",
       "      <td>January 15, 2018</td>\n",
       "      <td>2.0.0</td>\n",
       "      <td>4.0.3 and up</td>\n",
       "    </tr>\n",
       "    <tr>\n",
       "      <th>2</th>\n",
       "      <td>U Launcher Lite – FREE Live Cool Themes, Hide ...</td>\n",
       "      <td>ART_AND_DESIGN</td>\n",
       "      <td>4.7</td>\n",
       "      <td>87510</td>\n",
       "      <td>8.7M</td>\n",
       "      <td>5,000,000+</td>\n",
       "      <td>Free</td>\n",
       "      <td>0</td>\n",
       "      <td>Everyone</td>\n",
       "      <td>Art &amp; Design</td>\n",
       "      <td>August 1, 2018</td>\n",
       "      <td>1.2.4</td>\n",
       "      <td>4.0.3 and up</td>\n",
       "    </tr>\n",
       "    <tr>\n",
       "      <th>3</th>\n",
       "      <td>Sketch - Draw &amp; Paint</td>\n",
       "      <td>ART_AND_DESIGN</td>\n",
       "      <td>4.5</td>\n",
       "      <td>215644</td>\n",
       "      <td>25M</td>\n",
       "      <td>50,000,000+</td>\n",
       "      <td>Free</td>\n",
       "      <td>0</td>\n",
       "      <td>Teen</td>\n",
       "      <td>Art &amp; Design</td>\n",
       "      <td>June 8, 2018</td>\n",
       "      <td>Varies with device</td>\n",
       "      <td>4.2 and up</td>\n",
       "    </tr>\n",
       "    <tr>\n",
       "      <th>4</th>\n",
       "      <td>Pixel Draw - Number Art Coloring Book</td>\n",
       "      <td>ART_AND_DESIGN</td>\n",
       "      <td>4.3</td>\n",
       "      <td>967</td>\n",
       "      <td>2.8M</td>\n",
       "      <td>100,000+</td>\n",
       "      <td>Free</td>\n",
       "      <td>0</td>\n",
       "      <td>Everyone</td>\n",
       "      <td>Art &amp; Design;Creativity</td>\n",
       "      <td>June 20, 2018</td>\n",
       "      <td>1.1</td>\n",
       "      <td>4.4 and up</td>\n",
       "    </tr>\n",
       "  </tbody>\n",
       "</table>\n",
       "</div>"
      ],
      "text/plain": [
       "                                                 App        Category  Rating  \\\n",
       "0     Photo Editor & Candy Camera & Grid & ScrapBook  ART_AND_DESIGN     4.1   \n",
       "1                                Coloring book moana  ART_AND_DESIGN     3.9   \n",
       "2  U Launcher Lite – FREE Live Cool Themes, Hide ...  ART_AND_DESIGN     4.7   \n",
       "3                              Sketch - Draw & Paint  ART_AND_DESIGN     4.5   \n",
       "4              Pixel Draw - Number Art Coloring Book  ART_AND_DESIGN     4.3   \n",
       "\n",
       "  Reviews  Size     Installs  Type Price Content Rating  \\\n",
       "0     159   19M      10,000+  Free     0       Everyone   \n",
       "1     967   14M     500,000+  Free     0       Everyone   \n",
       "2   87510  8.7M   5,000,000+  Free     0       Everyone   \n",
       "3  215644   25M  50,000,000+  Free     0           Teen   \n",
       "4     967  2.8M     100,000+  Free     0       Everyone   \n",
       "\n",
       "                      Genres      Last Updated         Current Ver  \\\n",
       "0               Art & Design   January 7, 2018               1.0.0   \n",
       "1  Art & Design;Pretend Play  January 15, 2018               2.0.0   \n",
       "2               Art & Design    August 1, 2018               1.2.4   \n",
       "3               Art & Design      June 8, 2018  Varies with device   \n",
       "4    Art & Design;Creativity     June 20, 2018                 1.1   \n",
       "\n",
       "    Android Ver  \n",
       "0  4.0.3 and up  \n",
       "1  4.0.3 and up  \n",
       "2  4.0.3 and up  \n",
       "3    4.2 and up  \n",
       "4    4.4 and up  "
      ]
     },
     "execution_count": 3,
     "metadata": {},
     "output_type": "execute_result"
    }
   ],
   "source": [
    "app_df = pd.read_csv('Data/googleplaystore.csv')\n",
    "app_df.head()"
   ]
  },
  {
   "cell_type": "markdown",
   "id": "2817e77b",
   "metadata": {},
   "source": [
    "## Dữ liệu có bao nhiêu dòng và bao nhiêu cột?"
   ]
  },
  {
   "cell_type": "code",
   "execution_count": 4,
   "id": "531c2004",
   "metadata": {},
   "outputs": [
    {
     "name": "stdout",
     "output_type": "stream",
     "text": [
      "[+] num_rows = 10841\n",
      "[+] num_cols = 13\n"
     ]
    }
   ],
   "source": [
    "num_rows = len(app_df)\n",
    "num_cols = len(app_df.columns)\n",
    "\n",
    "print(f'[+] num_rows = {num_rows}')\n",
    "print(f'[+] num_cols = {num_cols}')"
   ]
  },
  {
   "cell_type": "markdown",
   "id": "d227e41f",
   "metadata": {},
   "source": [
    "Dữ liệu có 10841 dòng và 13 cột."
   ]
  },
  {
   "cell_type": "markdown",
   "id": "f43c0255",
   "metadata": {},
   "source": [
    "## Mỗi dòng có ý nghĩa gì? Có vấn đề các dòng có ý nghĩa khác nhau không?"
   ]
  },
  {
   "cell_type": "code",
   "execution_count": 5,
   "id": "c276f222",
   "metadata": {},
   "outputs": [
    {
     "data": {
      "text/html": [
       "<div>\n",
       "<style scoped>\n",
       "    .dataframe tbody tr th:only-of-type {\n",
       "        vertical-align: middle;\n",
       "    }\n",
       "\n",
       "    .dataframe tbody tr th {\n",
       "        vertical-align: top;\n",
       "    }\n",
       "\n",
       "    .dataframe thead th {\n",
       "        text-align: right;\n",
       "    }\n",
       "</style>\n",
       "<table border=\"1\" class=\"dataframe\">\n",
       "  <thead>\n",
       "    <tr style=\"text-align: right;\">\n",
       "      <th></th>\n",
       "      <th>App</th>\n",
       "      <th>Category</th>\n",
       "      <th>Rating</th>\n",
       "      <th>Reviews</th>\n",
       "      <th>Size</th>\n",
       "      <th>Installs</th>\n",
       "      <th>Type</th>\n",
       "      <th>Price</th>\n",
       "      <th>Content Rating</th>\n",
       "      <th>Genres</th>\n",
       "      <th>Last Updated</th>\n",
       "      <th>Current Ver</th>\n",
       "      <th>Android Ver</th>\n",
       "    </tr>\n",
       "  </thead>\n",
       "  <tbody>\n",
       "    <tr>\n",
       "      <th>997</th>\n",
       "      <td>Funny Quotes Free</td>\n",
       "      <td>ENTERTAINMENT</td>\n",
       "      <td>4.2</td>\n",
       "      <td>23666</td>\n",
       "      <td>3.6M</td>\n",
       "      <td>1,000,000+</td>\n",
       "      <td>Free</td>\n",
       "      <td>0</td>\n",
       "      <td>Teen</td>\n",
       "      <td>Entertainment</td>\n",
       "      <td>May 4, 2018</td>\n",
       "      <td>8.1</td>\n",
       "      <td>4.0 and up</td>\n",
       "    </tr>\n",
       "    <tr>\n",
       "      <th>1466</th>\n",
       "      <td>Redfin Real Estate</td>\n",
       "      <td>HOUSE_AND_HOME</td>\n",
       "      <td>4.6</td>\n",
       "      <td>36857</td>\n",
       "      <td>19M</td>\n",
       "      <td>1,000,000+</td>\n",
       "      <td>Free</td>\n",
       "      <td>0</td>\n",
       "      <td>Everyone</td>\n",
       "      <td>House &amp; Home</td>\n",
       "      <td>July 25, 2018</td>\n",
       "      <td>220.0</td>\n",
       "      <td>5.0 and up</td>\n",
       "    </tr>\n",
       "    <tr>\n",
       "      <th>7383</th>\n",
       "      <td>Thistletown CI</td>\n",
       "      <td>PRODUCTIVITY</td>\n",
       "      <td>1.0</td>\n",
       "      <td>1</td>\n",
       "      <td>6.6M</td>\n",
       "      <td>100+</td>\n",
       "      <td>Free</td>\n",
       "      <td>0</td>\n",
       "      <td>Everyone</td>\n",
       "      <td>Productivity</td>\n",
       "      <td>March 15, 2018</td>\n",
       "      <td>41.9</td>\n",
       "      <td>4.1 and up</td>\n",
       "    </tr>\n",
       "    <tr>\n",
       "      <th>5363</th>\n",
       "      <td>I Am Innocent</td>\n",
       "      <td>GAME</td>\n",
       "      <td>4.4</td>\n",
       "      <td>208501</td>\n",
       "      <td>56M</td>\n",
       "      <td>1,000,000+</td>\n",
       "      <td>Free</td>\n",
       "      <td>0</td>\n",
       "      <td>Teen</td>\n",
       "      <td>Adventure</td>\n",
       "      <td>July 23, 2018</td>\n",
       "      <td>2.8.307</td>\n",
       "      <td>4.0.3 and up</td>\n",
       "    </tr>\n",
       "    <tr>\n",
       "      <th>4826</th>\n",
       "      <td>Zombie War Z : Hero Survival Rules</td>\n",
       "      <td>GAME</td>\n",
       "      <td>3.9</td>\n",
       "      <td>1987</td>\n",
       "      <td>62M</td>\n",
       "      <td>100,000+</td>\n",
       "      <td>Free</td>\n",
       "      <td>0</td>\n",
       "      <td>Mature 17+</td>\n",
       "      <td>Action</td>\n",
       "      <td>December 13, 2017</td>\n",
       "      <td>1.8</td>\n",
       "      <td>4.0.3 and up</td>\n",
       "    </tr>\n",
       "  </tbody>\n",
       "</table>\n",
       "</div>"
      ],
      "text/plain": [
       "                                     App        Category  Rating Reviews  \\\n",
       "997                    Funny Quotes Free   ENTERTAINMENT     4.2   23666   \n",
       "1466                  Redfin Real Estate  HOUSE_AND_HOME     4.6   36857   \n",
       "7383                      Thistletown CI    PRODUCTIVITY     1.0       1   \n",
       "5363                       I Am Innocent            GAME     4.4  208501   \n",
       "4826  Zombie War Z : Hero Survival Rules            GAME     3.9    1987   \n",
       "\n",
       "      Size    Installs  Type Price Content Rating         Genres  \\\n",
       "997   3.6M  1,000,000+  Free     0           Teen  Entertainment   \n",
       "1466   19M  1,000,000+  Free     0       Everyone   House & Home   \n",
       "7383  6.6M        100+  Free     0       Everyone   Productivity   \n",
       "5363   56M  1,000,000+  Free     0           Teen      Adventure   \n",
       "4826   62M    100,000+  Free     0     Mature 17+         Action   \n",
       "\n",
       "           Last Updated Current Ver   Android Ver  \n",
       "997         May 4, 2018         8.1    4.0 and up  \n",
       "1466      July 25, 2018       220.0    5.0 and up  \n",
       "7383     March 15, 2018        41.9    4.1 and up  \n",
       "5363      July 23, 2018     2.8.307  4.0.3 and up  \n",
       "4826  December 13, 2017         1.8  4.0.3 and up  "
      ]
     },
     "execution_count": 5,
     "metadata": {},
     "output_type": "execute_result"
    }
   ],
   "source": [
    "app_df.sample(5)"
   ]
  },
  {
   "cell_type": "markdown",
   "id": "6d9e7eed",
   "metadata": {},
   "source": [
    "Theo như mô tả của tác giả, mỗi dòng trong dữ liệu chứa thông tin của 1 ứng dụng trên Play Store. Bằng việc quan sát ngẫu nhiên các dòng trong dữ liệu nhiều lần, có vẻ không có dòng nào mang ý nghĩa khác. "
   ]
  },
  {
   "cell_type": "markdown",
   "id": "caa93de2",
   "metadata": {},
   "source": [
    "## Dữ liệu có các dòng bị lặp không?"
   ]
  },
  {
   "cell_type": "code",
   "execution_count": 10,
   "id": "102fb462",
   "metadata": {},
   "outputs": [
    {
     "name": "stdout",
     "output_type": "stream",
     "text": [
      "[+] have_duplicated_rows = True\n"
     ]
    }
   ],
   "source": [
    "have_duplicated_rows = True\n",
    "dup_df = app_df[app_df.duplicated()]\n",
    "if len(dup_df) == 0:\n",
    "    have_duplicated_rows = False\n",
    "    \n",
    "print(f'[+] have_duplicated_rows = {have_duplicated_rows}')"
   ]
  },
  {
   "cell_type": "markdown",
   "id": "9a4b57ee",
   "metadata": {},
   "source": [
    "### Vấn đề cần tiền xử lý\n",
    "- Một số dòng trong dữ liệu bị lặp, điều này có thể dẫn đến khi tính toán (đếm, tính tỉ lệ). Do đó cần phải loại bỏ những dòng bị lặp."
   ]
  },
  {
   "cell_type": "markdown",
   "id": "332d87c0",
   "metadata": {},
   "source": [
    "---"
   ]
  },
  {
   "cell_type": "markdown",
   "id": "540f5dea",
   "metadata": {},
   "source": [
    "# Tiền xử lý"
   ]
  },
  {
   "cell_type": "markdown",
   "id": "42b1d1dd",
   "metadata": {},
   "source": [
    "## Loại bỏ các dòng bị lặp"
   ]
  },
  {
   "cell_type": "markdown",
   "id": "8532e774",
   "metadata": {},
   "source": [
    "Các dòng bị lặp được lưu trong dataframe `dup_df`. Đầu tiên xem thử 1 vài giá trị của dataframe này."
   ]
  },
  {
   "cell_type": "code",
   "execution_count": 17,
   "id": "f03d8fba",
   "metadata": {},
   "outputs": [
    {
     "data": {
      "text/html": [
       "<div>\n",
       "<style scoped>\n",
       "    .dataframe tbody tr th:only-of-type {\n",
       "        vertical-align: middle;\n",
       "    }\n",
       "\n",
       "    .dataframe tbody tr th {\n",
       "        vertical-align: top;\n",
       "    }\n",
       "\n",
       "    .dataframe thead th {\n",
       "        text-align: right;\n",
       "    }\n",
       "</style>\n",
       "<table border=\"1\" class=\"dataframe\">\n",
       "  <thead>\n",
       "    <tr style=\"text-align: right;\">\n",
       "      <th></th>\n",
       "      <th>App</th>\n",
       "      <th>Category</th>\n",
       "      <th>Rating</th>\n",
       "      <th>Reviews</th>\n",
       "      <th>Size</th>\n",
       "      <th>Installs</th>\n",
       "      <th>Type</th>\n",
       "      <th>Price</th>\n",
       "      <th>Content Rating</th>\n",
       "      <th>Genres</th>\n",
       "      <th>Last Updated</th>\n",
       "      <th>Current Ver</th>\n",
       "      <th>Android Ver</th>\n",
       "    </tr>\n",
       "  </thead>\n",
       "  <tbody>\n",
       "    <tr>\n",
       "      <th>3811</th>\n",
       "      <td>CNN Breaking US &amp; World News</td>\n",
       "      <td>NEWS_AND_MAGAZINES</td>\n",
       "      <td>4.0</td>\n",
       "      <td>293080</td>\n",
       "      <td>25M</td>\n",
       "      <td>10,000,000+</td>\n",
       "      <td>Free</td>\n",
       "      <td>0</td>\n",
       "      <td>Everyone 10+</td>\n",
       "      <td>News &amp; Magazines</td>\n",
       "      <td>August 6, 2018</td>\n",
       "      <td>5.17</td>\n",
       "      <td>4.4 and up</td>\n",
       "    </tr>\n",
       "    <tr>\n",
       "      <th>2645</th>\n",
       "      <td>LOVOO</td>\n",
       "      <td>SOCIAL</td>\n",
       "      <td>4.0</td>\n",
       "      <td>852455</td>\n",
       "      <td>68M</td>\n",
       "      <td>10,000,000+</td>\n",
       "      <td>Free</td>\n",
       "      <td>0</td>\n",
       "      <td>Mature 17+</td>\n",
       "      <td>Social</td>\n",
       "      <td>August 3, 2018</td>\n",
       "      <td>27.0</td>\n",
       "      <td>4.2 and up</td>\n",
       "    </tr>\n",
       "    <tr>\n",
       "      <th>2778</th>\n",
       "      <td>JackThreads: Men's Shopping</td>\n",
       "      <td>SHOPPING</td>\n",
       "      <td>4.0</td>\n",
       "      <td>13085</td>\n",
       "      <td>2.7M</td>\n",
       "      <td>1,000,000+</td>\n",
       "      <td>Free</td>\n",
       "      <td>0</td>\n",
       "      <td>Teen</td>\n",
       "      <td>Shopping</td>\n",
       "      <td>November 8, 2017</td>\n",
       "      <td>5.1</td>\n",
       "      <td>4.0.3 and up</td>\n",
       "    </tr>\n",
       "    <tr>\n",
       "      <th>2745</th>\n",
       "      <td>Shopkick: Free Gift Cards, Shop Rewards &amp; Deals</td>\n",
       "      <td>SHOPPING</td>\n",
       "      <td>4.3</td>\n",
       "      <td>213735</td>\n",
       "      <td>43M</td>\n",
       "      <td>10,000,000+</td>\n",
       "      <td>Free</td>\n",
       "      <td>0</td>\n",
       "      <td>Everyone</td>\n",
       "      <td>Shopping</td>\n",
       "      <td>July 24, 2018</td>\n",
       "      <td>5.3.73</td>\n",
       "      <td>4.4 and up</td>\n",
       "    </tr>\n",
       "    <tr>\n",
       "      <th>474</th>\n",
       "      <td>LINE: Free Calls &amp; Messages</td>\n",
       "      <td>COMMUNICATION</td>\n",
       "      <td>4.2</td>\n",
       "      <td>10790289</td>\n",
       "      <td>Varies with device</td>\n",
       "      <td>500,000,000+</td>\n",
       "      <td>Free</td>\n",
       "      <td>0</td>\n",
       "      <td>Everyone</td>\n",
       "      <td>Communication</td>\n",
       "      <td>July 26, 2018</td>\n",
       "      <td>Varies with device</td>\n",
       "      <td>Varies with device</td>\n",
       "    </tr>\n",
       "  </tbody>\n",
       "</table>\n",
       "</div>"
      ],
      "text/plain": [
       "                                                  App            Category  \\\n",
       "3811                     CNN Breaking US & World News  NEWS_AND_MAGAZINES   \n",
       "2645                                            LOVOO              SOCIAL   \n",
       "2778                      JackThreads: Men's Shopping            SHOPPING   \n",
       "2745  Shopkick: Free Gift Cards, Shop Rewards & Deals            SHOPPING   \n",
       "474                       LINE: Free Calls & Messages       COMMUNICATION   \n",
       "\n",
       "      Rating   Reviews                Size      Installs  Type Price  \\\n",
       "3811     4.0    293080                 25M   10,000,000+  Free     0   \n",
       "2645     4.0    852455                 68M   10,000,000+  Free     0   \n",
       "2778     4.0     13085                2.7M    1,000,000+  Free     0   \n",
       "2745     4.3    213735                 43M   10,000,000+  Free     0   \n",
       "474      4.2  10790289  Varies with device  500,000,000+  Free     0   \n",
       "\n",
       "     Content Rating            Genres      Last Updated         Current Ver  \\\n",
       "3811   Everyone 10+  News & Magazines    August 6, 2018                5.17   \n",
       "2645     Mature 17+            Social    August 3, 2018                27.0   \n",
       "2778           Teen          Shopping  November 8, 2017                 5.1   \n",
       "2745       Everyone          Shopping     July 24, 2018              5.3.73   \n",
       "474        Everyone     Communication     July 26, 2018  Varies with device   \n",
       "\n",
       "             Android Ver  \n",
       "3811          4.4 and up  \n",
       "2645          4.2 and up  \n",
       "2778        4.0.3 and up  \n",
       "2745          4.4 and up  \n",
       "474   Varies with device  "
      ]
     },
     "execution_count": 17,
     "metadata": {},
     "output_type": "execute_result"
    }
   ],
   "source": [
    "dup_df.sample(5)"
   ]
  },
  {
   "cell_type": "markdown",
   "id": "8fae27b0",
   "metadata": {},
   "source": [
    "Tiến hành loại bỏ các dòng bị lặp trong `app_df` và cập nhật lại biến `num_rows` thể hiện số dòng của dữ liệu."
   ]
  },
  {
   "cell_type": "code",
   "execution_count": 21,
   "id": "35f51c8d",
   "metadata": {},
   "outputs": [
    {
     "name": "stdout",
     "output_type": "stream",
     "text": [
      "[+] num_rows = 10358\n"
     ]
    }
   ],
   "source": [
    "app_df = app_df.drop_duplicates()\n",
    "num_rows = len(app_df)\n",
    "\n",
    "print(f'[+] num_rows = {num_rows}')"
   ]
  },
  {
   "cell_type": "markdown",
   "id": "805f86fe",
   "metadata": {},
   "source": [
    "# Đưa ra các câu hỏi có ý nghĩa cần trả lời"
   ]
  },
  {
   "cell_type": "markdown",
   "id": "9e8a90ef",
   "metadata": {},
   "source": [
    "* Câu hỏi là gì?\n",
    "* Nếu trả lời được câu hỏi thì sẽ có lợi ích gì?"
   ]
  },
  {
   "cell_type": "markdown",
   "id": "4fa09535",
   "metadata": {},
   "source": []
  },
  {
   "cell_type": "markdown",
   "id": "ea1f9587",
   "metadata": {},
   "source": [
    "# Tiền xử lý + phân tích dữ liệu để trả lời cho từng câu hỏi"
   ]
  },
  {
   "cell_type": "code",
   "execution_count": null,
   "id": "cdc8ba3c",
   "metadata": {},
   "outputs": [],
   "source": []
  },
  {
   "cell_type": "markdown",
   "id": "5d246619",
   "metadata": {},
   "source": [
    "# Nhìn lại quá trình làm đồ án"
   ]
  },
  {
   "cell_type": "markdown",
   "id": "2b9842a4",
   "metadata": {},
   "source": [
    "* Mỗi thành viên: Đã gặp những khó khăn gì? (Hay mọi\n",
    "chuyện đều thuận lợi)\n",
    "* Mỗi thành viên: Có học được gì hữu ích? (Hay không\n",
    "học được gì)\n",
    "* Nhóm: Nếu có thêm thời gian thì sẽ làm gì?"
   ]
  },
  {
   "cell_type": "markdown",
   "id": "8e12f3eb",
   "metadata": {},
   "source": []
  },
  {
   "cell_type": "markdown",
   "id": "07957761",
   "metadata": {},
   "source": [
    "# Tài liệu tham khảo"
   ]
  },
  {
   "cell_type": "markdown",
   "id": "ce4e80a1",
   "metadata": {},
   "source": []
  }
 ],
 "metadata": {
  "kernelspec": {
   "display_name": "Python 3 (ipykernel)",
   "language": "python",
   "name": "python3"
  },
  "language_info": {
   "codemirror_mode": {
    "name": "ipython",
    "version": 3
   },
   "file_extension": ".py",
   "mimetype": "text/x-python",
   "name": "python",
   "nbconvert_exporter": "python",
   "pygments_lexer": "ipython3",
   "version": "3.8.8"
  },
  "toc": {
   "base_numbering": "0",
   "nav_menu": {},
   "number_sections": true,
   "sideBar": true,
   "skip_h1_title": false,
   "title_cell": "Mục lục",
   "title_sidebar": "Contents",
   "toc_cell": false,
   "toc_position": {},
   "toc_section_display": true,
   "toc_window_display": false
  }
 },
 "nbformat": 4,
 "nbformat_minor": 5
}
