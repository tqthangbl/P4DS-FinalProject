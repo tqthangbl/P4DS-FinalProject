{
 "cells": [
  {
   "cell_type": "markdown",
   "id": "e474838c",
   "metadata": {},
   "source": [
    "# Thông tin đồ án"
   ]
  },
  {
   "cell_type": "markdown",
   "id": "fdfb51e4",
   "metadata": {},
   "source": [
    "## Thành viên"
   ]
  },
  {
   "cell_type": "markdown",
   "id": "40b1c777",
   "metadata": {},
   "source": [
    "|   MSSV   |      Họ tên     |   GitHub  |\n",
    "|:--------:|:---------------:|:---------:|\n",
    "| 18120120 | Trần Chí Hào    | haotrch   |\n",
    "| 18120147 | Trần Quốc Thắng | tqthangbl |"
   ]
  },
  {
   "cell_type": "markdown",
   "id": "5b2520d2",
   "metadata": {},
   "source": [
    "## Link thùng chứa GitHub"
   ]
  },
  {
   "cell_type": "markdown",
   "id": "0809edc8",
   "metadata": {},
   "source": [
    "[https://github.com/tqthangbl/P4DS-FinalProject](https://github.com/tqthangbl/P4DS-FinalProject)"
   ]
  },
  {
   "cell_type": "markdown",
   "id": "d59dbf9b",
   "metadata": {},
   "source": [
    "## Môi trường code"
   ]
  },
  {
   "cell_type": "markdown",
   "id": "70b1189b",
   "metadata": {},
   "source": [
    "- Code trên môi trường Linux\n",
    "- Dùng phiên bản các package như trong file \"min_ds-env.yml\""
   ]
  },
  {
   "cell_type": "code",
   "execution_count": 1,
   "id": "9ab7e51a",
   "metadata": {},
   "outputs": [
    {
     "data": {
      "text/plain": [
       "'/home/haoo/miniconda3/envs/min_ds-env/bin/python'"
      ]
     },
     "execution_count": 1,
     "metadata": {},
     "output_type": "execute_result"
    }
   ],
   "source": [
    "import sys\n",
    "sys.executable"
   ]
  },
  {
   "cell_type": "markdown",
   "id": "a96b6542",
   "metadata": {},
   "source": [
    "## Import các thư viện cần thiết"
   ]
  },
  {
   "cell_type": "code",
   "execution_count": 2,
   "id": "0b2f042a",
   "metadata": {},
   "outputs": [],
   "source": [
    "import pandas as pd\n",
    "import matplotlib.pyplot as plt\n",
    "import numpy as np"
   ]
  },
  {
   "cell_type": "markdown",
   "id": "5d6ef28c",
   "metadata": {},
   "source": [
    "# Thu thập dữ liệu"
   ]
  },
  {
   "cell_type": "markdown",
   "id": "d178d293",
   "metadata": {},
   "source": [
    "**Dữ liệu của bạn là về chủ đề gì và bạn lấy từ nguồn nào?**\n",
    "\n",
    "Bộ dữ liệu mà nhóm sử dụng có tên là \"Google Play Store Apps\", được lấy từ [Kaggle](https://www.kaggle.com/lava18/google-play-store-apps), chứa thông tin về hơn 10000 ứng dụng trên Google Play Store. Thời điểm bộ dữ liệu được đăng lên Kaggle là vào ngày 05/09/2018, lần cập nhật cuối là vào 03/02/2019.\n",
    "\n",
    "Có 2 file dữ liệu:\n",
    "1. `googleplaystore.csv`: Chứa các thông tin chi tiết về các ứng dụng thu thập được từ Google Play.\n",
    "2. `googleplaystore_user_reviews`: Chứa thông tin về 100 đánh giá liên quan nhất cho mỗi ứng dụng thu thập được từ Google Play.\n",
    "\n",
    "**Người ta có cho phép bạn dùng dữ liệu như này không? Ví dụ, bạn có thể xem thử license của dữ liệu là gì**\n",
    "\n",
    "\n",
    "License của dữ liệu là Creative Commons Attribution 3.0 Unported, theo như được nói ở [đây](https://creativecommons.org/licenses/by/3.0/), người ta cho phép:\n",
    "\n",
    "1. Copy và chia sẻ dữ liệu này dưới bất kì hình thức nào\n",
    "2. Sử dụng bộ dữ liệu này để xây dựng bất cứ thứ gì, cho bất cứ mục đích nào, kể cả thương mại\n",
    "\n",
    "**Người ta thu thập dữ liệu như thế nào?**\n",
    "\n",
    "Dữ liệu được tác giả crawl từ Google Play Store.\n"
   ]
  },
  {
   "cell_type": "markdown",
   "id": "e3023e5b",
   "metadata": {},
   "source": [
    "# Khám phá dữ liệu (đan xen với tiền xử lý)"
   ]
  },
  {
   "cell_type": "markdown",
   "id": "3aeb3353",
   "metadata": {},
   "source": [
    "## File `googleplaystore.csv`"
   ]
  },
  {
   "cell_type": "markdown",
   "id": "cbb640b4",
   "metadata": {},
   "source": [
    "Ở đây nhóm khám phá dữ liệu trong file `googleplaystore.csv` trước. Dữ liệu đọc từ file sẽ lưu vào dataframe `app_df`."
   ]
  },
  {
   "cell_type": "markdown",
   "id": "4a022ab0",
   "metadata": {},
   "source": [
    "### Đọc dữ liệu từ file csv vào dataframe"
   ]
  },
  {
   "cell_type": "code",
   "execution_count": 3,
   "id": "ba7acafe",
   "metadata": {},
   "outputs": [
    {
     "data": {
      "text/html": [
       "<div>\n",
       "<style scoped>\n",
       "    .dataframe tbody tr th:only-of-type {\n",
       "        vertical-align: middle;\n",
       "    }\n",
       "\n",
       "    .dataframe tbody tr th {\n",
       "        vertical-align: top;\n",
       "    }\n",
       "\n",
       "    .dataframe thead th {\n",
       "        text-align: right;\n",
       "    }\n",
       "</style>\n",
       "<table border=\"1\" class=\"dataframe\">\n",
       "  <thead>\n",
       "    <tr style=\"text-align: right;\">\n",
       "      <th></th>\n",
       "      <th>App</th>\n",
       "      <th>Category</th>\n",
       "      <th>Rating</th>\n",
       "      <th>Reviews</th>\n",
       "      <th>Size</th>\n",
       "      <th>Installs</th>\n",
       "      <th>Type</th>\n",
       "      <th>Price</th>\n",
       "      <th>Content Rating</th>\n",
       "      <th>Genres</th>\n",
       "      <th>Last Updated</th>\n",
       "      <th>Current Ver</th>\n",
       "      <th>Android Ver</th>\n",
       "    </tr>\n",
       "  </thead>\n",
       "  <tbody>\n",
       "    <tr>\n",
       "      <th>0</th>\n",
       "      <td>Photo Editor &amp; Candy Camera &amp; Grid &amp; ScrapBook</td>\n",
       "      <td>ART_AND_DESIGN</td>\n",
       "      <td>4.1</td>\n",
       "      <td>159</td>\n",
       "      <td>19M</td>\n",
       "      <td>10,000+</td>\n",
       "      <td>Free</td>\n",
       "      <td>0</td>\n",
       "      <td>Everyone</td>\n",
       "      <td>Art &amp; Design</td>\n",
       "      <td>January 7, 2018</td>\n",
       "      <td>1.0.0</td>\n",
       "      <td>4.0.3 and up</td>\n",
       "    </tr>\n",
       "    <tr>\n",
       "      <th>1</th>\n",
       "      <td>Coloring book moana</td>\n",
       "      <td>ART_AND_DESIGN</td>\n",
       "      <td>3.9</td>\n",
       "      <td>967</td>\n",
       "      <td>14M</td>\n",
       "      <td>500,000+</td>\n",
       "      <td>Free</td>\n",
       "      <td>0</td>\n",
       "      <td>Everyone</td>\n",
       "      <td>Art &amp; Design;Pretend Play</td>\n",
       "      <td>January 15, 2018</td>\n",
       "      <td>2.0.0</td>\n",
       "      <td>4.0.3 and up</td>\n",
       "    </tr>\n",
       "    <tr>\n",
       "      <th>2</th>\n",
       "      <td>U Launcher Lite – FREE Live Cool Themes, Hide ...</td>\n",
       "      <td>ART_AND_DESIGN</td>\n",
       "      <td>4.7</td>\n",
       "      <td>87510</td>\n",
       "      <td>8.7M</td>\n",
       "      <td>5,000,000+</td>\n",
       "      <td>Free</td>\n",
       "      <td>0</td>\n",
       "      <td>Everyone</td>\n",
       "      <td>Art &amp; Design</td>\n",
       "      <td>August 1, 2018</td>\n",
       "      <td>1.2.4</td>\n",
       "      <td>4.0.3 and up</td>\n",
       "    </tr>\n",
       "    <tr>\n",
       "      <th>3</th>\n",
       "      <td>Sketch - Draw &amp; Paint</td>\n",
       "      <td>ART_AND_DESIGN</td>\n",
       "      <td>4.5</td>\n",
       "      <td>215644</td>\n",
       "      <td>25M</td>\n",
       "      <td>50,000,000+</td>\n",
       "      <td>Free</td>\n",
       "      <td>0</td>\n",
       "      <td>Teen</td>\n",
       "      <td>Art &amp; Design</td>\n",
       "      <td>June 8, 2018</td>\n",
       "      <td>Varies with device</td>\n",
       "      <td>4.2 and up</td>\n",
       "    </tr>\n",
       "    <tr>\n",
       "      <th>4</th>\n",
       "      <td>Pixel Draw - Number Art Coloring Book</td>\n",
       "      <td>ART_AND_DESIGN</td>\n",
       "      <td>4.3</td>\n",
       "      <td>967</td>\n",
       "      <td>2.8M</td>\n",
       "      <td>100,000+</td>\n",
       "      <td>Free</td>\n",
       "      <td>0</td>\n",
       "      <td>Everyone</td>\n",
       "      <td>Art &amp; Design;Creativity</td>\n",
       "      <td>June 20, 2018</td>\n",
       "      <td>1.1</td>\n",
       "      <td>4.4 and up</td>\n",
       "    </tr>\n",
       "  </tbody>\n",
       "</table>\n",
       "</div>"
      ],
      "text/plain": [
       "                                                 App        Category  Rating  \\\n",
       "0     Photo Editor & Candy Camera & Grid & ScrapBook  ART_AND_DESIGN     4.1   \n",
       "1                                Coloring book moana  ART_AND_DESIGN     3.9   \n",
       "2  U Launcher Lite – FREE Live Cool Themes, Hide ...  ART_AND_DESIGN     4.7   \n",
       "3                              Sketch - Draw & Paint  ART_AND_DESIGN     4.5   \n",
       "4              Pixel Draw - Number Art Coloring Book  ART_AND_DESIGN     4.3   \n",
       "\n",
       "  Reviews  Size     Installs  Type Price Content Rating  \\\n",
       "0     159   19M      10,000+  Free     0       Everyone   \n",
       "1     967   14M     500,000+  Free     0       Everyone   \n",
       "2   87510  8.7M   5,000,000+  Free     0       Everyone   \n",
       "3  215644   25M  50,000,000+  Free     0           Teen   \n",
       "4     967  2.8M     100,000+  Free     0       Everyone   \n",
       "\n",
       "                      Genres      Last Updated         Current Ver  \\\n",
       "0               Art & Design   January 7, 2018               1.0.0   \n",
       "1  Art & Design;Pretend Play  January 15, 2018               2.0.0   \n",
       "2               Art & Design    August 1, 2018               1.2.4   \n",
       "3               Art & Design      June 8, 2018  Varies with device   \n",
       "4    Art & Design;Creativity     June 20, 2018                 1.1   \n",
       "\n",
       "    Android Ver  \n",
       "0  4.0.3 and up  \n",
       "1  4.0.3 and up  \n",
       "2  4.0.3 and up  \n",
       "3    4.2 and up  \n",
       "4    4.4 and up  "
      ]
     },
     "execution_count": 3,
     "metadata": {},
     "output_type": "execute_result"
    }
   ],
   "source": [
    "app_df = pd.read_csv('Data/googleplaystore.csv')\n",
    "app_df.head()"
   ]
  },
  {
   "cell_type": "markdown",
   "id": "783783e7",
   "metadata": {},
   "source": [
    "### Dữ liệu có bao nhiêu dòng và bao nhiêu cột?"
   ]
  },
  {
   "cell_type": "code",
   "execution_count": 4,
   "id": "0e56e191",
   "metadata": {},
   "outputs": [
    {
     "name": "stdout",
     "output_type": "stream",
     "text": [
      "[+] num_rows = 10841\n",
      "[+] num_cols = 13\n"
     ]
    }
   ],
   "source": [
    "def get_app_df_shape():\n",
    "    app_num_rows, app_num_cols = app_df.shape\n",
    "    print(f'[+] num_rows = {app_num_rows}')\n",
    "    print(f'[+] num_cols = {app_num_cols}')\n",
    "    \n",
    "get_app_df_shape()"
   ]
  },
  {
   "cell_type": "markdown",
   "id": "da381ba9",
   "metadata": {},
   "source": [
    "Dữ liệu có 10841 dòng và 13 cột."
   ]
  },
  {
   "cell_type": "markdown",
   "id": "418648d2",
   "metadata": {},
   "source": [
    "### Mỗi dòng có ý nghĩa gì? Có vấn đề các dòng có ý nghĩa khác nhau không?"
   ]
  },
  {
   "cell_type": "code",
   "execution_count": 5,
   "id": "693a7099",
   "metadata": {},
   "outputs": [
    {
     "data": {
      "text/html": [
       "<div>\n",
       "<style scoped>\n",
       "    .dataframe tbody tr th:only-of-type {\n",
       "        vertical-align: middle;\n",
       "    }\n",
       "\n",
       "    .dataframe tbody tr th {\n",
       "        vertical-align: top;\n",
       "    }\n",
       "\n",
       "    .dataframe thead th {\n",
       "        text-align: right;\n",
       "    }\n",
       "</style>\n",
       "<table border=\"1\" class=\"dataframe\">\n",
       "  <thead>\n",
       "    <tr style=\"text-align: right;\">\n",
       "      <th></th>\n",
       "      <th>App</th>\n",
       "      <th>Category</th>\n",
       "      <th>Rating</th>\n",
       "      <th>Reviews</th>\n",
       "      <th>Size</th>\n",
       "      <th>Installs</th>\n",
       "      <th>Type</th>\n",
       "      <th>Price</th>\n",
       "      <th>Content Rating</th>\n",
       "      <th>Genres</th>\n",
       "      <th>Last Updated</th>\n",
       "      <th>Current Ver</th>\n",
       "      <th>Android Ver</th>\n",
       "    </tr>\n",
       "  </thead>\n",
       "  <tbody>\n",
       "    <tr>\n",
       "      <th>8571</th>\n",
       "      <td>Interactive NPC DM Tool</td>\n",
       "      <td>FAMILY</td>\n",
       "      <td>2.8</td>\n",
       "      <td>5</td>\n",
       "      <td>629k</td>\n",
       "      <td>50+</td>\n",
       "      <td>Paid</td>\n",
       "      <td>$0.99</td>\n",
       "      <td>Everyone</td>\n",
       "      <td>Role Playing</td>\n",
       "      <td>January 31, 2015</td>\n",
       "      <td>1.0.0</td>\n",
       "      <td>2.3.3 and up</td>\n",
       "    </tr>\n",
       "    <tr>\n",
       "      <th>2504</th>\n",
       "      <td>PulsePoint AED</td>\n",
       "      <td>MEDICAL</td>\n",
       "      <td>4.5</td>\n",
       "      <td>330</td>\n",
       "      <td>17M</td>\n",
       "      <td>50,000+</td>\n",
       "      <td>Free</td>\n",
       "      <td>0</td>\n",
       "      <td>Everyone</td>\n",
       "      <td>Medical</td>\n",
       "      <td>July 31, 2018</td>\n",
       "      <td>1.12</td>\n",
       "      <td>4.0.3 and up</td>\n",
       "    </tr>\n",
       "    <tr>\n",
       "      <th>764</th>\n",
       "      <td>Learn SQL</td>\n",
       "      <td>EDUCATION</td>\n",
       "      <td>4.7</td>\n",
       "      <td>19277</td>\n",
       "      <td>5.3M</td>\n",
       "      <td>1,000,000+</td>\n",
       "      <td>Free</td>\n",
       "      <td>0</td>\n",
       "      <td>Everyone</td>\n",
       "      <td>Education</td>\n",
       "      <td>December 25, 2017</td>\n",
       "      <td>3.4.2</td>\n",
       "      <td>4.0 and up</td>\n",
       "    </tr>\n",
       "    <tr>\n",
       "      <th>2126</th>\n",
       "      <td>Touch Racing 2 - Mini RC Race</td>\n",
       "      <td>FAMILY</td>\n",
       "      <td>4.1</td>\n",
       "      <td>41867</td>\n",
       "      <td>78M</td>\n",
       "      <td>1,000,000+</td>\n",
       "      <td>Free</td>\n",
       "      <td>0</td>\n",
       "      <td>Everyone</td>\n",
       "      <td>Racing;Action &amp; Adventure</td>\n",
       "      <td>May 18, 2017</td>\n",
       "      <td>1.4.2.1</td>\n",
       "      <td>2.3.3 and up</td>\n",
       "    </tr>\n",
       "    <tr>\n",
       "      <th>2391</th>\n",
       "      <td>Complete Anatomy for Android</td>\n",
       "      <td>MEDICAL</td>\n",
       "      <td>4.1</td>\n",
       "      <td>90</td>\n",
       "      <td>21M</td>\n",
       "      <td>1,000+</td>\n",
       "      <td>Free</td>\n",
       "      <td>0</td>\n",
       "      <td>Everyone</td>\n",
       "      <td>Medical</td>\n",
       "      <td>July 11, 2018</td>\n",
       "      <td>1.0.0</td>\n",
       "      <td>7.0 and up</td>\n",
       "    </tr>\n",
       "  </tbody>\n",
       "</table>\n",
       "</div>"
      ],
      "text/plain": [
       "                                App   Category  Rating Reviews  Size  \\\n",
       "8571        Interactive NPC DM Tool     FAMILY     2.8       5  629k   \n",
       "2504                 PulsePoint AED    MEDICAL     4.5     330   17M   \n",
       "764                       Learn SQL  EDUCATION     4.7   19277  5.3M   \n",
       "2126  Touch Racing 2 - Mini RC Race     FAMILY     4.1   41867   78M   \n",
       "2391   Complete Anatomy for Android    MEDICAL     4.1      90   21M   \n",
       "\n",
       "        Installs  Type  Price Content Rating                     Genres  \\\n",
       "8571         50+  Paid  $0.99       Everyone               Role Playing   \n",
       "2504     50,000+  Free      0       Everyone                    Medical   \n",
       "764   1,000,000+  Free      0       Everyone                  Education   \n",
       "2126  1,000,000+  Free      0       Everyone  Racing;Action & Adventure   \n",
       "2391      1,000+  Free      0       Everyone                    Medical   \n",
       "\n",
       "           Last Updated Current Ver   Android Ver  \n",
       "8571   January 31, 2015       1.0.0  2.3.3 and up  \n",
       "2504      July 31, 2018        1.12  4.0.3 and up  \n",
       "764   December 25, 2017       3.4.2    4.0 and up  \n",
       "2126       May 18, 2017     1.4.2.1  2.3.3 and up  \n",
       "2391      July 11, 2018       1.0.0    7.0 and up  "
      ]
     },
     "execution_count": 5,
     "metadata": {},
     "output_type": "execute_result"
    }
   ],
   "source": [
    "app_df.sample(5)"
   ]
  },
  {
   "cell_type": "markdown",
   "id": "897658f5",
   "metadata": {},
   "source": [
    "Theo như mô tả của tác giả, mỗi dòng trong dữ liệu chứa thông tin của 1 ứng dụng trên Play Store. Bằng việc quan sát ngẫu nhiên các dòng trong dữ liệu nhiều lần, có vẻ không có dòng nào mang ý nghĩa khác."
   ]
  },
  {
   "cell_type": "markdown",
   "id": "57462db6",
   "metadata": {},
   "source": [
    "### Mỗi cột có ý nghĩa gì?"
   ]
  },
  {
   "cell_type": "markdown",
   "id": "def2841a",
   "metadata": {},
   "source": [
    "Theo mô tả dữ liệu, các cột có ý nghĩa như sau:\n",
    "* **App**: Tên ứng dụng\n",
    "* **Category**: Hạng mục chính mà ứng dụng thuộc về\n",
    "* **Rating**: Mức đánh giá tổng thể của ứng dụng (tại thời điểm thu thập dữ liệu)\n",
    "* **Reviews**: Số lượng người đánh giá ứng dụng (tại thời điểm thu thập dữ liệu)\n",
    "* **Size**: Kích thước ứng dụng (tại thời điểm thu thập dữ liệu)\n",
    "* **Installs**: Số lượng người tải xuống / cài đặt ứng dụng (tại thời điểm thu thập dữ liệu)\n",
    "* **Type**: Kiểu ứng dụng miễn phí (Free) hay trả phí (Paid)\n",
    "* **Price**: Số tiền trả phí của ứng dụng (tại thời điểm thu thập dữ liệu)\n",
    "* **Content Rating**: Nhóm độ tuổi mà ứng dụng nhắm đến\n",
    "* **Genres**: Các thể loại mà ứng dụng thuộc về (có thể bao gồm cả hạng mục chính)\n",
    "* **Last Updated**: Ngày cuối cùng mà ứng dụng được cập nhật trên Store (tại thời điểm thu thập dữ liệu)\n",
    "* **Current Ver**: Phiên bản hiện tại của ứng dụng có mặt trên Store (tại thời điểm thu thập dữ liệu)\n",
    "* **Android Ver**: Phiên bản Android yêu cầu tối thiểu (tại thời điểm thu thập dữ liệu)"
   ]
  },
  {
   "cell_type": "markdown",
   "id": "6c143de7",
   "metadata": {},
   "source": [
    "### Dữ liệu có các dòng bị lặp không?"
   ]
  },
  {
   "cell_type": "markdown",
   "id": "e60b64f1",
   "metadata": {},
   "source": [
    "Xét dữ liệu có tồn tại các dòng bị lặp hay không:"
   ]
  },
  {
   "cell_type": "code",
   "execution_count": 6,
   "id": "d6e54d36",
   "metadata": {},
   "outputs": [
    {
     "data": {
      "text/plain": [
       "True"
      ]
     },
     "execution_count": 6,
     "metadata": {},
     "output_type": "execute_result"
    }
   ],
   "source": [
    "app_df.duplicated().sum() > 0"
   ]
  },
  {
   "cell_type": "markdown",
   "id": "baa14881",
   "metadata": {},
   "source": [
    "#### Tiền xử lý loại bỏ các dòng trùng lặp"
   ]
  },
  {
   "cell_type": "markdown",
   "id": "6d918b83",
   "metadata": {},
   "source": [
    "Do dữ liệu tồn tại các dòng bị lặp, và tuy là Play Store cho phép 2 ứng dụng có thể trùng tên, nhưng rất khó để 2 ứng dụng có thể trùng toàn bộ thông tin trong 12 cột còn lại. Do đó những dòng bị lặp này là của cùng 1 ứng dụng, vì vậy cần phải loại bỏ chúng."
   ]
  },
  {
   "cell_type": "code",
   "execution_count": 7,
   "id": "8e2c9864",
   "metadata": {
    "scrolled": true
   },
   "outputs": [
    {
     "data": {
      "text/html": [
       "<div>\n",
       "<style scoped>\n",
       "    .dataframe tbody tr th:only-of-type {\n",
       "        vertical-align: middle;\n",
       "    }\n",
       "\n",
       "    .dataframe tbody tr th {\n",
       "        vertical-align: top;\n",
       "    }\n",
       "\n",
       "    .dataframe thead th {\n",
       "        text-align: right;\n",
       "    }\n",
       "</style>\n",
       "<table border=\"1\" class=\"dataframe\">\n",
       "  <thead>\n",
       "    <tr style=\"text-align: right;\">\n",
       "      <th></th>\n",
       "      <th>App</th>\n",
       "      <th>Category</th>\n",
       "      <th>Rating</th>\n",
       "      <th>Reviews</th>\n",
       "      <th>Size</th>\n",
       "      <th>Installs</th>\n",
       "      <th>Type</th>\n",
       "      <th>Price</th>\n",
       "      <th>Content Rating</th>\n",
       "      <th>Genres</th>\n",
       "      <th>Last Updated</th>\n",
       "      <th>Current Ver</th>\n",
       "      <th>Android Ver</th>\n",
       "    </tr>\n",
       "  </thead>\n",
       "  <tbody>\n",
       "    <tr>\n",
       "      <th>0</th>\n",
       "      <td>Photo Editor &amp; Candy Camera &amp; Grid &amp; ScrapBook</td>\n",
       "      <td>ART_AND_DESIGN</td>\n",
       "      <td>4.1</td>\n",
       "      <td>159</td>\n",
       "      <td>19M</td>\n",
       "      <td>10,000+</td>\n",
       "      <td>Free</td>\n",
       "      <td>0</td>\n",
       "      <td>Everyone</td>\n",
       "      <td>Art &amp; Design</td>\n",
       "      <td>January 7, 2018</td>\n",
       "      <td>1.0.0</td>\n",
       "      <td>4.0.3 and up</td>\n",
       "    </tr>\n",
       "    <tr>\n",
       "      <th>1</th>\n",
       "      <td>Coloring book moana</td>\n",
       "      <td>ART_AND_DESIGN</td>\n",
       "      <td>3.9</td>\n",
       "      <td>967</td>\n",
       "      <td>14M</td>\n",
       "      <td>500,000+</td>\n",
       "      <td>Free</td>\n",
       "      <td>0</td>\n",
       "      <td>Everyone</td>\n",
       "      <td>Art &amp; Design;Pretend Play</td>\n",
       "      <td>January 15, 2018</td>\n",
       "      <td>2.0.0</td>\n",
       "      <td>4.0.3 and up</td>\n",
       "    </tr>\n",
       "    <tr>\n",
       "      <th>2</th>\n",
       "      <td>U Launcher Lite – FREE Live Cool Themes, Hide ...</td>\n",
       "      <td>ART_AND_DESIGN</td>\n",
       "      <td>4.7</td>\n",
       "      <td>87510</td>\n",
       "      <td>8.7M</td>\n",
       "      <td>5,000,000+</td>\n",
       "      <td>Free</td>\n",
       "      <td>0</td>\n",
       "      <td>Everyone</td>\n",
       "      <td>Art &amp; Design</td>\n",
       "      <td>August 1, 2018</td>\n",
       "      <td>1.2.4</td>\n",
       "      <td>4.0.3 and up</td>\n",
       "    </tr>\n",
       "    <tr>\n",
       "      <th>3</th>\n",
       "      <td>Sketch - Draw &amp; Paint</td>\n",
       "      <td>ART_AND_DESIGN</td>\n",
       "      <td>4.5</td>\n",
       "      <td>215644</td>\n",
       "      <td>25M</td>\n",
       "      <td>50,000,000+</td>\n",
       "      <td>Free</td>\n",
       "      <td>0</td>\n",
       "      <td>Teen</td>\n",
       "      <td>Art &amp; Design</td>\n",
       "      <td>June 8, 2018</td>\n",
       "      <td>Varies with device</td>\n",
       "      <td>4.2 and up</td>\n",
       "    </tr>\n",
       "    <tr>\n",
       "      <th>4</th>\n",
       "      <td>Pixel Draw - Number Art Coloring Book</td>\n",
       "      <td>ART_AND_DESIGN</td>\n",
       "      <td>4.3</td>\n",
       "      <td>967</td>\n",
       "      <td>2.8M</td>\n",
       "      <td>100,000+</td>\n",
       "      <td>Free</td>\n",
       "      <td>0</td>\n",
       "      <td>Everyone</td>\n",
       "      <td>Art &amp; Design;Creativity</td>\n",
       "      <td>June 20, 2018</td>\n",
       "      <td>1.1</td>\n",
       "      <td>4.4 and up</td>\n",
       "    </tr>\n",
       "  </tbody>\n",
       "</table>\n",
       "</div>"
      ],
      "text/plain": [
       "                                                 App        Category  Rating  \\\n",
       "0     Photo Editor & Candy Camera & Grid & ScrapBook  ART_AND_DESIGN     4.1   \n",
       "1                                Coloring book moana  ART_AND_DESIGN     3.9   \n",
       "2  U Launcher Lite – FREE Live Cool Themes, Hide ...  ART_AND_DESIGN     4.7   \n",
       "3                              Sketch - Draw & Paint  ART_AND_DESIGN     4.5   \n",
       "4              Pixel Draw - Number Art Coloring Book  ART_AND_DESIGN     4.3   \n",
       "\n",
       "  Reviews  Size     Installs  Type Price Content Rating  \\\n",
       "0     159   19M      10,000+  Free     0       Everyone   \n",
       "1     967   14M     500,000+  Free     0       Everyone   \n",
       "2   87510  8.7M   5,000,000+  Free     0       Everyone   \n",
       "3  215644   25M  50,000,000+  Free     0           Teen   \n",
       "4     967  2.8M     100,000+  Free     0       Everyone   \n",
       "\n",
       "                      Genres      Last Updated         Current Ver  \\\n",
       "0               Art & Design   January 7, 2018               1.0.0   \n",
       "1  Art & Design;Pretend Play  January 15, 2018               2.0.0   \n",
       "2               Art & Design    August 1, 2018               1.2.4   \n",
       "3               Art & Design      June 8, 2018  Varies with device   \n",
       "4    Art & Design;Creativity     June 20, 2018                 1.1   \n",
       "\n",
       "    Android Ver  \n",
       "0  4.0.3 and up  \n",
       "1  4.0.3 and up  \n",
       "2  4.0.3 and up  \n",
       "3    4.2 and up  \n",
       "4    4.4 and up  "
      ]
     },
     "execution_count": 7,
     "metadata": {},
     "output_type": "execute_result"
    }
   ],
   "source": [
    "app_df = app_df.drop_duplicates()\n",
    "app_df.head()"
   ]
  },
  {
   "cell_type": "code",
   "execution_count": 8,
   "id": "fe9f191d",
   "metadata": {
    "scrolled": true
   },
   "outputs": [
    {
     "name": "stdout",
     "output_type": "stream",
     "text": [
      "[+] num_rows = 10358\n",
      "[+] num_cols = 13\n"
     ]
    }
   ],
   "source": [
    "get_app_df_shape()"
   ]
  },
  {
   "cell_type": "markdown",
   "id": "5940ffaf",
   "metadata": {},
   "source": [
    "Số dòng của dữ liệu sau khi loại bỏ các dòng bị lặp, chỉ còn lại 10358 dòng."
   ]
  },
  {
   "cell_type": "markdown",
   "id": "bcc0474f",
   "metadata": {},
   "source": [
    "### Mỗi cột hiện đang có kiểu dữ liệu gì? Có cột nào có kiểu dữ liệu chưa phù hợp để có thể xử lý tiếp không?"
   ]
  },
  {
   "cell_type": "markdown",
   "id": "9521fec1",
   "metadata": {},
   "source": [
    "Trước hết lấy ra `dtypes` của các cột, lưu vào series `col_dtypes`, và in ra để quan sát."
   ]
  },
  {
   "cell_type": "code",
   "execution_count": 9,
   "id": "5df5d8f7",
   "metadata": {},
   "outputs": [
    {
     "data": {
      "text/plain": [
       "App                object\n",
       "Category           object\n",
       "Rating            float64\n",
       "Reviews            object\n",
       "Size               object\n",
       "Installs           object\n",
       "Type               object\n",
       "Price              object\n",
       "Content Rating     object\n",
       "Genres             object\n",
       "Last Updated       object\n",
       "Current Ver        object\n",
       "Android Ver        object\n",
       "dtype: object"
      ]
     },
     "execution_count": 9,
     "metadata": {},
     "output_type": "execute_result"
    }
   ],
   "source": [
    "col_dtypes = app_df.dtypes\n",
    "col_dtypes"
   ]
  },
  {
   "cell_type": "markdown",
   "id": "7d9aa87e",
   "metadata": {},
   "source": [
    "Cột `Rating` thể hiện đánh giá của người dùng cho ứng dụng, là 1 con số nên kiểu `float64` là hợp lý. Các cột còn lại đang có kiểu `object`. Kiểu `object` trong Pandas thường là chuỗi, nhưng cũng có thể là một đối tượng bất kỳ. Do đó, trong các cột thuộc kiểu `object`, có thể chứa những giá trị thuộc các kiểu dữ liệu khác nhau. Ta phải kiểm tra điều này bằng cách: với mỗi cột, áp dụng lệnh `type` lên từng phần tử trong cột đó để xem kiểu dữ liệu thật sự của chúng. Hàm `open_object_dtype` sẽ nhận input là 1 series `s`, trả về 1 set là tập các kiểu dữ liệu có trong series đó. Khi xem kết quả hàm `open_object_dtype` của từng cột, ta cũng xem luôn cột đó mang các giá trị phân biệt nào để xem có điều gì bất thường hay không."
   ]
  },
  {
   "cell_type": "code",
   "execution_count": 10,
   "id": "5b99dfca",
   "metadata": {
    "scrolled": true
   },
   "outputs": [
    {
     "name": "stdout",
     "output_type": "stream",
     "text": [
      "[+] Column App dtypes: \n",
      "{<class 'str'>}\n",
      "['Photo Editor & Candy Camera & Grid & ScrapBook' 'Coloring book moana'\n",
      " 'U Launcher Lite – FREE Live Cool Themes, Hide Apps' ...\n",
      " 'Parkinson Exercices FR' 'The SCP Foundation DB fr nn5n'\n",
      " 'iHoroscope - 2018 Daily Horoscope & Astrology']\n",
      "\n",
      "[+] Column Category dtypes: \n",
      "{<class 'str'>}\n",
      "['ART_AND_DESIGN' 'AUTO_AND_VEHICLES' 'BEAUTY' 'BOOKS_AND_REFERENCE'\n",
      " 'BUSINESS' 'COMICS' 'COMMUNICATION' 'DATING' 'EDUCATION' 'ENTERTAINMENT'\n",
      " 'EVENTS' 'FINANCE' 'FOOD_AND_DRINK' 'HEALTH_AND_FITNESS' 'HOUSE_AND_HOME'\n",
      " 'LIBRARIES_AND_DEMO' 'LIFESTYLE' 'GAME' 'FAMILY' 'MEDICAL' 'SOCIAL'\n",
      " 'SHOPPING' 'PHOTOGRAPHY' 'SPORTS' 'TRAVEL_AND_LOCAL' 'TOOLS'\n",
      " 'PERSONALIZATION' 'PRODUCTIVITY' 'PARENTING' 'WEATHER' 'VIDEO_PLAYERS'\n",
      " 'NEWS_AND_MAGAZINES' 'MAPS_AND_NAVIGATION' '1.9']\n",
      "\n",
      "[+] Column Reviews dtypes: \n",
      "{<class 'str'>}\n",
      "['159' '967' '87510' ... '603' '1195' '398307']\n",
      "\n",
      "[+] Column Size dtypes: \n",
      "{<class 'str'>}\n",
      "['19M' '14M' '8.7M' '25M' '2.8M' '5.6M' '29M' '33M' '3.1M' '28M' '12M'\n",
      " '20M' '21M' '37M' '2.7M' '5.5M' '17M' '39M' '31M' '4.2M' '7.0M' '23M'\n",
      " '6.0M' '6.1M' '4.6M' '9.2M' '5.2M' '11M' '24M' 'Varies with device'\n",
      " '9.4M' '15M' '10M' '1.2M' '26M' '8.0M' '7.9M' '56M' '57M' '35M' '54M'\n",
      " '201k' '3.6M' '5.7M' '8.6M' '2.4M' '27M' '2.5M' '16M' '3.4M' '8.9M'\n",
      " '3.9M' '2.9M' '38M' '32M' '5.4M' '18M' '1.1M' '2.2M' '4.5M' '9.8M' '52M'\n",
      " '9.0M' '6.7M' '30M' '2.6M' '7.1M' '3.7M' '22M' '7.4M' '6.4M' '3.2M'\n",
      " '8.2M' '9.9M' '4.9M' '9.5M' '5.0M' '5.9M' '13M' '73M' '6.8M' '3.5M'\n",
      " '4.0M' '2.3M' '7.2M' '2.1M' '42M' '7.3M' '9.1M' '55M' '23k' '6.5M' '1.5M'\n",
      " '7.5M' '51M' '41M' '48M' '8.5M' '46M' '8.3M' '4.3M' '4.7M' '3.3M' '40M'\n",
      " '7.8M' '8.8M' '6.6M' '5.1M' '61M' '66M' '79k' '8.4M' '118k' '44M' '695k'\n",
      " '1.6M' '6.2M' '18k' '53M' '1.4M' '3.0M' '5.8M' '3.8M' '9.6M' '45M' '63M'\n",
      " '49M' '77M' '4.4M' '4.8M' '70M' '6.9M' '9.3M' '10.0M' '8.1M' '36M' '84M'\n",
      " '97M' '2.0M' '1.9M' '1.8M' '5.3M' '47M' '556k' '526k' '76M' '7.6M' '59M'\n",
      " '9.7M' '78M' '72M' '43M' '7.7M' '6.3M' '334k' '34M' '93M' '65M' '79M'\n",
      " '100M' '58M' '50M' '68M' '64M' '67M' '60M' '94M' '232k' '99M' '624k'\n",
      " '95M' '8.5k' '41k' '292k' '11k' '80M' '1.7M' '74M' '62M' '69M' '75M'\n",
      " '98M' '85M' '82M' '96M' '87M' '71M' '86M' '91M' '81M' '92M' '83M' '88M'\n",
      " '704k' '862k' '899k' '378k' '266k' '375k' '1.3M' '975k' '980k' '4.1M'\n",
      " '89M' '696k' '544k' '525k' '920k' '779k' '853k' '720k' '713k' '772k'\n",
      " '318k' '58k' '241k' '196k' '857k' '51k' '953k' '865k' '251k' '930k'\n",
      " '540k' '313k' '746k' '203k' '26k' '314k' '239k' '371k' '220k' '730k'\n",
      " '756k' '91k' '293k' '17k' '74k' '14k' '317k' '78k' '924k' '902k' '818k'\n",
      " '81k' '939k' '169k' '45k' '475k' '965k' '90M' '545k' '61k' '283k' '655k'\n",
      " '714k' '93k' '872k' '121k' '322k' '1.0M' '976k' '172k' '238k' '549k'\n",
      " '206k' '954k' '444k' '717k' '210k' '609k' '308k' '705k' '306k' '904k'\n",
      " '473k' '175k' '350k' '383k' '454k' '421k' '70k' '812k' '442k' '842k'\n",
      " '417k' '412k' '459k' '478k' '335k' '782k' '721k' '430k' '429k' '192k'\n",
      " '200k' '460k' '728k' '496k' '816k' '414k' '506k' '887k' '613k' '243k'\n",
      " '569k' '778k' '683k' '592k' '319k' '186k' '840k' '647k' '191k' '373k'\n",
      " '437k' '598k' '716k' '585k' '982k' '222k' '219k' '55k' '948k' '323k'\n",
      " '691k' '511k' '951k' '963k' '25k' '554k' '351k' '27k' '82k' '208k' '913k'\n",
      " '514k' '551k' '29k' '103k' '898k' '743k' '116k' '153k' '209k' '353k'\n",
      " '499k' '173k' '597k' '809k' '122k' '411k' '400k' '801k' '787k' '237k'\n",
      " '50k' '643k' '986k' '97k' '516k' '837k' '780k' '961k' '269k' '20k' '498k'\n",
      " '600k' '749k' '642k' '881k' '72k' '656k' '601k' '221k' '228k' '108k'\n",
      " '940k' '176k' '33k' '663k' '34k' '942k' '259k' '164k' '458k' '245k'\n",
      " '629k' '28k' '288k' '775k' '785k' '636k' '916k' '994k' '309k' '485k'\n",
      " '914k' '903k' '608k' '500k' '54k' '562k' '847k' '957k' '688k' '811k'\n",
      " '270k' '48k' '329k' '523k' '921k' '874k' '981k' '784k' '280k' '24k'\n",
      " '518k' '754k' '892k' '154k' '860k' '364k' '387k' '626k' '161k' '879k'\n",
      " '39k' '970k' '170k' '141k' '160k' '144k' '143k' '190k' '376k' '193k'\n",
      " '246k' '73k' '658k' '992k' '253k' '420k' '404k' '1,000+' '470k' '226k'\n",
      " '240k' '89k' '234k' '257k' '861k' '467k' '157k' '44k' '676k' '67k' '552k'\n",
      " '885k' '1020k' '582k' '619k']\n",
      "\n",
      "[+] Column Installs dtypes: \n",
      "{<class 'str'>}\n",
      "['10,000+' '500,000+' '5,000,000+' '50,000,000+' '100,000+' '50,000+'\n",
      " '1,000,000+' '10,000,000+' '5,000+' '100,000,000+' '1,000,000,000+'\n",
      " '1,000+' '500,000,000+' '50+' '100+' '500+' '10+' '1+' '5+' '0+' '0'\n",
      " 'Free']\n",
      "\n",
      "[+] Column Type dtypes: \n",
      "{<class 'str'>, <class 'float'>}\n",
      "['Free' 'Paid' nan '0']\n",
      "\n",
      "[+] Column Price dtypes: \n",
      "{<class 'str'>}\n",
      "['0' '$4.99' '$3.99' '$6.99' '$1.49' '$2.99' '$7.99' '$5.99' '$3.49'\n",
      " '$1.99' '$9.99' '$7.49' '$0.99' '$9.00' '$5.49' '$10.00' '$24.99'\n",
      " '$11.99' '$79.99' '$16.99' '$14.99' '$1.00' '$29.99' '$12.99' '$2.49'\n",
      " '$10.99' '$1.50' '$19.99' '$15.99' '$33.99' '$74.99' '$39.99' '$3.95'\n",
      " '$4.49' '$1.70' '$8.99' '$2.00' '$3.88' '$25.99' '$399.99' '$17.99'\n",
      " '$400.00' '$3.02' '$1.76' '$4.84' '$4.77' '$1.61' '$2.50' '$1.59' '$6.49'\n",
      " '$1.29' '$5.00' '$13.99' '$299.99' '$379.99' '$37.99' '$18.99' '$389.99'\n",
      " '$19.90' '$8.49' '$1.75' '$14.00' '$4.85' '$46.99' '$109.99' '$154.99'\n",
      " '$3.08' '$2.59' '$4.80' '$1.96' '$19.40' '$3.90' '$4.59' '$15.46' '$3.04'\n",
      " '$4.29' '$2.60' '$3.28' '$4.60' '$28.99' '$2.95' '$2.90' '$1.97'\n",
      " '$200.00' '$89.99' '$2.56' '$30.99' '$3.61' '$394.99' '$1.26' 'Everyone'\n",
      " '$1.20' '$1.04']\n",
      "\n",
      "[+] Column Content Rating dtypes: \n",
      "{<class 'str'>, <class 'float'>}\n",
      "['Everyone' 'Teen' 'Everyone 10+' 'Mature 17+' 'Adults only 18+' 'Unrated'\n",
      " nan]\n",
      "\n",
      "[+] Column Genres dtypes: \n",
      "{<class 'str'>}\n",
      "['Art & Design' 'Art & Design;Pretend Play' 'Art & Design;Creativity'\n",
      " 'Art & Design;Action & Adventure' 'Auto & Vehicles' 'Beauty'\n",
      " 'Books & Reference' 'Business' 'Comics' 'Comics;Creativity'\n",
      " 'Communication' 'Dating' 'Education;Education' 'Education'\n",
      " 'Education;Creativity' 'Education;Music & Video'\n",
      " 'Education;Action & Adventure' 'Education;Pretend Play'\n",
      " 'Education;Brain Games' 'Entertainment' 'Entertainment;Music & Video'\n",
      " 'Entertainment;Brain Games' 'Entertainment;Creativity' 'Events' 'Finance'\n",
      " 'Food & Drink' 'Health & Fitness' 'House & Home' 'Libraries & Demo'\n",
      " 'Lifestyle' 'Lifestyle;Pretend Play' 'Adventure;Action & Adventure'\n",
      " 'Arcade' 'Casual' 'Card' 'Casual;Pretend Play' 'Action' 'Strategy'\n",
      " 'Puzzle' 'Sports' 'Music' 'Word' 'Racing' 'Casual;Creativity'\n",
      " 'Casual;Action & Adventure' 'Simulation' 'Adventure' 'Board' 'Trivia'\n",
      " 'Role Playing' 'Simulation;Education' 'Action;Action & Adventure'\n",
      " 'Casual;Brain Games' 'Simulation;Action & Adventure'\n",
      " 'Educational;Creativity' 'Puzzle;Brain Games' 'Educational;Education'\n",
      " 'Card;Brain Games' 'Educational;Brain Games' 'Educational;Pretend Play'\n",
      " 'Entertainment;Education' 'Casual;Education' 'Music;Music & Video'\n",
      " 'Racing;Action & Adventure' 'Arcade;Pretend Play'\n",
      " 'Role Playing;Action & Adventure' 'Simulation;Pretend Play'\n",
      " 'Puzzle;Creativity' 'Sports;Action & Adventure'\n",
      " 'Educational;Action & Adventure' 'Arcade;Action & Adventure'\n",
      " 'Entertainment;Action & Adventure' 'Puzzle;Action & Adventure'\n",
      " 'Strategy;Action & Adventure' 'Music & Audio;Music & Video'\n",
      " 'Health & Fitness;Education' 'Adventure;Education' 'Board;Brain Games'\n",
      " 'Board;Action & Adventure' 'Board;Pretend Play' 'Casual;Music & Video'\n",
      " 'Role Playing;Pretend Play' 'Entertainment;Pretend Play'\n",
      " 'Video Players & Editors;Creativity' 'Card;Action & Adventure' 'Medical'\n",
      " 'Social' 'Shopping' 'Photography' 'Travel & Local'\n",
      " 'Travel & Local;Action & Adventure' 'Tools' 'Tools;Education'\n",
      " 'Personalization' 'Productivity' 'Parenting' 'Parenting;Music & Video'\n",
      " 'Parenting;Education' 'Parenting;Brain Games' 'Weather'\n",
      " 'Video Players & Editors' 'Video Players & Editors;Music & Video'\n",
      " 'News & Magazines' 'Maps & Navigation'\n",
      " 'Health & Fitness;Action & Adventure' 'Educational' 'Casino'\n",
      " 'Adventure;Brain Games' 'Trivia;Education' 'Lifestyle;Education'\n",
      " 'Books & Reference;Creativity' 'Books & Reference;Education'\n",
      " 'Puzzle;Education' 'Role Playing;Education' 'Role Playing;Brain Games'\n",
      " 'Strategy;Education' 'Racing;Pretend Play' 'Communication;Creativity'\n",
      " 'February 11, 2018' 'Strategy;Creativity']\n",
      "\n",
      "[+] Column Last Updated dtypes: \n",
      "{<class 'str'>}\n",
      "['January 7, 2018' 'January 15, 2018' 'August 1, 2018' ...\n",
      " 'January 20, 2014' 'February 16, 2014' 'March 23, 2014']\n",
      "\n",
      "[+] Column Current Ver dtypes: \n",
      "{<class 'str'>, <class 'float'>}\n",
      "['1.0.0' '2.0.0' '1.2.4' ... '1.0.612928' '0.3.4' '2.0.148.0']\n",
      "\n",
      "[+] Column Android Ver dtypes: \n",
      "{<class 'str'>, <class 'float'>}\n",
      "['4.0.3 and up' '4.2 and up' '4.4 and up' '2.3 and up' '3.0 and up'\n",
      " '4.1 and up' '4.0 and up' '2.3.3 and up' 'Varies with device'\n",
      " '2.2 and up' '5.0 and up' '6.0 and up' '1.6 and up' '1.5 and up'\n",
      " '2.1 and up' '7.0 and up' '5.1 and up' '4.3 and up' '4.0.3 - 7.1.1'\n",
      " '2.0 and up' '3.2 and up' '4.4W and up' '7.1 and up' '7.0 - 7.1.1'\n",
      " '8.0 and up' '5.0 - 8.0' '3.1 and up' '2.0.1 and up' '4.1 - 7.1.1' nan\n",
      " '5.0 - 6.0' '1.0 and up' '2.2 - 7.1.1' '5.0 - 7.1.1']\n",
      "\n"
     ]
    }
   ],
   "source": [
    "def open_object_dtype(s):\n",
    "    return set(s.apply(type).unique())\n",
    "\n",
    "for col_name in col_dtypes.index:\n",
    "    if col_dtypes[col_name] == 'object':\n",
    "        print(f'[+] Column {col_name} dtypes: ')\n",
    "        print(open_object_dtype(app_df[col_name]))\n",
    "        print(app_df[col_name].unique())\n",
    "        print()"
   ]
  },
  {
   "cell_type": "markdown",
   "id": "585a0a9f",
   "metadata": {},
   "source": [
    "#### Vấn đề cần tiền xử lý: Tồn tại dòng dữ liệu bị thiếu giá trị cột nào đó"
   ]
  },
  {
   "cell_type": "markdown",
   "id": "bce627f1",
   "metadata": {},
   "source": [
    "Quan sát kết quả, khoan nói đến kiểu dữ liệu ở từng cột, ta thấy có một số điểm bất thường khi xem các giá trị phân biệt ở từng cột:\n",
    "- Ở cột `Category`, có giá trị là `1.9`, có vẻ không phải là 1 giá trị phù hợp với ý nghĩa category\n",
    "- Ở cột `Size`, có giá trị là `1,000+`, so với các giá trị còn lại trong cột này thường có format là 1 con số, theo sau đó là đơn vị (`k` hoặc `M`). Giá trị `1,000+` này có vẻ phù hợp với format của cột ngay sau đó là `Install` hơn.\n",
    "- Ở cột `Installs`, có 1 giá trị là `Free`, không nói lên số lượt cài đặt của ứng dụng, giá trị này lại phù hợp với cột tiếp theo là `Type`, mang ý nghĩa ứng dụng đó thuộc loại miễn phí hay trả phí thì đúng hơn.\n",
    "\n",
    "Từ đó ta đoán rằng có một dòng nào đó trong dữ liệu bị thiếu giá trị một số cột, do đó các giá trị của các cột còn lại bị dịch qua trái, nên giá trị ở một cột này lại nằm ở cột ngay trước đó. Đọc phần [Discussion](https://www.kaggle.com/lava18/google-play-store-apps/discussion/164101) trên Kaggle cũng có người gặp vấn đề này, họ nói rằng dòng 10472 bị thiếu giá trị. Nhưng ta vẫn cần tiền xử lý để tìm và sửa các dòng như vậy, vì biết đâu còn nhiều dòng khác cũng bị tình trạng tương tự thì sao?"
   ]
  },
  {
   "cell_type": "markdown",
   "id": "2060dc56",
   "metadata": {},
   "source": [
    "##### Tìm các dòng có giá trị một số cột bị thiếu"
   ]
  },
  {
   "cell_type": "markdown",
   "id": "990bb632",
   "metadata": {},
   "source": [
    "Ta sử dụng thư viện `csv` để đọc file `googleplaystore.csv`, dòng đầu của file sẽ là tên các cột. Với mỗi dòng tiếp theo, nếu số cột trong dòng đó khác với số lượng cột thì đưa chỉ số của dòng vào list `bad_index`. Sau khi chạy code, `bad_index` sẽ chứa các chỉ số dòng có các cột bị thiếu."
   ]
  },
  {
   "cell_type": "code",
   "execution_count": 11,
   "id": "2ac20ae2",
   "metadata": {},
   "outputs": [
    {
     "name": "stdout",
     "output_type": "stream",
     "text": [
      "CSV file has 13 columns\n",
      "Row id = 10472 has 12 columns\n"
     ]
    }
   ],
   "source": [
    "import csv\n",
    "\n",
    "csv_file = open('Data/googleplaystore.csv')\n",
    "csv_reader = csv.reader(csv_file, delimiter=',')\n",
    "row_id = -1\n",
    "col_count = 0\n",
    "bad_index = []\n",
    "\n",
    "for row in csv_reader:\n",
    "    if row_id == -1:\n",
    "        col_count = len(row)\n",
    "        print(f\"CSV file has {col_count} columns\")\n",
    "    else:\n",
    "        if len(row) != col_count:\n",
    "            print(f\"Row id = {row_id} has {len(row)} columns\")\n",
    "            bad_index.append(row_id)\n",
    "    row_id += 1"
   ]
  },
  {
   "cell_type": "markdown",
   "id": "a43dc4a6",
   "metadata": {},
   "source": [
    "##### Thay thế các giá trị cột bị thiếu thành `NaN`"
   ]
  },
  {
   "cell_type": "markdown",
   "id": "e7f6a51d",
   "metadata": {},
   "source": [
    "Xét dòng bị thiếu cột:"
   ]
  },
  {
   "cell_type": "code",
   "execution_count": 12,
   "id": "f06b420d",
   "metadata": {},
   "outputs": [
    {
     "data": {
      "text/html": [
       "<div>\n",
       "<style scoped>\n",
       "    .dataframe tbody tr th:only-of-type {\n",
       "        vertical-align: middle;\n",
       "    }\n",
       "\n",
       "    .dataframe tbody tr th {\n",
       "        vertical-align: top;\n",
       "    }\n",
       "\n",
       "    .dataframe thead th {\n",
       "        text-align: right;\n",
       "    }\n",
       "</style>\n",
       "<table border=\"1\" class=\"dataframe\">\n",
       "  <thead>\n",
       "    <tr style=\"text-align: right;\">\n",
       "      <th></th>\n",
       "      <th>App</th>\n",
       "      <th>Category</th>\n",
       "      <th>Rating</th>\n",
       "      <th>Reviews</th>\n",
       "      <th>Size</th>\n",
       "      <th>Installs</th>\n",
       "      <th>Type</th>\n",
       "      <th>Price</th>\n",
       "      <th>Content Rating</th>\n",
       "      <th>Genres</th>\n",
       "      <th>Last Updated</th>\n",
       "      <th>Current Ver</th>\n",
       "      <th>Android Ver</th>\n",
       "    </tr>\n",
       "  </thead>\n",
       "  <tbody>\n",
       "    <tr>\n",
       "      <th>10472</th>\n",
       "      <td>Life Made WI-Fi Touchscreen Photo Frame</td>\n",
       "      <td>1.9</td>\n",
       "      <td>19.0</td>\n",
       "      <td>3.0M</td>\n",
       "      <td>1,000+</td>\n",
       "      <td>Free</td>\n",
       "      <td>0</td>\n",
       "      <td>Everyone</td>\n",
       "      <td>NaN</td>\n",
       "      <td>February 11, 2018</td>\n",
       "      <td>1.0.19</td>\n",
       "      <td>4.0 and up</td>\n",
       "      <td>NaN</td>\n",
       "    </tr>\n",
       "  </tbody>\n",
       "</table>\n",
       "</div>"
      ],
      "text/plain": [
       "                                           App Category  Rating Reviews  \\\n",
       "10472  Life Made WI-Fi Touchscreen Photo Frame      1.9    19.0    3.0M   \n",
       "\n",
       "         Size Installs Type     Price Content Rating             Genres  \\\n",
       "10472  1,000+     Free    0  Everyone            NaN  February 11, 2018   \n",
       "\n",
       "      Last Updated Current Ver Android Ver  \n",
       "10472       1.0.19  4.0 and up         NaN  "
      ]
     },
     "execution_count": 12,
     "metadata": {},
     "output_type": "execute_result"
    }
   ],
   "source": [
    "app_df.loc[bad_index]"
   ]
  },
  {
   "cell_type": "markdown",
   "id": "97a1726f",
   "metadata": {},
   "source": [
    "Ở dòng 10472, giá trị cột `Category` bị thiếu, nên ta dịch các giá trị bắt đầu từ cột `Category` sang bên phải rồi điền giá trị cho cột `Category` là `NaN`"
   ]
  },
  {
   "cell_type": "code",
   "execution_count": 13,
   "id": "4d9c0db2",
   "metadata": {},
   "outputs": [
    {
     "data": {
      "text/html": [
       "<div>\n",
       "<style scoped>\n",
       "    .dataframe tbody tr th:only-of-type {\n",
       "        vertical-align: middle;\n",
       "    }\n",
       "\n",
       "    .dataframe tbody tr th {\n",
       "        vertical-align: top;\n",
       "    }\n",
       "\n",
       "    .dataframe thead th {\n",
       "        text-align: right;\n",
       "    }\n",
       "</style>\n",
       "<table border=\"1\" class=\"dataframe\">\n",
       "  <thead>\n",
       "    <tr style=\"text-align: right;\">\n",
       "      <th></th>\n",
       "      <th>App</th>\n",
       "      <th>Category</th>\n",
       "      <th>Rating</th>\n",
       "      <th>Reviews</th>\n",
       "      <th>Size</th>\n",
       "      <th>Installs</th>\n",
       "      <th>Type</th>\n",
       "      <th>Price</th>\n",
       "      <th>Content Rating</th>\n",
       "      <th>Genres</th>\n",
       "      <th>Last Updated</th>\n",
       "      <th>Current Ver</th>\n",
       "      <th>Android Ver</th>\n",
       "    </tr>\n",
       "  </thead>\n",
       "  <tbody>\n",
       "    <tr>\n",
       "      <th>10472</th>\n",
       "      <td>Life Made WI-Fi Touchscreen Photo Frame</td>\n",
       "      <td>NaN</td>\n",
       "      <td>1.9</td>\n",
       "      <td>19.0</td>\n",
       "      <td>3.0M</td>\n",
       "      <td>1,000+</td>\n",
       "      <td>Free</td>\n",
       "      <td>0</td>\n",
       "      <td>Everyone</td>\n",
       "      <td>NaN</td>\n",
       "      <td>February 11, 2018</td>\n",
       "      <td>1.0.19</td>\n",
       "      <td>4.0 and up</td>\n",
       "    </tr>\n",
       "  </tbody>\n",
       "</table>\n",
       "</div>"
      ],
      "text/plain": [
       "                                           App Category Rating Reviews  Size  \\\n",
       "10472  Life Made WI-Fi Touchscreen Photo Frame      NaN    1.9    19.0  3.0M   \n",
       "\n",
       "      Installs  Type Price Content Rating Genres       Last Updated  \\\n",
       "10472   1,000+  Free     0       Everyone    NaN  February 11, 2018   \n",
       "\n",
       "      Current Ver Android Ver  \n",
       "10472      1.0.19  4.0 and up  "
      ]
     },
     "execution_count": 13,
     "metadata": {},
     "output_type": "execute_result"
    }
   ],
   "source": [
    "cols_list = app_df.columns.tolist()\n",
    "i = len(cols_list) - 1\n",
    "while i > 1:\n",
    "    app_df.loc[bad_index, cols_list[i]] = app_df.loc[bad_index, cols_list[i - 1]]\n",
    "    i -= 1\n",
    "app_df.loc[bad_index, 'Category'] = np.nan\n",
    "\n",
    "app_df.loc[bad_index]"
   ]
  },
  {
   "cell_type": "markdown",
   "id": "68048919",
   "metadata": {},
   "source": [
    "Dữ liệu đã được sửa xong, bây giờ ta loại bỏ dòng bị lặp sau khi chỉnh sửa dòng này."
   ]
  },
  {
   "cell_type": "code",
   "execution_count": 14,
   "id": "02ec6576",
   "metadata": {},
   "outputs": [
    {
     "name": "stdout",
     "output_type": "stream",
     "text": [
      "[+] num_rows = 10358\n",
      "[+] num_cols = 13\n"
     ]
    }
   ],
   "source": [
    "app_df = app_df.drop_duplicates()\n",
    "get_app_df_shape()"
   ]
  },
  {
   "cell_type": "markdown",
   "id": "8166f4c6",
   "metadata": {},
   "source": [
    "#### Tiếp tục khám phá dữ liệu"
   ]
  },
  {
   "cell_type": "markdown",
   "id": "08e418bc",
   "metadata": {},
   "source": [
    "Ta tiếp tục liệt kê các kiểu dữ liệu khác nhau ở các cột có dtype là `object`."
   ]
  },
  {
   "cell_type": "code",
   "execution_count": 15,
   "id": "30fa157c",
   "metadata": {
    "scrolled": true
   },
   "outputs": [
    {
     "name": "stdout",
     "output_type": "stream",
     "text": [
      "[+] Column App dtypes: \n",
      "{<class 'str'>}\n",
      "['Photo Editor & Candy Camera & Grid & ScrapBook' 'Coloring book moana'\n",
      " 'U Launcher Lite – FREE Live Cool Themes, Hide Apps' ...\n",
      " 'Parkinson Exercices FR' 'The SCP Foundation DB fr nn5n'\n",
      " 'iHoroscope - 2018 Daily Horoscope & Astrology']\n",
      "\n",
      "[+] Column Category dtypes: \n",
      "{<class 'str'>, <class 'float'>}\n",
      "['ART_AND_DESIGN' 'AUTO_AND_VEHICLES' 'BEAUTY' 'BOOKS_AND_REFERENCE'\n",
      " 'BUSINESS' 'COMICS' 'COMMUNICATION' 'DATING' 'EDUCATION' 'ENTERTAINMENT'\n",
      " 'EVENTS' 'FINANCE' 'FOOD_AND_DRINK' 'HEALTH_AND_FITNESS' 'HOUSE_AND_HOME'\n",
      " 'LIBRARIES_AND_DEMO' 'LIFESTYLE' 'GAME' 'FAMILY' 'MEDICAL' 'SOCIAL'\n",
      " 'SHOPPING' 'PHOTOGRAPHY' 'SPORTS' 'TRAVEL_AND_LOCAL' 'TOOLS'\n",
      " 'PERSONALIZATION' 'PRODUCTIVITY' 'PARENTING' 'WEATHER' 'VIDEO_PLAYERS'\n",
      " 'NEWS_AND_MAGAZINES' 'MAPS_AND_NAVIGATION' nan]\n",
      "\n",
      "[+] Column Rating dtypes: \n",
      "{<class 'str'>, <class 'float'>}\n",
      "[4.1 3.9 4.7 4.5 4.3 4.4 3.8 4.2 4.6 3.2 4.0 nan 4.8 4.9 3.6 3.7 3.3 3.4\n",
      " 3.5 3.1 5.0 2.6 3.0 1.9 2.5 2.8 2.7 1.0 2.9 2.3 2.2 1.7 2.0 1.8 2.4 1.6\n",
      " 2.1 1.4 1.5 1.2 '1.9']\n",
      "\n",
      "[+] Column Reviews dtypes: \n",
      "{<class 'str'>, <class 'float'>}\n",
      "['159' '967' '87510' ... '603' '1195' '398307']\n",
      "\n",
      "[+] Column Size dtypes: \n",
      "{<class 'str'>}\n",
      "['19M' '14M' '8.7M' '25M' '2.8M' '5.6M' '29M' '33M' '3.1M' '28M' '12M'\n",
      " '20M' '21M' '37M' '2.7M' '5.5M' '17M' '39M' '31M' '4.2M' '7.0M' '23M'\n",
      " '6.0M' '6.1M' '4.6M' '9.2M' '5.2M' '11M' '24M' 'Varies with device'\n",
      " '9.4M' '15M' '10M' '1.2M' '26M' '8.0M' '7.9M' '56M' '57M' '35M' '54M'\n",
      " '201k' '3.6M' '5.7M' '8.6M' '2.4M' '27M' '2.5M' '16M' '3.4M' '8.9M'\n",
      " '3.9M' '2.9M' '38M' '32M' '5.4M' '18M' '1.1M' '2.2M' '4.5M' '9.8M' '52M'\n",
      " '9.0M' '6.7M' '30M' '2.6M' '7.1M' '3.7M' '22M' '7.4M' '6.4M' '3.2M'\n",
      " '8.2M' '9.9M' '4.9M' '9.5M' '5.0M' '5.9M' '13M' '73M' '6.8M' '3.5M'\n",
      " '4.0M' '2.3M' '7.2M' '2.1M' '42M' '7.3M' '9.1M' '55M' '23k' '6.5M' '1.5M'\n",
      " '7.5M' '51M' '41M' '48M' '8.5M' '46M' '8.3M' '4.3M' '4.7M' '3.3M' '40M'\n",
      " '7.8M' '8.8M' '6.6M' '5.1M' '61M' '66M' '79k' '8.4M' '118k' '44M' '695k'\n",
      " '1.6M' '6.2M' '18k' '53M' '1.4M' '3.0M' '5.8M' '3.8M' '9.6M' '45M' '63M'\n",
      " '49M' '77M' '4.4M' '4.8M' '70M' '6.9M' '9.3M' '10.0M' '8.1M' '36M' '84M'\n",
      " '97M' '2.0M' '1.9M' '1.8M' '5.3M' '47M' '556k' '526k' '76M' '7.6M' '59M'\n",
      " '9.7M' '78M' '72M' '43M' '7.7M' '6.3M' '334k' '34M' '93M' '65M' '79M'\n",
      " '100M' '58M' '50M' '68M' '64M' '67M' '60M' '94M' '232k' '99M' '624k'\n",
      " '95M' '8.5k' '41k' '292k' '11k' '80M' '1.7M' '74M' '62M' '69M' '75M'\n",
      " '98M' '85M' '82M' '96M' '87M' '71M' '86M' '91M' '81M' '92M' '83M' '88M'\n",
      " '704k' '862k' '899k' '378k' '266k' '375k' '1.3M' '975k' '980k' '4.1M'\n",
      " '89M' '696k' '544k' '525k' '920k' '779k' '853k' '720k' '713k' '772k'\n",
      " '318k' '58k' '241k' '196k' '857k' '51k' '953k' '865k' '251k' '930k'\n",
      " '540k' '313k' '746k' '203k' '26k' '314k' '239k' '371k' '220k' '730k'\n",
      " '756k' '91k' '293k' '17k' '74k' '14k' '317k' '78k' '924k' '902k' '818k'\n",
      " '81k' '939k' '169k' '45k' '475k' '965k' '90M' '545k' '61k' '283k' '655k'\n",
      " '714k' '93k' '872k' '121k' '322k' '1.0M' '976k' '172k' '238k' '549k'\n",
      " '206k' '954k' '444k' '717k' '210k' '609k' '308k' '705k' '306k' '904k'\n",
      " '473k' '175k' '350k' '383k' '454k' '421k' '70k' '812k' '442k' '842k'\n",
      " '417k' '412k' '459k' '478k' '335k' '782k' '721k' '430k' '429k' '192k'\n",
      " '200k' '460k' '728k' '496k' '816k' '414k' '506k' '887k' '613k' '243k'\n",
      " '569k' '778k' '683k' '592k' '319k' '186k' '840k' '647k' '191k' '373k'\n",
      " '437k' '598k' '716k' '585k' '982k' '222k' '219k' '55k' '948k' '323k'\n",
      " '691k' '511k' '951k' '963k' '25k' '554k' '351k' '27k' '82k' '208k' '913k'\n",
      " '514k' '551k' '29k' '103k' '898k' '743k' '116k' '153k' '209k' '353k'\n",
      " '499k' '173k' '597k' '809k' '122k' '411k' '400k' '801k' '787k' '237k'\n",
      " '50k' '643k' '986k' '97k' '516k' '837k' '780k' '961k' '269k' '20k' '498k'\n",
      " '600k' '749k' '642k' '881k' '72k' '656k' '601k' '221k' '228k' '108k'\n",
      " '940k' '176k' '33k' '663k' '34k' '942k' '259k' '164k' '458k' '245k'\n",
      " '629k' '28k' '288k' '775k' '785k' '636k' '916k' '994k' '309k' '485k'\n",
      " '914k' '903k' '608k' '500k' '54k' '562k' '847k' '957k' '688k' '811k'\n",
      " '270k' '48k' '329k' '523k' '921k' '874k' '981k' '784k' '280k' '24k'\n",
      " '518k' '754k' '892k' '154k' '860k' '364k' '387k' '626k' '161k' '879k'\n",
      " '39k' '970k' '170k' '141k' '160k' '144k' '143k' '190k' '376k' '193k'\n",
      " '246k' '73k' '658k' '992k' '253k' '420k' '404k' '470k' '226k' '240k'\n",
      " '89k' '234k' '257k' '861k' '467k' '157k' '44k' '676k' '67k' '552k' '885k'\n",
      " '1020k' '582k' '619k']\n",
      "\n",
      "[+] Column Installs dtypes: \n",
      "{<class 'str'>}\n",
      "['10,000+' '500,000+' '5,000,000+' '50,000,000+' '100,000+' '50,000+'\n",
      " '1,000,000+' '10,000,000+' '5,000+' '100,000,000+' '1,000,000,000+'\n",
      " '1,000+' '500,000,000+' '50+' '100+' '500+' '10+' '1+' '5+' '0+' '0']\n",
      "\n",
      "[+] Column Type dtypes: \n",
      "{<class 'str'>, <class 'float'>}\n",
      "['Free' 'Paid' nan]\n",
      "\n",
      "[+] Column Price dtypes: \n",
      "{<class 'str'>}\n",
      "['0' '$4.99' '$3.99' '$6.99' '$1.49' '$2.99' '$7.99' '$5.99' '$3.49'\n",
      " '$1.99' '$9.99' '$7.49' '$0.99' '$9.00' '$5.49' '$10.00' '$24.99'\n",
      " '$11.99' '$79.99' '$16.99' '$14.99' '$1.00' '$29.99' '$12.99' '$2.49'\n",
      " '$10.99' '$1.50' '$19.99' '$15.99' '$33.99' '$74.99' '$39.99' '$3.95'\n",
      " '$4.49' '$1.70' '$8.99' '$2.00' '$3.88' '$25.99' '$399.99' '$17.99'\n",
      " '$400.00' '$3.02' '$1.76' '$4.84' '$4.77' '$1.61' '$2.50' '$1.59' '$6.49'\n",
      " '$1.29' '$5.00' '$13.99' '$299.99' '$379.99' '$37.99' '$18.99' '$389.99'\n",
      " '$19.90' '$8.49' '$1.75' '$14.00' '$4.85' '$46.99' '$109.99' '$154.99'\n",
      " '$3.08' '$2.59' '$4.80' '$1.96' '$19.40' '$3.90' '$4.59' '$15.46' '$3.04'\n",
      " '$4.29' '$2.60' '$3.28' '$4.60' '$28.99' '$2.95' '$2.90' '$1.97'\n",
      " '$200.00' '$89.99' '$2.56' '$30.99' '$3.61' '$394.99' '$1.26' '$1.20'\n",
      " '$1.04']\n",
      "\n",
      "[+] Column Content Rating dtypes: \n",
      "{<class 'str'>}\n",
      "['Everyone' 'Teen' 'Everyone 10+' 'Mature 17+' 'Adults only 18+' 'Unrated']\n",
      "\n",
      "[+] Column Genres dtypes: \n",
      "{<class 'str'>, <class 'float'>}\n",
      "['Art & Design' 'Art & Design;Pretend Play' 'Art & Design;Creativity'\n",
      " 'Art & Design;Action & Adventure' 'Auto & Vehicles' 'Beauty'\n",
      " 'Books & Reference' 'Business' 'Comics' 'Comics;Creativity'\n",
      " 'Communication' 'Dating' 'Education;Education' 'Education'\n",
      " 'Education;Creativity' 'Education;Music & Video'\n",
      " 'Education;Action & Adventure' 'Education;Pretend Play'\n",
      " 'Education;Brain Games' 'Entertainment' 'Entertainment;Music & Video'\n",
      " 'Entertainment;Brain Games' 'Entertainment;Creativity' 'Events' 'Finance'\n",
      " 'Food & Drink' 'Health & Fitness' 'House & Home' 'Libraries & Demo'\n",
      " 'Lifestyle' 'Lifestyle;Pretend Play' 'Adventure;Action & Adventure'\n",
      " 'Arcade' 'Casual' 'Card' 'Casual;Pretend Play' 'Action' 'Strategy'\n",
      " 'Puzzle' 'Sports' 'Music' 'Word' 'Racing' 'Casual;Creativity'\n",
      " 'Casual;Action & Adventure' 'Simulation' 'Adventure' 'Board' 'Trivia'\n",
      " 'Role Playing' 'Simulation;Education' 'Action;Action & Adventure'\n",
      " 'Casual;Brain Games' 'Simulation;Action & Adventure'\n",
      " 'Educational;Creativity' 'Puzzle;Brain Games' 'Educational;Education'\n",
      " 'Card;Brain Games' 'Educational;Brain Games' 'Educational;Pretend Play'\n",
      " 'Entertainment;Education' 'Casual;Education' 'Music;Music & Video'\n",
      " 'Racing;Action & Adventure' 'Arcade;Pretend Play'\n",
      " 'Role Playing;Action & Adventure' 'Simulation;Pretend Play'\n",
      " 'Puzzle;Creativity' 'Sports;Action & Adventure'\n",
      " 'Educational;Action & Adventure' 'Arcade;Action & Adventure'\n",
      " 'Entertainment;Action & Adventure' 'Puzzle;Action & Adventure'\n",
      " 'Strategy;Action & Adventure' 'Music & Audio;Music & Video'\n",
      " 'Health & Fitness;Education' 'Adventure;Education' 'Board;Brain Games'\n",
      " 'Board;Action & Adventure' 'Board;Pretend Play' 'Casual;Music & Video'\n",
      " 'Role Playing;Pretend Play' 'Entertainment;Pretend Play'\n",
      " 'Video Players & Editors;Creativity' 'Card;Action & Adventure' 'Medical'\n",
      " 'Social' 'Shopping' 'Photography' 'Travel & Local'\n",
      " 'Travel & Local;Action & Adventure' 'Tools' 'Tools;Education'\n",
      " 'Personalization' 'Productivity' 'Parenting' 'Parenting;Music & Video'\n",
      " 'Parenting;Education' 'Parenting;Brain Games' 'Weather'\n",
      " 'Video Players & Editors' 'Video Players & Editors;Music & Video'\n",
      " 'News & Magazines' 'Maps & Navigation'\n",
      " 'Health & Fitness;Action & Adventure' 'Educational' 'Casino'\n",
      " 'Adventure;Brain Games' 'Trivia;Education' 'Lifestyle;Education'\n",
      " 'Books & Reference;Creativity' 'Books & Reference;Education'\n",
      " 'Puzzle;Education' 'Role Playing;Education' 'Role Playing;Brain Games'\n",
      " 'Strategy;Education' 'Racing;Pretend Play' 'Communication;Creativity' nan\n",
      " 'Strategy;Creativity']\n",
      "\n",
      "[+] Column Last Updated dtypes: \n",
      "{<class 'str'>}\n",
      "['January 7, 2018' 'January 15, 2018' 'August 1, 2018' ...\n",
      " 'January 20, 2014' 'February 16, 2014' 'March 23, 2014']\n",
      "\n",
      "[+] Column Current Ver dtypes: \n",
      "{<class 'str'>, <class 'float'>}\n",
      "['1.0.0' '2.0.0' '1.2.4' ... '1.0.612928' '0.3.4' '2.0.148.0']\n",
      "\n",
      "[+] Column Android Ver dtypes: \n",
      "{<class 'str'>, <class 'float'>}\n",
      "['4.0.3 and up' '4.2 and up' '4.4 and up' '2.3 and up' '3.0 and up'\n",
      " '4.1 and up' '4.0 and up' '2.3.3 and up' 'Varies with device'\n",
      " '2.2 and up' '5.0 and up' '6.0 and up' '1.6 and up' '1.5 and up'\n",
      " '2.1 and up' '7.0 and up' '5.1 and up' '4.3 and up' '4.0.3 - 7.1.1'\n",
      " '2.0 and up' '3.2 and up' '4.4W and up' '7.1 and up' '7.0 - 7.1.1'\n",
      " '8.0 and up' '5.0 - 8.0' '3.1 and up' '2.0.1 and up' '4.1 - 7.1.1' nan\n",
      " '5.0 - 6.0' '1.0 and up' '2.2 - 7.1.1' '5.0 - 7.1.1']\n",
      "\n"
     ]
    }
   ],
   "source": [
    "col_dtypes = app_df.dtypes\n",
    "\n",
    "for col_name in col_dtypes.index:\n",
    "    if col_dtypes[col_name] == 'object':\n",
    "        print(f'[+] Column {col_name} dtypes: ')\n",
    "        print(open_object_dtype(app_df[col_name]))\n",
    "        print(app_df[col_name].unique())\n",
    "        print()"
   ]
  },
  {
   "cell_type": "markdown",
   "id": "7a727686",
   "metadata": {},
   "source": [
    "#### Đánh giá kiểu dữ liệu hiện tại của các cột"
   ]
  },
  {
   "cell_type": "markdown",
   "id": "8bbe6a32",
   "metadata": {},
   "source": [
    "Các cột đã có kiểu dữ liệu hợp lý:\n",
    "- Cột `App` là tên ứng dụng, để kiểu `str` là hợp lý.\n",
    "- Cột `Category` thể hiện các danh mục mà ứng dụng thuộc về, để kiểu `str` là hợp lý, chỉ có giá trị `NaN` là `float`.\n",
    "- Cột `Genres` thể hiện thể loại mà ứng dụng thuộc về, để kiểu `str` là hợp lý, chỉ có giá trị `NaN` là `float`.\n",
    "- Cột `Last Updated` là thời điểm cập nhật gần nhất của ứng dụng trên Play Store, đang ở dạng `str`, cần chuyển về `datetime`.\n",
    "- Cột `Current Ver` thể hiện phiên bản hiện tại ứng dụng trên Play Store, để kiểu `str` là hợp lý, chỉ có giá trị `NaN` là `float`.\n",
    "- Cột `Android Ver` thể hiện phiên bản Android phù hợp để cài ứng dụng, để kiểu `str` là hợp lý, chỉ có giá trị `NaN` là `float`.\n",
    "\n",
    "Các cột cần xử lý tiếp:\n",
    "- Cột `Rating` đang có giá trị `'1.9'` cần chuyển về `float`.\n",
    "- Cột `Reviews` là số lượt đánh giá cho ứng dụng, đang ở kiểu `str` và `float`, giá trị này luôn là số nguyên nên cần chuyển về `int`.\n",
    "- Cột `Size` là kích thước của ứng dụng, đang có đơn vị là KB (kết thúc bằng `k`) hoặc MB (kết thúc bằng `M`), hoặc `'Varies with device'`. Ta sẽ chuyển các kích thước về `float` và thống nhất đơn vị là KB, riêng giá trị `'Varies with device'` được gán bằng `nan`, để cột `Size` được xét là một cột numerical.\n",
    "- Cột `Installs` và `Content Rating` là cột categorical với các category có thứ tự. Ta sử dụng `pd.Categorical` để định nghĩa thứ tự cho các category này.\n",
    "- Cột `Type` thể hiện ứng dụng trả phí hoặc miễn phí, nên là kiểu `str`, chỉ có giá trị `NaN` là `float`. Ta cũng cần xem xét điền vào giá trị hợp lí cho giá trị `NaN` dựa vào giá trị cột `Price`.\n",
    "- Cột `Price` thể hiện giá của ứng dụng, đang là `str`, có dạng dấu `$` sau đó là giá tiền, ngoại trừ giá trị `0`. Cần bỏ dấu `$` và chuyển cột này về `float`."
   ]
  },
  {
   "cell_type": "markdown",
   "id": "97a77342",
   "metadata": {},
   "source": [
    "#### Chuyển dtype của cột `Rating` sang float"
   ]
  },
  {
   "cell_type": "code",
   "execution_count": 16,
   "id": "7ad01f5b",
   "metadata": {},
   "outputs": [],
   "source": [
    "app_df = app_df.astype({'Rating': float})"
   ]
  },
  {
   "cell_type": "markdown",
   "id": "17904f73",
   "metadata": {},
   "source": [
    "#### Chuyển dtype của cột `Reviews` sang int"
   ]
  },
  {
   "cell_type": "code",
   "execution_count": 17,
   "id": "1a258e29",
   "metadata": {},
   "outputs": [],
   "source": [
    "app_df = app_df.astype({'Reviews': int})"
   ]
  },
  {
   "cell_type": "markdown",
   "id": "1479949e",
   "metadata": {},
   "source": [
    "#### Tiền xử lý cột `Size` và chuyển dtype của cột sang float"
   ]
  },
  {
   "cell_type": "code",
   "execution_count": 18,
   "id": "eaff4f74",
   "metadata": {},
   "outputs": [
    {
     "data": {
      "text/plain": [
       "0        19456.0\n",
       "1        14336.0\n",
       "2         8908.8\n",
       "3        25600.0\n",
       "4         2867.2\n",
       "          ...   \n",
       "10836    54272.0\n",
       "10837     3686.4\n",
       "10838     9728.0\n",
       "10839        NaN\n",
       "10840    19456.0\n",
       "Name: Size, Length: 10358, dtype: float64"
      ]
     },
     "execution_count": 18,
     "metadata": {},
     "output_type": "execute_result"
    }
   ],
   "source": [
    "def to_kb(string):\n",
    "    if string == 'Varies with device':\n",
    "        return np.nan\n",
    "    num = float(string[:-1])\n",
    "    coef = 1 #Nếu chuỗi kết thúc bằng kí tự 'k', chỉ cần lấy phần số trong chuỗi\n",
    "    if string[-1] == 'M':\n",
    "        coef *= 1024 #Nếu chuỗi kết thúc bằng kí tự 'M', lấy phần số trong chuỗi nhân 1024\n",
    "    return float(num * coef)\n",
    "\n",
    "app_df['Size'] = app_df['Size'].apply(to_kb)\n",
    "app_df['Size']"
   ]
  },
  {
   "cell_type": "markdown",
   "id": "929e5da8",
   "metadata": {},
   "source": [
    "#### Sử dụng `pd.Categorical` cho cột `Installs`"
   ]
  },
  {
   "cell_type": "markdown",
   "id": "a0af29b2",
   "metadata": {},
   "source": [
    "Quan sát các giá trị khác nhau trong cột `Installs`:"
   ]
  },
  {
   "cell_type": "code",
   "execution_count": 19,
   "id": "0347cd9f",
   "metadata": {},
   "outputs": [
    {
     "data": {
      "text/plain": [
       "array(['0', '0+', '1+', '1,000+', '1,000,000+', '1,000,000,000+', '10+',\n",
       "       '10,000+', '10,000,000+', '100+', '100,000+', '100,000,000+', '5+',\n",
       "       '5,000+', '5,000,000+', '50+', '50,000+', '50,000,000+', '500+',\n",
       "       '500,000+', '500,000,000+'], dtype='<U14')"
      ]
     },
     "execution_count": 19,
     "metadata": {},
     "output_type": "execute_result"
    }
   ],
   "source": [
    "np.array(sorted(app_df['Installs'].unique()))"
   ]
  },
  {
   "cell_type": "markdown",
   "id": "6d82e1f7",
   "metadata": {},
   "source": [
    "Ta thấy rằng cột `Installs` thuộc loại cột categorical có thứ tự, nên ta sẽ định nghĩa thứ tự các giá trị này và áp dụng cho cột `Installs`."
   ]
  },
  {
   "cell_type": "code",
   "execution_count": 20,
   "id": "990ec243",
   "metadata": {},
   "outputs": [
    {
     "data": {
      "text/plain": [
       "0            10,000+\n",
       "1           500,000+\n",
       "2         5,000,000+\n",
       "3        50,000,000+\n",
       "4           100,000+\n",
       "            ...     \n",
       "10836         5,000+\n",
       "10837           100+\n",
       "10838         1,000+\n",
       "10839         1,000+\n",
       "10840    10,000,000+\n",
       "Name: Installs, Length: 10358, dtype: category\n",
       "Categories (21, object): ['0' < '0+' < '1+' < '5+' ... '50,000,000+' < '100,000,000+' < '500,000,000+' < '1,000,000,000+']"
      ]
     },
     "execution_count": 20,
     "metadata": {},
     "output_type": "execute_result"
    }
   ],
   "source": [
    "installs_cate_list = ['0', '0+', '1+', '5+', '10+', '50+',\n",
    "                     '100+', '500+', '1,000+', '5,000+', '10,000+', '50,000+',\n",
    "                     '100,000+', '500,000+', '1,000,000+', '5,000,000+', '10,000,000+', '50,000,000+',\n",
    "                     '100,000,000+', '500,000,000+', '1,000,000,000+']\n",
    "app_df['Installs'] = pd.Categorical(app_df['Installs'], categories=installs_cate_list, ordered=True)\n",
    "app_df['Installs']"
   ]
  },
  {
   "cell_type": "markdown",
   "id": "ed2a1232",
   "metadata": {},
   "source": [
    "#### Sử dụng `pd.Categorical` cho cột `Content Rating`"
   ]
  },
  {
   "cell_type": "markdown",
   "id": "bede173a",
   "metadata": {},
   "source": [
    "Quan sát các giá trị khác nhau trong cột `Content Rating`:"
   ]
  },
  {
   "cell_type": "code",
   "execution_count": 21,
   "id": "b07ca0e8",
   "metadata": {},
   "outputs": [
    {
     "data": {
      "text/plain": [
       "array(['Adults only 18+', 'Everyone', 'Everyone 10+', 'Mature 17+',\n",
       "       'Teen', 'Unrated'], dtype='<U15')"
      ]
     },
     "execution_count": 21,
     "metadata": {},
     "output_type": "execute_result"
    }
   ],
   "source": [
    "np.array(sorted(app_df['Content Rating'].unique()))"
   ]
  },
  {
   "cell_type": "markdown",
   "id": "ede8949d",
   "metadata": {},
   "source": [
    "Tương tự cột `Installs`, ta thấy rằng cột `Content Rating` thuộc loại cột categorical có thứ tự, nên ta sẽ định nghĩa thứ tự các giá trị này và áp dụng cho cột `Content Rating`."
   ]
  },
  {
   "cell_type": "code",
   "execution_count": 22,
   "id": "76a45168",
   "metadata": {},
   "outputs": [
    {
     "data": {
      "text/plain": [
       "0          Everyone\n",
       "1          Everyone\n",
       "2          Everyone\n",
       "3              Teen\n",
       "4          Everyone\n",
       "            ...    \n",
       "10836      Everyone\n",
       "10837      Everyone\n",
       "10838      Everyone\n",
       "10839    Mature 17+\n",
       "10840      Everyone\n",
       "Name: Content Rating, Length: 10358, dtype: category\n",
       "Categories (5, object): ['Everyone' < 'Everyone 10+' < 'Teen' < 'Mature 17+' < 'Adults only 18+']"
      ]
     },
     "execution_count": 22,
     "metadata": {},
     "output_type": "execute_result"
    }
   ],
   "source": [
    "cr_cate_list = ['Everyone', 'Everyone 10+', 'Teen', 'Mature 17+', 'Adults only 18+']\n",
    "app_df['Content Rating'] = pd.Categorical(app_df['Content Rating'], categories=cr_cate_list, ordered=True)\n",
    "app_df['Content Rating']"
   ]
  },
  {
   "cell_type": "markdown",
   "id": "57c92460",
   "metadata": {},
   "source": [
    "#### Điền giá trị `nan` trong cột `Type`"
   ]
  },
  {
   "cell_type": "markdown",
   "id": "1071be75",
   "metadata": {},
   "source": [
    "Xét các dòng có giá trị `nan` tại cột `Type`:"
   ]
  },
  {
   "cell_type": "code",
   "execution_count": 23,
   "id": "b1a00db1",
   "metadata": {},
   "outputs": [
    {
     "data": {
      "text/html": [
       "<div>\n",
       "<style scoped>\n",
       "    .dataframe tbody tr th:only-of-type {\n",
       "        vertical-align: middle;\n",
       "    }\n",
       "\n",
       "    .dataframe tbody tr th {\n",
       "        vertical-align: top;\n",
       "    }\n",
       "\n",
       "    .dataframe thead th {\n",
       "        text-align: right;\n",
       "    }\n",
       "</style>\n",
       "<table border=\"1\" class=\"dataframe\">\n",
       "  <thead>\n",
       "    <tr style=\"text-align: right;\">\n",
       "      <th></th>\n",
       "      <th>App</th>\n",
       "      <th>Category</th>\n",
       "      <th>Rating</th>\n",
       "      <th>Reviews</th>\n",
       "      <th>Size</th>\n",
       "      <th>Installs</th>\n",
       "      <th>Type</th>\n",
       "      <th>Price</th>\n",
       "      <th>Content Rating</th>\n",
       "      <th>Genres</th>\n",
       "      <th>Last Updated</th>\n",
       "      <th>Current Ver</th>\n",
       "      <th>Android Ver</th>\n",
       "    </tr>\n",
       "  </thead>\n",
       "  <tbody>\n",
       "    <tr>\n",
       "      <th>9148</th>\n",
       "      <td>Command &amp; Conquer: Rivals</td>\n",
       "      <td>FAMILY</td>\n",
       "      <td>NaN</td>\n",
       "      <td>0</td>\n",
       "      <td>NaN</td>\n",
       "      <td>0</td>\n",
       "      <td>NaN</td>\n",
       "      <td>0</td>\n",
       "      <td>Everyone 10+</td>\n",
       "      <td>Strategy</td>\n",
       "      <td>June 28, 2018</td>\n",
       "      <td>Varies with device</td>\n",
       "      <td>Varies with device</td>\n",
       "    </tr>\n",
       "  </tbody>\n",
       "</table>\n",
       "</div>"
      ],
      "text/plain": [
       "                            App Category  Rating  Reviews  Size Installs Type  \\\n",
       "9148  Command & Conquer: Rivals   FAMILY     NaN        0   NaN        0  NaN   \n",
       "\n",
       "     Price Content Rating    Genres   Last Updated         Current Ver  \\\n",
       "9148     0   Everyone 10+  Strategy  June 28, 2018  Varies with device   \n",
       "\n",
       "             Android Ver  \n",
       "9148  Varies with device  "
      ]
     },
     "execution_count": 23,
     "metadata": {},
     "output_type": "execute_result"
    }
   ],
   "source": [
    "index_check_row = app_df[app_df['Type'].isna()].index\n",
    "app_df.loc[index_check_row]"
   ]
  },
  {
   "cell_type": "markdown",
   "id": "e68eb843",
   "metadata": {},
   "source": [
    "Nhận xét từ mô tả dữ liệu, cột `Type` có giá trị là `'Free'` tương đương với cột `Price` có giá trị là `0`. Do đó ta sẽ điền vào giá trị `Free` vào vị trí chứa giá trị `nan` này."
   ]
  },
  {
   "cell_type": "code",
   "execution_count": 24,
   "id": "63674fd6",
   "metadata": {},
   "outputs": [
    {
     "data": {
      "text/html": [
       "<div>\n",
       "<style scoped>\n",
       "    .dataframe tbody tr th:only-of-type {\n",
       "        vertical-align: middle;\n",
       "    }\n",
       "\n",
       "    .dataframe tbody tr th {\n",
       "        vertical-align: top;\n",
       "    }\n",
       "\n",
       "    .dataframe thead th {\n",
       "        text-align: right;\n",
       "    }\n",
       "</style>\n",
       "<table border=\"1\" class=\"dataframe\">\n",
       "  <thead>\n",
       "    <tr style=\"text-align: right;\">\n",
       "      <th></th>\n",
       "      <th>App</th>\n",
       "      <th>Category</th>\n",
       "      <th>Rating</th>\n",
       "      <th>Reviews</th>\n",
       "      <th>Size</th>\n",
       "      <th>Installs</th>\n",
       "      <th>Type</th>\n",
       "      <th>Price</th>\n",
       "      <th>Content Rating</th>\n",
       "      <th>Genres</th>\n",
       "      <th>Last Updated</th>\n",
       "      <th>Current Ver</th>\n",
       "      <th>Android Ver</th>\n",
       "    </tr>\n",
       "  </thead>\n",
       "  <tbody>\n",
       "    <tr>\n",
       "      <th>9148</th>\n",
       "      <td>Command &amp; Conquer: Rivals</td>\n",
       "      <td>FAMILY</td>\n",
       "      <td>NaN</td>\n",
       "      <td>0</td>\n",
       "      <td>NaN</td>\n",
       "      <td>0</td>\n",
       "      <td>Free</td>\n",
       "      <td>0</td>\n",
       "      <td>Everyone 10+</td>\n",
       "      <td>Strategy</td>\n",
       "      <td>June 28, 2018</td>\n",
       "      <td>Varies with device</td>\n",
       "      <td>Varies with device</td>\n",
       "    </tr>\n",
       "  </tbody>\n",
       "</table>\n",
       "</div>"
      ],
      "text/plain": [
       "                            App Category  Rating  Reviews  Size Installs  \\\n",
       "9148  Command & Conquer: Rivals   FAMILY     NaN        0   NaN        0   \n",
       "\n",
       "      Type Price Content Rating    Genres   Last Updated         Current Ver  \\\n",
       "9148  Free     0   Everyone 10+  Strategy  June 28, 2018  Varies with device   \n",
       "\n",
       "             Android Ver  \n",
       "9148  Varies with device  "
      ]
     },
     "execution_count": 24,
     "metadata": {},
     "output_type": "execute_result"
    }
   ],
   "source": [
    "app_df['Type'].fillna('Free', inplace=True)\n",
    "app_df.loc[index_check_row]"
   ]
  },
  {
   "cell_type": "markdown",
   "id": "9fd38ab5",
   "metadata": {},
   "source": [
    "#### Tiền xử lý cột `Price` và chuyển dtype sang float"
   ]
  },
  {
   "cell_type": "markdown",
   "id": "b89dd58f",
   "metadata": {},
   "source": [
    "Cột này đang có dtype là `str`, mỗi giá trị có 2 dạng:\n",
    "\n",
    "1. Là `0`\n",
    "2. Là dạng dấu `$`, phía sau đó là giá tiền\n",
    "\n",
    "Do đó, loại bỏ dấu `$`, sau đó chuyển sang `float`."
   ]
  },
  {
   "cell_type": "code",
   "execution_count": 25,
   "id": "fd3eb266",
   "metadata": {},
   "outputs": [
    {
     "data": {
      "text/plain": [
       "4751     0.0\n",
       "10415    0.0\n",
       "8786     0.0\n",
       "9721     0.0\n",
       "4163     0.0\n",
       "Name: Price, dtype: float64"
      ]
     },
     "execution_count": 25,
     "metadata": {},
     "output_type": "execute_result"
    }
   ],
   "source": [
    "app_df['Price'] = app_df['Price'].replace(r'\\$', '', regex=True)\n",
    "app_df = app_df.astype({'Price': float})\n",
    "app_df['Price'].sample(5)"
   ]
  },
  {
   "cell_type": "markdown",
   "id": "cf491932",
   "metadata": {},
   "source": [
    "#### Làm rõ ý nghĩa cột `Type` và cột `Price`"
   ]
  },
  {
   "cell_type": "markdown",
   "id": "0caa1d5b",
   "metadata": {},
   "source": [
    "Theo mô tả dữ liệu, cột `Type` và cột `Price` có ý nghĩa như sau:\n",
    "* **Type**: Kiểu ứng dụng miễn phí (Free) hay trả phí (Paid)\n",
    "* **Price**: Số tiền trả phí của ứng dụng (tại thời điểm thu thập dữ liệu)\n",
    "\n",
    "Như vậy, ta cần kiểm tra cột `Type` có giá trị là `'Free'` tương đương với cột `Price` có giá trị là 0, cột `Type` có giá trị là `'Paid'` tương đương với cột `Price` có giá trị lớn hơn 0."
   ]
  },
  {
   "cell_type": "markdown",
   "id": "b8067d0a",
   "metadata": {},
   "source": [
    "Kiểm tra các giá trị trong cột `Price` khi cột `Type` có giá trị là `'Free'`:"
   ]
  },
  {
   "cell_type": "code",
   "execution_count": 26,
   "id": "6f15eaf5",
   "metadata": {},
   "outputs": [
    {
     "data": {
      "text/plain": [
       "array([0.])"
      ]
     },
     "execution_count": 26,
     "metadata": {},
     "output_type": "execute_result"
    }
   ],
   "source": [
    "app_df[app_df['Type'] == 'Free']['Price'].unique()"
   ]
  },
  {
   "cell_type": "markdown",
   "id": "8c3952d3",
   "metadata": {},
   "source": [
    "Kiểm tra có bao nhiêu giá trị bé hơn hoặc bằng 0 trong cột `Price` khi cột `Type` có giá trị là `'Paid'`:"
   ]
  },
  {
   "cell_type": "code",
   "execution_count": 27,
   "id": "570ec39f",
   "metadata": {},
   "outputs": [
    {
     "data": {
      "text/plain": [
       "0"
      ]
     },
     "execution_count": 27,
     "metadata": {},
     "output_type": "execute_result"
    }
   ],
   "source": [
    "price_unique_array = app_df.loc[app_df['Type'] == 'Paid', 'Price']\n",
    "(price_unique_array <= 0).sum()"
   ]
  },
  {
   "cell_type": "markdown",
   "id": "dac43c69",
   "metadata": {},
   "source": [
    "Vậy dữ liệu trong cột `Type` và cột `Price` đã đúng theo mô tả dữ liệu."
   ]
  },
  {
   "cell_type": "markdown",
   "id": "562ff9b6",
   "metadata": {},
   "source": [
    "#### Chuyển dtype của cột `Last Updated` sang datetime"
   ]
  },
  {
   "cell_type": "code",
   "execution_count": 28,
   "id": "6c103c57",
   "metadata": {},
   "outputs": [],
   "source": [
    "app_df['Last Updated'] = pd.to_datetime(app_df['Last Updated'], format=\"%B %d, %Y\")"
   ]
  },
  {
   "cell_type": "markdown",
   "id": "0fd79889",
   "metadata": {},
   "source": [
    "#### Kiểu dữ liệu hiện tại của các cột dữ liệu"
   ]
  },
  {
   "cell_type": "code",
   "execution_count": 29,
   "id": "364c5635",
   "metadata": {},
   "outputs": [
    {
     "data": {
      "text/plain": [
       "App                       object\n",
       "Category                  object\n",
       "Rating                   float64\n",
       "Reviews                    int64\n",
       "Size                     float64\n",
       "Installs                category\n",
       "Type                      object\n",
       "Price                    float64\n",
       "Content Rating          category\n",
       "Genres                    object\n",
       "Last Updated      datetime64[ns]\n",
       "Current Ver               object\n",
       "Android Ver               object\n",
       "dtype: object"
      ]
     },
     "execution_count": 29,
     "metadata": {},
     "output_type": "execute_result"
    }
   ],
   "source": [
    "app_df.dtypes"
   ]
  },
  {
   "cell_type": "markdown",
   "id": "210f025f",
   "metadata": {},
   "source": [
    "#### Tiền xử lý trước khi xét phân bố giá trị trong các cột: Loại bỏ các dòng trùng lặp giá trị cột `App`"
   ]
  },
  {
   "cell_type": "markdown",
   "id": "0c536a24",
   "metadata": {},
   "source": [
    "Trước khi xét đến phân bố giá trị của các cột, ta cần xem xét một vấn đề nữa như sau:\\\n",
    "Theo mô tả dữ liệu, cột `App` có tất cả 9660 giá trị khác nhau. Do đó ta muốn kiểm tra rằng liệu những dòng có tên ứng dụng trùng nhau có phải là các ứng dụng khác nhau hay không.\\\n",
    "Xét một số dòng có giá trị cột `App` trùng nhau (bằng cách sắp xếp các dòng tăng dần theo cột `App`, xem 60 dòng đầu của bảng sau khi sắp xếp):"
   ]
  },
  {
   "cell_type": "code",
   "execution_count": 30,
   "id": "a7b26e01",
   "metadata": {},
   "outputs": [
    {
     "data": {
      "text/html": [
       "<div>\n",
       "<style scoped>\n",
       "    .dataframe tbody tr th:only-of-type {\n",
       "        vertical-align: middle;\n",
       "    }\n",
       "\n",
       "    .dataframe tbody tr th {\n",
       "        vertical-align: top;\n",
       "    }\n",
       "\n",
       "    .dataframe thead th {\n",
       "        text-align: right;\n",
       "    }\n",
       "</style>\n",
       "<table border=\"1\" class=\"dataframe\">\n",
       "  <thead>\n",
       "    <tr style=\"text-align: right;\">\n",
       "      <th></th>\n",
       "      <th>App</th>\n",
       "      <th>Category</th>\n",
       "      <th>Rating</th>\n",
       "      <th>Reviews</th>\n",
       "      <th>Size</th>\n",
       "      <th>Installs</th>\n",
       "      <th>Type</th>\n",
       "      <th>Price</th>\n",
       "      <th>Content Rating</th>\n",
       "      <th>Genres</th>\n",
       "      <th>Last Updated</th>\n",
       "      <th>Current Ver</th>\n",
       "      <th>Android Ver</th>\n",
       "    </tr>\n",
       "  </thead>\n",
       "  <tbody>\n",
       "    <tr>\n",
       "      <th>5415</th>\n",
       "      <td>365Scores - Live Scores</td>\n",
       "      <td>SPORTS</td>\n",
       "      <td>4.6</td>\n",
       "      <td>666246</td>\n",
       "      <td>25600.0</td>\n",
       "      <td>10,000,000+</td>\n",
       "      <td>Free</td>\n",
       "      <td>0.0</td>\n",
       "      <td>Everyone</td>\n",
       "      <td>Sports</td>\n",
       "      <td>2018-07-29</td>\n",
       "      <td>5.5.9</td>\n",
       "      <td>4.1 and up</td>\n",
       "    </tr>\n",
       "    <tr>\n",
       "      <th>3083</th>\n",
       "      <td>365Scores - Live Scores</td>\n",
       "      <td>SPORTS</td>\n",
       "      <td>4.6</td>\n",
       "      <td>666521</td>\n",
       "      <td>25600.0</td>\n",
       "      <td>10,000,000+</td>\n",
       "      <td>Free</td>\n",
       "      <td>0.0</td>\n",
       "      <td>Everyone</td>\n",
       "      <td>Sports</td>\n",
       "      <td>2018-07-29</td>\n",
       "      <td>5.5.9</td>\n",
       "      <td>4.1 and up</td>\n",
       "    </tr>\n",
       "    <tr>\n",
       "      <th>1755</th>\n",
       "      <td>8 Ball Pool</td>\n",
       "      <td>GAME</td>\n",
       "      <td>4.5</td>\n",
       "      <td>14200344</td>\n",
       "      <td>53248.0</td>\n",
       "      <td>100,000,000+</td>\n",
       "      <td>Free</td>\n",
       "      <td>0.0</td>\n",
       "      <td>Everyone</td>\n",
       "      <td>Sports</td>\n",
       "      <td>2018-07-31</td>\n",
       "      <td>4.0.0</td>\n",
       "      <td>4.0.3 and up</td>\n",
       "    </tr>\n",
       "    <tr>\n",
       "      <th>1703</th>\n",
       "      <td>8 Ball Pool</td>\n",
       "      <td>GAME</td>\n",
       "      <td>4.5</td>\n",
       "      <td>14198602</td>\n",
       "      <td>53248.0</td>\n",
       "      <td>100,000,000+</td>\n",
       "      <td>Free</td>\n",
       "      <td>0.0</td>\n",
       "      <td>Everyone</td>\n",
       "      <td>Sports</td>\n",
       "      <td>2018-07-31</td>\n",
       "      <td>4.0.0</td>\n",
       "      <td>4.0.3 and up</td>\n",
       "    </tr>\n",
       "    <tr>\n",
       "      <th>1871</th>\n",
       "      <td>8 Ball Pool</td>\n",
       "      <td>GAME</td>\n",
       "      <td>4.5</td>\n",
       "      <td>14201891</td>\n",
       "      <td>53248.0</td>\n",
       "      <td>100,000,000+</td>\n",
       "      <td>Free</td>\n",
       "      <td>0.0</td>\n",
       "      <td>Everyone</td>\n",
       "      <td>Sports</td>\n",
       "      <td>2018-07-31</td>\n",
       "      <td>4.0.0</td>\n",
       "      <td>4.0.3 and up</td>\n",
       "    </tr>\n",
       "    <tr>\n",
       "      <th>1844</th>\n",
       "      <td>8 Ball Pool</td>\n",
       "      <td>GAME</td>\n",
       "      <td>4.5</td>\n",
       "      <td>14200550</td>\n",
       "      <td>53248.0</td>\n",
       "      <td>100,000,000+</td>\n",
       "      <td>Free</td>\n",
       "      <td>0.0</td>\n",
       "      <td>Everyone</td>\n",
       "      <td>Sports</td>\n",
       "      <td>2018-07-31</td>\n",
       "      <td>4.0.0</td>\n",
       "      <td>4.0.3 and up</td>\n",
       "    </tr>\n",
       "    <tr>\n",
       "      <th>1675</th>\n",
       "      <td>8 Ball Pool</td>\n",
       "      <td>GAME</td>\n",
       "      <td>4.5</td>\n",
       "      <td>14198297</td>\n",
       "      <td>53248.0</td>\n",
       "      <td>100,000,000+</td>\n",
       "      <td>Free</td>\n",
       "      <td>0.0</td>\n",
       "      <td>Everyone</td>\n",
       "      <td>Sports</td>\n",
       "      <td>2018-07-31</td>\n",
       "      <td>4.0.0</td>\n",
       "      <td>4.0.3 and up</td>\n",
       "    </tr>\n",
       "    <tr>\n",
       "      <th>1970</th>\n",
       "      <td>8 Ball Pool</td>\n",
       "      <td>GAME</td>\n",
       "      <td>4.5</td>\n",
       "      <td>14201604</td>\n",
       "      <td>53248.0</td>\n",
       "      <td>100,000,000+</td>\n",
       "      <td>Free</td>\n",
       "      <td>0.0</td>\n",
       "      <td>Everyone</td>\n",
       "      <td>Sports</td>\n",
       "      <td>2018-07-31</td>\n",
       "      <td>4.0.0</td>\n",
       "      <td>4.0.3 and up</td>\n",
       "    </tr>\n",
       "    <tr>\n",
       "      <th>3953</th>\n",
       "      <td>8 Ball Pool</td>\n",
       "      <td>SPORTS</td>\n",
       "      <td>4.5</td>\n",
       "      <td>14184910</td>\n",
       "      <td>53248.0</td>\n",
       "      <td>100,000,000+</td>\n",
       "      <td>Free</td>\n",
       "      <td>0.0</td>\n",
       "      <td>Everyone</td>\n",
       "      <td>Sports</td>\n",
       "      <td>2018-07-31</td>\n",
       "      <td>4.0.0</td>\n",
       "      <td>4.0.3 and up</td>\n",
       "    </tr>\n",
       "    <tr>\n",
       "      <th>559</th>\n",
       "      <td>95Live -SG#1 Live Streaming App</td>\n",
       "      <td>DATING</td>\n",
       "      <td>4.1</td>\n",
       "      <td>4953</td>\n",
       "      <td>15360.0</td>\n",
       "      <td>1,000,000+</td>\n",
       "      <td>Free</td>\n",
       "      <td>0.0</td>\n",
       "      <td>Teen</td>\n",
       "      <td>Dating</td>\n",
       "      <td>2018-08-01</td>\n",
       "      <td>8.7.2</td>\n",
       "      <td>4.2 and up</td>\n",
       "    </tr>\n",
       "    <tr>\n",
       "      <th>662</th>\n",
       "      <td>95Live -SG#1 Live Streaming App</td>\n",
       "      <td>DATING</td>\n",
       "      <td>4.1</td>\n",
       "      <td>4954</td>\n",
       "      <td>15360.0</td>\n",
       "      <td>1,000,000+</td>\n",
       "      <td>Free</td>\n",
       "      <td>0.0</td>\n",
       "      <td>Teen</td>\n",
       "      <td>Dating</td>\n",
       "      <td>2018-08-01</td>\n",
       "      <td>8.7.2</td>\n",
       "      <td>4.2 and up</td>\n",
       "    </tr>\n",
       "    <tr>\n",
       "      <th>4991</th>\n",
       "      <td>A&amp;E - Watch Full Episodes of TV Shows</td>\n",
       "      <td>FAMILY</td>\n",
       "      <td>4.0</td>\n",
       "      <td>29708</td>\n",
       "      <td>19456.0</td>\n",
       "      <td>1,000,000+</td>\n",
       "      <td>Free</td>\n",
       "      <td>0.0</td>\n",
       "      <td>Teen</td>\n",
       "      <td>Entertainment</td>\n",
       "      <td>2018-07-16</td>\n",
       "      <td>3.1.4</td>\n",
       "      <td>4.4 and up</td>\n",
       "    </tr>\n",
       "    <tr>\n",
       "      <th>920</th>\n",
       "      <td>A&amp;E - Watch Full Episodes of TV Shows</td>\n",
       "      <td>ENTERTAINMENT</td>\n",
       "      <td>4.0</td>\n",
       "      <td>29706</td>\n",
       "      <td>19456.0</td>\n",
       "      <td>1,000,000+</td>\n",
       "      <td>Free</td>\n",
       "      <td>0.0</td>\n",
       "      <td>Teen</td>\n",
       "      <td>Entertainment</td>\n",
       "      <td>2018-07-16</td>\n",
       "      <td>3.1.4</td>\n",
       "      <td>4.4 and up</td>\n",
       "    </tr>\n",
       "    <tr>\n",
       "      <th>4928</th>\n",
       "      <td>AC - Tips &amp; News for Android™</td>\n",
       "      <td>NEWS_AND_MAGAZINES</td>\n",
       "      <td>4.2</td>\n",
       "      <td>23291</td>\n",
       "      <td>14336.0</td>\n",
       "      <td>1,000,000+</td>\n",
       "      <td>Free</td>\n",
       "      <td>0.0</td>\n",
       "      <td>Everyone 10+</td>\n",
       "      <td>News &amp; Magazines</td>\n",
       "      <td>2018-05-24</td>\n",
       "      <td>3.1.12</td>\n",
       "      <td>4.1 and up</td>\n",
       "    </tr>\n",
       "    <tr>\n",
       "      <th>3799</th>\n",
       "      <td>AC - Tips &amp; News for Android™</td>\n",
       "      <td>NEWS_AND_MAGAZINES</td>\n",
       "      <td>4.2</td>\n",
       "      <td>23292</td>\n",
       "      <td>14336.0</td>\n",
       "      <td>1,000,000+</td>\n",
       "      <td>Free</td>\n",
       "      <td>0.0</td>\n",
       "      <td>Everyone 10+</td>\n",
       "      <td>News &amp; Magazines</td>\n",
       "      <td>2018-05-24</td>\n",
       "      <td>3.1.12</td>\n",
       "      <td>4.1 and up</td>\n",
       "    </tr>\n",
       "    <tr>\n",
       "      <th>3791</th>\n",
       "      <td>AP Mobile - Breaking News</td>\n",
       "      <td>NEWS_AND_MAGAZINES</td>\n",
       "      <td>4.5</td>\n",
       "      <td>76677</td>\n",
       "      <td>4710.4</td>\n",
       "      <td>1,000,000+</td>\n",
       "      <td>Free</td>\n",
       "      <td>0.0</td>\n",
       "      <td>Everyone 10+</td>\n",
       "      <td>News &amp; Magazines</td>\n",
       "      <td>2017-05-25</td>\n",
       "      <td>4.4.3</td>\n",
       "      <td>4.0 and up</td>\n",
       "    </tr>\n",
       "    <tr>\n",
       "      <th>5448</th>\n",
       "      <td>AP Mobile - Breaking News</td>\n",
       "      <td>NEWS_AND_MAGAZINES</td>\n",
       "      <td>4.5</td>\n",
       "      <td>76616</td>\n",
       "      <td>4710.4</td>\n",
       "      <td>1,000,000+</td>\n",
       "      <td>Free</td>\n",
       "      <td>0.0</td>\n",
       "      <td>Everyone 10+</td>\n",
       "      <td>News &amp; Magazines</td>\n",
       "      <td>2017-05-25</td>\n",
       "      <td>4.4.3</td>\n",
       "      <td>4.0 and up</td>\n",
       "    </tr>\n",
       "    <tr>\n",
       "      <th>2771</th>\n",
       "      <td>ASOS</td>\n",
       "      <td>SHOPPING</td>\n",
       "      <td>4.7</td>\n",
       "      <td>181798</td>\n",
       "      <td>22528.0</td>\n",
       "      <td>10,000,000+</td>\n",
       "      <td>Free</td>\n",
       "      <td>0.0</td>\n",
       "      <td>Everyone</td>\n",
       "      <td>Shopping</td>\n",
       "      <td>2018-07-30</td>\n",
       "      <td>4.4.9</td>\n",
       "      <td>4.4 and up</td>\n",
       "    </tr>\n",
       "    <tr>\n",
       "      <th>2800</th>\n",
       "      <td>ASOS</td>\n",
       "      <td>SHOPPING</td>\n",
       "      <td>4.7</td>\n",
       "      <td>181823</td>\n",
       "      <td>22528.0</td>\n",
       "      <td>10,000,000+</td>\n",
       "      <td>Free</td>\n",
       "      <td>0.0</td>\n",
       "      <td>Everyone</td>\n",
       "      <td>Shopping</td>\n",
       "      <td>2018-07-30</td>\n",
       "      <td>4.4.9</td>\n",
       "      <td>4.4 and up</td>\n",
       "    </tr>\n",
       "    <tr>\n",
       "      <th>5512</th>\n",
       "      <td>AccuWeather: Daily Forecast &amp; Live Weather Rep...</td>\n",
       "      <td>WEATHER</td>\n",
       "      <td>4.4</td>\n",
       "      <td>2052407</td>\n",
       "      <td>NaN</td>\n",
       "      <td>50,000,000+</td>\n",
       "      <td>Free</td>\n",
       "      <td>0.0</td>\n",
       "      <td>Everyone</td>\n",
       "      <td>Weather</td>\n",
       "      <td>2018-08-02</td>\n",
       "      <td>Varies with device</td>\n",
       "      <td>Varies with device</td>\n",
       "    </tr>\n",
       "    <tr>\n",
       "      <th>3628</th>\n",
       "      <td>AccuWeather: Daily Forecast &amp; Live Weather Rep...</td>\n",
       "      <td>WEATHER</td>\n",
       "      <td>4.4</td>\n",
       "      <td>2053404</td>\n",
       "      <td>NaN</td>\n",
       "      <td>50,000,000+</td>\n",
       "      <td>Free</td>\n",
       "      <td>0.0</td>\n",
       "      <td>Everyone</td>\n",
       "      <td>Weather</td>\n",
       "      <td>2018-08-06</td>\n",
       "      <td>Varies with device</td>\n",
       "      <td>Varies with device</td>\n",
       "    </tr>\n",
       "    <tr>\n",
       "      <th>1143</th>\n",
       "      <td>Acorns - Invest Spare Change</td>\n",
       "      <td>FINANCE</td>\n",
       "      <td>4.3</td>\n",
       "      <td>45962</td>\n",
       "      <td>NaN</td>\n",
       "      <td>1,000,000+</td>\n",
       "      <td>Free</td>\n",
       "      <td>0.0</td>\n",
       "      <td>Everyone</td>\n",
       "      <td>Finance</td>\n",
       "      <td>2018-07-31</td>\n",
       "      <td>Varies with device</td>\n",
       "      <td>Varies with device</td>\n",
       "    </tr>\n",
       "    <tr>\n",
       "      <th>1095</th>\n",
       "      <td>Acorns - Invest Spare Change</td>\n",
       "      <td>FINANCE</td>\n",
       "      <td>4.3</td>\n",
       "      <td>45957</td>\n",
       "      <td>NaN</td>\n",
       "      <td>1,000,000+</td>\n",
       "      <td>Free</td>\n",
       "      <td>0.0</td>\n",
       "      <td>Everyone</td>\n",
       "      <td>Finance</td>\n",
       "      <td>2018-07-31</td>\n",
       "      <td>Varies with device</td>\n",
       "      <td>Varies with device</td>\n",
       "    </tr>\n",
       "    <tr>\n",
       "      <th>3895</th>\n",
       "      <td>Adobe Acrobat Reader</td>\n",
       "      <td>PRODUCTIVITY</td>\n",
       "      <td>4.3</td>\n",
       "      <td>3014548</td>\n",
       "      <td>NaN</td>\n",
       "      <td>100,000,000+</td>\n",
       "      <td>Free</td>\n",
       "      <td>0.0</td>\n",
       "      <td>Everyone</td>\n",
       "      <td>Productivity</td>\n",
       "      <td>2018-04-17</td>\n",
       "      <td>Varies with device</td>\n",
       "      <td>Varies with device</td>\n",
       "    </tr>\n",
       "    <tr>\n",
       "      <th>3452</th>\n",
       "      <td>Adobe Acrobat Reader</td>\n",
       "      <td>PRODUCTIVITY</td>\n",
       "      <td>4.3</td>\n",
       "      <td>3016297</td>\n",
       "      <td>NaN</td>\n",
       "      <td>100,000,000+</td>\n",
       "      <td>Free</td>\n",
       "      <td>0.0</td>\n",
       "      <td>Everyone</td>\n",
       "      <td>Productivity</td>\n",
       "      <td>2018-04-17</td>\n",
       "      <td>Varies with device</td>\n",
       "      <td>Varies with device</td>\n",
       "    </tr>\n",
       "    <tr>\n",
       "      <th>3524</th>\n",
       "      <td>Adobe Acrobat Reader</td>\n",
       "      <td>PRODUCTIVITY</td>\n",
       "      <td>4.3</td>\n",
       "      <td>3016305</td>\n",
       "      <td>NaN</td>\n",
       "      <td>100,000,000+</td>\n",
       "      <td>Free</td>\n",
       "      <td>0.0</td>\n",
       "      <td>Everyone</td>\n",
       "      <td>Productivity</td>\n",
       "      <td>2018-04-17</td>\n",
       "      <td>Varies with device</td>\n",
       "      <td>Varies with device</td>\n",
       "    </tr>\n",
       "    <tr>\n",
       "      <th>2814</th>\n",
       "      <td>Adobe Photoshop Express:Photo Editor Collage M...</td>\n",
       "      <td>PHOTOGRAPHY</td>\n",
       "      <td>4.2</td>\n",
       "      <td>914804</td>\n",
       "      <td>NaN</td>\n",
       "      <td>50,000,000+</td>\n",
       "      <td>Free</td>\n",
       "      <td>0.0</td>\n",
       "      <td>Everyone</td>\n",
       "      <td>Photography</td>\n",
       "      <td>2018-07-22</td>\n",
       "      <td>5.0.508</td>\n",
       "      <td>4.4 and up</td>\n",
       "    </tr>\n",
       "    <tr>\n",
       "      <th>2936</th>\n",
       "      <td>Adobe Photoshop Express:Photo Editor Collage M...</td>\n",
       "      <td>PHOTOGRAPHY</td>\n",
       "      <td>4.2</td>\n",
       "      <td>914917</td>\n",
       "      <td>NaN</td>\n",
       "      <td>50,000,000+</td>\n",
       "      <td>Free</td>\n",
       "      <td>0.0</td>\n",
       "      <td>Everyone</td>\n",
       "      <td>Photography</td>\n",
       "      <td>2018-07-22</td>\n",
       "      <td>5.0.508</td>\n",
       "      <td>4.4 and up</td>\n",
       "    </tr>\n",
       "    <tr>\n",
       "      <th>3880</th>\n",
       "      <td>Agar.io</td>\n",
       "      <td>GAME</td>\n",
       "      <td>4.2</td>\n",
       "      <td>3815614</td>\n",
       "      <td>32768.0</td>\n",
       "      <td>100,000,000+</td>\n",
       "      <td>Free</td>\n",
       "      <td>0.0</td>\n",
       "      <td>Everyone</td>\n",
       "      <td>Action</td>\n",
       "      <td>2018-07-23</td>\n",
       "      <td>2.2.8</td>\n",
       "      <td>4.0.3 and up</td>\n",
       "    </tr>\n",
       "    <tr>\n",
       "      <th>1947</th>\n",
       "      <td>Agar.io</td>\n",
       "      <td>GAME</td>\n",
       "      <td>4.2</td>\n",
       "      <td>3816799</td>\n",
       "      <td>32768.0</td>\n",
       "      <td>100,000,000+</td>\n",
       "      <td>Free</td>\n",
       "      <td>0.0</td>\n",
       "      <td>Everyone</td>\n",
       "      <td>Action</td>\n",
       "      <td>2018-07-23</td>\n",
       "      <td>2.2.8</td>\n",
       "      <td>4.0.3 and up</td>\n",
       "    </tr>\n",
       "    <tr>\n",
       "      <th>3215</th>\n",
       "      <td>Airbnb</td>\n",
       "      <td>TRAVEL_AND_LOCAL</td>\n",
       "      <td>4.4</td>\n",
       "      <td>359560</td>\n",
       "      <td>NaN</td>\n",
       "      <td>10,000,000+</td>\n",
       "      <td>Free</td>\n",
       "      <td>0.0</td>\n",
       "      <td>Everyone</td>\n",
       "      <td>Travel &amp; Local</td>\n",
       "      <td>2018-08-02</td>\n",
       "      <td>Varies with device</td>\n",
       "      <td>Varies with device</td>\n",
       "    </tr>\n",
       "    <tr>\n",
       "      <th>3116</th>\n",
       "      <td>Airbnb</td>\n",
       "      <td>TRAVEL_AND_LOCAL</td>\n",
       "      <td>4.4</td>\n",
       "      <td>359403</td>\n",
       "      <td>NaN</td>\n",
       "      <td>10,000,000+</td>\n",
       "      <td>Free</td>\n",
       "      <td>0.0</td>\n",
       "      <td>Everyone</td>\n",
       "      <td>Travel &amp; Local</td>\n",
       "      <td>2018-08-02</td>\n",
       "      <td>Varies with device</td>\n",
       "      <td>Varies with device</td>\n",
       "    </tr>\n",
       "    <tr>\n",
       "      <th>2790</th>\n",
       "      <td>AliExpress - Smarter Shopping, Better Living</td>\n",
       "      <td>SHOPPING</td>\n",
       "      <td>4.6</td>\n",
       "      <td>5917485</td>\n",
       "      <td>NaN</td>\n",
       "      <td>100,000,000+</td>\n",
       "      <td>Free</td>\n",
       "      <td>0.0</td>\n",
       "      <td>Teen</td>\n",
       "      <td>Shopping</td>\n",
       "      <td>2018-08-06</td>\n",
       "      <td>Varies with device</td>\n",
       "      <td>Varies with device</td>\n",
       "    </tr>\n",
       "    <tr>\n",
       "      <th>2756</th>\n",
       "      <td>AliExpress - Smarter Shopping, Better Living</td>\n",
       "      <td>SHOPPING</td>\n",
       "      <td>4.6</td>\n",
       "      <td>5916569</td>\n",
       "      <td>NaN</td>\n",
       "      <td>100,000,000+</td>\n",
       "      <td>Free</td>\n",
       "      <td>0.0</td>\n",
       "      <td>Teen</td>\n",
       "      <td>Shopping</td>\n",
       "      <td>2018-08-06</td>\n",
       "      <td>Varies with device</td>\n",
       "      <td>Varies with device</td>\n",
       "    </tr>\n",
       "    <tr>\n",
       "      <th>2660</th>\n",
       "      <td>AliExpress - Smarter Shopping, Better Living</td>\n",
       "      <td>SHOPPING</td>\n",
       "      <td>4.6</td>\n",
       "      <td>5916606</td>\n",
       "      <td>NaN</td>\n",
       "      <td>100,000,000+</td>\n",
       "      <td>Free</td>\n",
       "      <td>0.0</td>\n",
       "      <td>Teen</td>\n",
       "      <td>Shopping</td>\n",
       "      <td>2018-08-06</td>\n",
       "      <td>Varies with device</td>\n",
       "      <td>Varies with device</td>\n",
       "    </tr>\n",
       "    <tr>\n",
       "      <th>4099</th>\n",
       "      <td>AliExpress - Smarter Shopping, Better Living</td>\n",
       "      <td>SHOPPING</td>\n",
       "      <td>4.6</td>\n",
       "      <td>5911055</td>\n",
       "      <td>NaN</td>\n",
       "      <td>100,000,000+</td>\n",
       "      <td>Free</td>\n",
       "      <td>0.0</td>\n",
       "      <td>Teen</td>\n",
       "      <td>Shopping</td>\n",
       "      <td>2018-08-01</td>\n",
       "      <td>Varies with device</td>\n",
       "      <td>Varies with device</td>\n",
       "    </tr>\n",
       "    <tr>\n",
       "      <th>5075</th>\n",
       "      <td>All Football - Latest News &amp; Videos</td>\n",
       "      <td>SPORTS</td>\n",
       "      <td>4.6</td>\n",
       "      <td>152653</td>\n",
       "      <td>17408.0</td>\n",
       "      <td>10,000,000+</td>\n",
       "      <td>Free</td>\n",
       "      <td>0.0</td>\n",
       "      <td>Everyone</td>\n",
       "      <td>Sports</td>\n",
       "      <td>2018-08-03</td>\n",
       "      <td>3.0.5</td>\n",
       "      <td>4.1 and up</td>\n",
       "    </tr>\n",
       "    <tr>\n",
       "      <th>2982</th>\n",
       "      <td>All Football - Latest News &amp; Videos</td>\n",
       "      <td>SPORTS</td>\n",
       "      <td>4.6</td>\n",
       "      <td>152867</td>\n",
       "      <td>17408.0</td>\n",
       "      <td>10,000,000+</td>\n",
       "      <td>Free</td>\n",
       "      <td>0.0</td>\n",
       "      <td>Everyone</td>\n",
       "      <td>Sports</td>\n",
       "      <td>2018-08-03</td>\n",
       "      <td>3.0.5</td>\n",
       "      <td>4.1 and up</td>\n",
       "    </tr>\n",
       "    <tr>\n",
       "      <th>2549</th>\n",
       "      <td>All Social Networks</td>\n",
       "      <td>SOCIAL</td>\n",
       "      <td>4.2</td>\n",
       "      <td>22492</td>\n",
       "      <td>1536.0</td>\n",
       "      <td>1,000,000+</td>\n",
       "      <td>Free</td>\n",
       "      <td>0.0</td>\n",
       "      <td>Everyone</td>\n",
       "      <td>Social</td>\n",
       "      <td>2018-05-21</td>\n",
       "      <td>2.4.12</td>\n",
       "      <td>4.0 and up</td>\n",
       "    </tr>\n",
       "    <tr>\n",
       "      <th>10171</th>\n",
       "      <td>All Social Networks</td>\n",
       "      <td>SOCIAL</td>\n",
       "      <td>4.2</td>\n",
       "      <td>22650</td>\n",
       "      <td>1536.0</td>\n",
       "      <td>1,000,000+</td>\n",
       "      <td>Free</td>\n",
       "      <td>0.0</td>\n",
       "      <td>Everyone</td>\n",
       "      <td>Social</td>\n",
       "      <td>2018-05-21</td>\n",
       "      <td>2.4.12</td>\n",
       "      <td>4.0 and up</td>\n",
       "    </tr>\n",
       "    <tr>\n",
       "      <th>3936</th>\n",
       "      <td>Alto's Adventure</td>\n",
       "      <td>GAME</td>\n",
       "      <td>4.6</td>\n",
       "      <td>515240</td>\n",
       "      <td>64512.0</td>\n",
       "      <td>10,000,000+</td>\n",
       "      <td>Free</td>\n",
       "      <td>0.0</td>\n",
       "      <td>Everyone</td>\n",
       "      <td>Action</td>\n",
       "      <td>2018-06-05</td>\n",
       "      <td>1.7.1</td>\n",
       "      <td>4.0 and up</td>\n",
       "    </tr>\n",
       "    <tr>\n",
       "      <th>1933</th>\n",
       "      <td>Alto's Adventure</td>\n",
       "      <td>GAME</td>\n",
       "      <td>4.6</td>\n",
       "      <td>515657</td>\n",
       "      <td>64512.0</td>\n",
       "      <td>10,000,000+</td>\n",
       "      <td>Free</td>\n",
       "      <td>0.0</td>\n",
       "      <td>Everyone</td>\n",
       "      <td>Action</td>\n",
       "      <td>2018-06-05</td>\n",
       "      <td>1.7.1</td>\n",
       "      <td>4.0 and up</td>\n",
       "    </tr>\n",
       "    <tr>\n",
       "      <th>143</th>\n",
       "      <td>Amazon Kindle</td>\n",
       "      <td>BOOKS_AND_REFERENCE</td>\n",
       "      <td>4.2</td>\n",
       "      <td>814080</td>\n",
       "      <td>NaN</td>\n",
       "      <td>100,000,000+</td>\n",
       "      <td>Free</td>\n",
       "      <td>0.0</td>\n",
       "      <td>Teen</td>\n",
       "      <td>Books &amp; Reference</td>\n",
       "      <td>2018-07-27</td>\n",
       "      <td>Varies with device</td>\n",
       "      <td>Varies with device</td>\n",
       "    </tr>\n",
       "    <tr>\n",
       "      <th>4083</th>\n",
       "      <td>Amazon Kindle</td>\n",
       "      <td>BOOKS_AND_REFERENCE</td>\n",
       "      <td>4.2</td>\n",
       "      <td>814151</td>\n",
       "      <td>NaN</td>\n",
       "      <td>100,000,000+</td>\n",
       "      <td>Free</td>\n",
       "      <td>0.0</td>\n",
       "      <td>Teen</td>\n",
       "      <td>Books &amp; Reference</td>\n",
       "      <td>2018-07-27</td>\n",
       "      <td>Varies with device</td>\n",
       "      <td>Varies with device</td>\n",
       "    </tr>\n",
       "    <tr>\n",
       "      <th>3922</th>\n",
       "      <td>Amazon Shopping</td>\n",
       "      <td>SHOPPING</td>\n",
       "      <td>4.3</td>\n",
       "      <td>908525</td>\n",
       "      <td>43008.0</td>\n",
       "      <td>100,000,000+</td>\n",
       "      <td>Free</td>\n",
       "      <td>0.0</td>\n",
       "      <td>Teen</td>\n",
       "      <td>Shopping</td>\n",
       "      <td>2018-07-31</td>\n",
       "      <td>16.14.0.100</td>\n",
       "      <td>4.4 and up</td>\n",
       "    </tr>\n",
       "    <tr>\n",
       "      <th>2664</th>\n",
       "      <td>Amazon Shopping</td>\n",
       "      <td>SHOPPING</td>\n",
       "      <td>4.3</td>\n",
       "      <td>909226</td>\n",
       "      <td>43008.0</td>\n",
       "      <td>100,000,000+</td>\n",
       "      <td>Free</td>\n",
       "      <td>0.0</td>\n",
       "      <td>Teen</td>\n",
       "      <td>Shopping</td>\n",
       "      <td>2018-07-31</td>\n",
       "      <td>16.14.0.100</td>\n",
       "      <td>4.4 and up</td>\n",
       "    </tr>\n",
       "    <tr>\n",
       "      <th>2763</th>\n",
       "      <td>Amazon Shopping</td>\n",
       "      <td>SHOPPING</td>\n",
       "      <td>4.3</td>\n",
       "      <td>909204</td>\n",
       "      <td>43008.0</td>\n",
       "      <td>100,000,000+</td>\n",
       "      <td>Free</td>\n",
       "      <td>0.0</td>\n",
       "      <td>Teen</td>\n",
       "      <td>Shopping</td>\n",
       "      <td>2018-07-31</td>\n",
       "      <td>16.14.0.100</td>\n",
       "      <td>4.4 and up</td>\n",
       "    </tr>\n",
       "    <tr>\n",
       "      <th>2654</th>\n",
       "      <td>Amazon for Tablets</td>\n",
       "      <td>SHOPPING</td>\n",
       "      <td>4.0</td>\n",
       "      <td>141613</td>\n",
       "      <td>22528.0</td>\n",
       "      <td>10,000,000+</td>\n",
       "      <td>Free</td>\n",
       "      <td>0.0</td>\n",
       "      <td>Teen</td>\n",
       "      <td>Shopping</td>\n",
       "      <td>2018-07-31</td>\n",
       "      <td>16.14.0.850</td>\n",
       "      <td>4.4 and up</td>\n",
       "    </tr>\n",
       "    <tr>\n",
       "      <th>5353</th>\n",
       "      <td>Amazon for Tablets</td>\n",
       "      <td>SHOPPING</td>\n",
       "      <td>4.0</td>\n",
       "      <td>141584</td>\n",
       "      <td>22528.0</td>\n",
       "      <td>10,000,000+</td>\n",
       "      <td>Free</td>\n",
       "      <td>0.0</td>\n",
       "      <td>Teen</td>\n",
       "      <td>Shopping</td>\n",
       "      <td>2018-07-31</td>\n",
       "      <td>16.14.0.850</td>\n",
       "      <td>4.4 and up</td>\n",
       "    </tr>\n",
       "    <tr>\n",
       "      <th>3158</th>\n",
       "      <td>American Airlines</td>\n",
       "      <td>TRAVEL_AND_LOCAL</td>\n",
       "      <td>3.7</td>\n",
       "      <td>16980</td>\n",
       "      <td>NaN</td>\n",
       "      <td>5,000,000+</td>\n",
       "      <td>Free</td>\n",
       "      <td>0.0</td>\n",
       "      <td>Everyone</td>\n",
       "      <td>Travel &amp; Local</td>\n",
       "      <td>2018-07-18</td>\n",
       "      <td>Varies with device</td>\n",
       "      <td>Varies with device</td>\n",
       "    </tr>\n",
       "    <tr>\n",
       "      <th>5952</th>\n",
       "      <td>American Airlines</td>\n",
       "      <td>TRAVEL_AND_LOCAL</td>\n",
       "      <td>3.7</td>\n",
       "      <td>16973</td>\n",
       "      <td>NaN</td>\n",
       "      <td>5,000,000+</td>\n",
       "      <td>Free</td>\n",
       "      <td>0.0</td>\n",
       "      <td>Everyone</td>\n",
       "      <td>Travel &amp; Local</td>\n",
       "      <td>2018-07-18</td>\n",
       "      <td>Varies with device</td>\n",
       "      <td>Varies with device</td>\n",
       "    </tr>\n",
       "    <tr>\n",
       "      <th>2571</th>\n",
       "      <td>Amino: Communities and Chats</td>\n",
       "      <td>SOCIAL</td>\n",
       "      <td>4.8</td>\n",
       "      <td>1259075</td>\n",
       "      <td>63488.0</td>\n",
       "      <td>10,000,000+</td>\n",
       "      <td>Free</td>\n",
       "      <td>0.0</td>\n",
       "      <td>Teen</td>\n",
       "      <td>Social</td>\n",
       "      <td>2018-07-20</td>\n",
       "      <td>1.8.19179</td>\n",
       "      <td>4.0.3 and up</td>\n",
       "    </tr>\n",
       "    <tr>\n",
       "      <th>9853</th>\n",
       "      <td>Amino: Communities and Chats</td>\n",
       "      <td>SOCIAL</td>\n",
       "      <td>4.8</td>\n",
       "      <td>1264084</td>\n",
       "      <td>63488.0</td>\n",
       "      <td>10,000,000+</td>\n",
       "      <td>Free</td>\n",
       "      <td>0.0</td>\n",
       "      <td>Teen</td>\n",
       "      <td>Social</td>\n",
       "      <td>2018-08-07</td>\n",
       "      <td>1.8.19179</td>\n",
       "      <td>4.0.3 and up</td>\n",
       "    </tr>\n",
       "    <tr>\n",
       "      <th>1938</th>\n",
       "      <td>Anger of stick 5 : zombie</td>\n",
       "      <td>GAME</td>\n",
       "      <td>4.5</td>\n",
       "      <td>549039</td>\n",
       "      <td>23552.0</td>\n",
       "      <td>50,000,000+</td>\n",
       "      <td>Free</td>\n",
       "      <td>0.0</td>\n",
       "      <td>Teen</td>\n",
       "      <td>Action</td>\n",
       "      <td>2018-08-03</td>\n",
       "      <td>1.1.5</td>\n",
       "      <td>2.3 and up</td>\n",
       "    </tr>\n",
       "    <tr>\n",
       "      <th>4252</th>\n",
       "      <td>Anger of stick 5 : zombie</td>\n",
       "      <td>GAME</td>\n",
       "      <td>4.5</td>\n",
       "      <td>547644</td>\n",
       "      <td>23552.0</td>\n",
       "      <td>50,000,000+</td>\n",
       "      <td>Free</td>\n",
       "      <td>0.0</td>\n",
       "      <td>Teen</td>\n",
       "      <td>Action</td>\n",
       "      <td>2018-08-03</td>\n",
       "      <td>1.1.5</td>\n",
       "      <td>2.3 and up</td>\n",
       "    </tr>\n",
       "    <tr>\n",
       "      <th>4864</th>\n",
       "      <td>Angry Birds 2</td>\n",
       "      <td>FAMILY</td>\n",
       "      <td>4.6</td>\n",
       "      <td>3881752</td>\n",
       "      <td>58368.0</td>\n",
       "      <td>100,000,000+</td>\n",
       "      <td>Free</td>\n",
       "      <td>0.0</td>\n",
       "      <td>Everyone</td>\n",
       "      <td>Casual</td>\n",
       "      <td>2018-07-26</td>\n",
       "      <td>2.21.1</td>\n",
       "      <td>4.1 and up</td>\n",
       "    </tr>\n",
       "    <tr>\n",
       "      <th>1843</th>\n",
       "      <td>Angry Birds 2</td>\n",
       "      <td>GAME</td>\n",
       "      <td>4.6</td>\n",
       "      <td>3883589</td>\n",
       "      <td>58368.0</td>\n",
       "      <td>100,000,000+</td>\n",
       "      <td>Free</td>\n",
       "      <td>0.0</td>\n",
       "      <td>Everyone</td>\n",
       "      <td>Casual</td>\n",
       "      <td>2018-07-26</td>\n",
       "      <td>2.21.1</td>\n",
       "      <td>4.1 and up</td>\n",
       "    </tr>\n",
       "    <tr>\n",
       "      <th>1990</th>\n",
       "      <td>Angry Birds Classic</td>\n",
       "      <td>GAME</td>\n",
       "      <td>4.4</td>\n",
       "      <td>5566908</td>\n",
       "      <td>99328.0</td>\n",
       "      <td>100,000,000+</td>\n",
       "      <td>Free</td>\n",
       "      <td>0.0</td>\n",
       "      <td>Everyone</td>\n",
       "      <td>Arcade</td>\n",
       "      <td>2018-05-24</td>\n",
       "      <td>7.9.3</td>\n",
       "      <td>4.1 and up</td>\n",
       "    </tr>\n",
       "    <tr>\n",
       "      <th>3883</th>\n",
       "      <td>Angry Birds Classic</td>\n",
       "      <td>GAME</td>\n",
       "      <td>4.4</td>\n",
       "      <td>5565856</td>\n",
       "      <td>99328.0</td>\n",
       "      <td>100,000,000+</td>\n",
       "      <td>Free</td>\n",
       "      <td>0.0</td>\n",
       "      <td>Everyone</td>\n",
       "      <td>Arcade</td>\n",
       "      <td>2018-05-24</td>\n",
       "      <td>7.9.3</td>\n",
       "      <td>4.1 and up</td>\n",
       "    </tr>\n",
       "    <tr>\n",
       "      <th>1905</th>\n",
       "      <td>Angry Birds Classic</td>\n",
       "      <td>GAME</td>\n",
       "      <td>4.4</td>\n",
       "      <td>5566889</td>\n",
       "      <td>99328.0</td>\n",
       "      <td>100,000,000+</td>\n",
       "      <td>Free</td>\n",
       "      <td>0.0</td>\n",
       "      <td>Everyone</td>\n",
       "      <td>Arcade</td>\n",
       "      <td>2018-05-24</td>\n",
       "      <td>7.9.3</td>\n",
       "      <td>4.1 and up</td>\n",
       "    </tr>\n",
       "  </tbody>\n",
       "</table>\n",
       "</div>"
      ],
      "text/plain": [
       "                                                     App             Category  \\\n",
       "5415                             365Scores - Live Scores               SPORTS   \n",
       "3083                             365Scores - Live Scores               SPORTS   \n",
       "1755                                         8 Ball Pool                 GAME   \n",
       "1703                                         8 Ball Pool                 GAME   \n",
       "1871                                         8 Ball Pool                 GAME   \n",
       "1844                                         8 Ball Pool                 GAME   \n",
       "1675                                         8 Ball Pool                 GAME   \n",
       "1970                                         8 Ball Pool                 GAME   \n",
       "3953                                         8 Ball Pool               SPORTS   \n",
       "559                      95Live -SG#1 Live Streaming App               DATING   \n",
       "662                      95Live -SG#1 Live Streaming App               DATING   \n",
       "4991               A&E - Watch Full Episodes of TV Shows               FAMILY   \n",
       "920                A&E - Watch Full Episodes of TV Shows        ENTERTAINMENT   \n",
       "4928                       AC - Tips & News for Android™   NEWS_AND_MAGAZINES   \n",
       "3799                       AC - Tips & News for Android™   NEWS_AND_MAGAZINES   \n",
       "3791                           AP Mobile - Breaking News   NEWS_AND_MAGAZINES   \n",
       "5448                           AP Mobile - Breaking News   NEWS_AND_MAGAZINES   \n",
       "2771                                                ASOS             SHOPPING   \n",
       "2800                                                ASOS             SHOPPING   \n",
       "5512   AccuWeather: Daily Forecast & Live Weather Rep...              WEATHER   \n",
       "3628   AccuWeather: Daily Forecast & Live Weather Rep...              WEATHER   \n",
       "1143                        Acorns - Invest Spare Change              FINANCE   \n",
       "1095                        Acorns - Invest Spare Change              FINANCE   \n",
       "3895                                Adobe Acrobat Reader         PRODUCTIVITY   \n",
       "3452                                Adobe Acrobat Reader         PRODUCTIVITY   \n",
       "3524                                Adobe Acrobat Reader         PRODUCTIVITY   \n",
       "2814   Adobe Photoshop Express:Photo Editor Collage M...          PHOTOGRAPHY   \n",
       "2936   Adobe Photoshop Express:Photo Editor Collage M...          PHOTOGRAPHY   \n",
       "3880                                             Agar.io                 GAME   \n",
       "1947                                             Agar.io                 GAME   \n",
       "3215                                              Airbnb     TRAVEL_AND_LOCAL   \n",
       "3116                                              Airbnb     TRAVEL_AND_LOCAL   \n",
       "2790        AliExpress - Smarter Shopping, Better Living             SHOPPING   \n",
       "2756        AliExpress - Smarter Shopping, Better Living             SHOPPING   \n",
       "2660        AliExpress - Smarter Shopping, Better Living             SHOPPING   \n",
       "4099        AliExpress - Smarter Shopping, Better Living             SHOPPING   \n",
       "5075                 All Football - Latest News & Videos               SPORTS   \n",
       "2982                 All Football - Latest News & Videos               SPORTS   \n",
       "2549                                 All Social Networks               SOCIAL   \n",
       "10171                                All Social Networks               SOCIAL   \n",
       "3936                                    Alto's Adventure                 GAME   \n",
       "1933                                    Alto's Adventure                 GAME   \n",
       "143                                        Amazon Kindle  BOOKS_AND_REFERENCE   \n",
       "4083                                       Amazon Kindle  BOOKS_AND_REFERENCE   \n",
       "3922                                     Amazon Shopping             SHOPPING   \n",
       "2664                                     Amazon Shopping             SHOPPING   \n",
       "2763                                     Amazon Shopping             SHOPPING   \n",
       "2654                                  Amazon for Tablets             SHOPPING   \n",
       "5353                                  Amazon for Tablets             SHOPPING   \n",
       "3158                                   American Airlines     TRAVEL_AND_LOCAL   \n",
       "5952                                   American Airlines     TRAVEL_AND_LOCAL   \n",
       "2571                        Amino: Communities and Chats               SOCIAL   \n",
       "9853                        Amino: Communities and Chats               SOCIAL   \n",
       "1938                           Anger of stick 5 : zombie                 GAME   \n",
       "4252                           Anger of stick 5 : zombie                 GAME   \n",
       "4864                                       Angry Birds 2               FAMILY   \n",
       "1843                                       Angry Birds 2                 GAME   \n",
       "1990                                 Angry Birds Classic                 GAME   \n",
       "3883                                 Angry Birds Classic                 GAME   \n",
       "1905                                 Angry Birds Classic                 GAME   \n",
       "\n",
       "       Rating   Reviews     Size      Installs  Type  Price Content Rating  \\\n",
       "5415      4.6    666246  25600.0   10,000,000+  Free    0.0       Everyone   \n",
       "3083      4.6    666521  25600.0   10,000,000+  Free    0.0       Everyone   \n",
       "1755      4.5  14200344  53248.0  100,000,000+  Free    0.0       Everyone   \n",
       "1703      4.5  14198602  53248.0  100,000,000+  Free    0.0       Everyone   \n",
       "1871      4.5  14201891  53248.0  100,000,000+  Free    0.0       Everyone   \n",
       "1844      4.5  14200550  53248.0  100,000,000+  Free    0.0       Everyone   \n",
       "1675      4.5  14198297  53248.0  100,000,000+  Free    0.0       Everyone   \n",
       "1970      4.5  14201604  53248.0  100,000,000+  Free    0.0       Everyone   \n",
       "3953      4.5  14184910  53248.0  100,000,000+  Free    0.0       Everyone   \n",
       "559       4.1      4953  15360.0    1,000,000+  Free    0.0           Teen   \n",
       "662       4.1      4954  15360.0    1,000,000+  Free    0.0           Teen   \n",
       "4991      4.0     29708  19456.0    1,000,000+  Free    0.0           Teen   \n",
       "920       4.0     29706  19456.0    1,000,000+  Free    0.0           Teen   \n",
       "4928      4.2     23291  14336.0    1,000,000+  Free    0.0   Everyone 10+   \n",
       "3799      4.2     23292  14336.0    1,000,000+  Free    0.0   Everyone 10+   \n",
       "3791      4.5     76677   4710.4    1,000,000+  Free    0.0   Everyone 10+   \n",
       "5448      4.5     76616   4710.4    1,000,000+  Free    0.0   Everyone 10+   \n",
       "2771      4.7    181798  22528.0   10,000,000+  Free    0.0       Everyone   \n",
       "2800      4.7    181823  22528.0   10,000,000+  Free    0.0       Everyone   \n",
       "5512      4.4   2052407      NaN   50,000,000+  Free    0.0       Everyone   \n",
       "3628      4.4   2053404      NaN   50,000,000+  Free    0.0       Everyone   \n",
       "1143      4.3     45962      NaN    1,000,000+  Free    0.0       Everyone   \n",
       "1095      4.3     45957      NaN    1,000,000+  Free    0.0       Everyone   \n",
       "3895      4.3   3014548      NaN  100,000,000+  Free    0.0       Everyone   \n",
       "3452      4.3   3016297      NaN  100,000,000+  Free    0.0       Everyone   \n",
       "3524      4.3   3016305      NaN  100,000,000+  Free    0.0       Everyone   \n",
       "2814      4.2    914804      NaN   50,000,000+  Free    0.0       Everyone   \n",
       "2936      4.2    914917      NaN   50,000,000+  Free    0.0       Everyone   \n",
       "3880      4.2   3815614  32768.0  100,000,000+  Free    0.0       Everyone   \n",
       "1947      4.2   3816799  32768.0  100,000,000+  Free    0.0       Everyone   \n",
       "3215      4.4    359560      NaN   10,000,000+  Free    0.0       Everyone   \n",
       "3116      4.4    359403      NaN   10,000,000+  Free    0.0       Everyone   \n",
       "2790      4.6   5917485      NaN  100,000,000+  Free    0.0           Teen   \n",
       "2756      4.6   5916569      NaN  100,000,000+  Free    0.0           Teen   \n",
       "2660      4.6   5916606      NaN  100,000,000+  Free    0.0           Teen   \n",
       "4099      4.6   5911055      NaN  100,000,000+  Free    0.0           Teen   \n",
       "5075      4.6    152653  17408.0   10,000,000+  Free    0.0       Everyone   \n",
       "2982      4.6    152867  17408.0   10,000,000+  Free    0.0       Everyone   \n",
       "2549      4.2     22492   1536.0    1,000,000+  Free    0.0       Everyone   \n",
       "10171     4.2     22650   1536.0    1,000,000+  Free    0.0       Everyone   \n",
       "3936      4.6    515240  64512.0   10,000,000+  Free    0.0       Everyone   \n",
       "1933      4.6    515657  64512.0   10,000,000+  Free    0.0       Everyone   \n",
       "143       4.2    814080      NaN  100,000,000+  Free    0.0           Teen   \n",
       "4083      4.2    814151      NaN  100,000,000+  Free    0.0           Teen   \n",
       "3922      4.3    908525  43008.0  100,000,000+  Free    0.0           Teen   \n",
       "2664      4.3    909226  43008.0  100,000,000+  Free    0.0           Teen   \n",
       "2763      4.3    909204  43008.0  100,000,000+  Free    0.0           Teen   \n",
       "2654      4.0    141613  22528.0   10,000,000+  Free    0.0           Teen   \n",
       "5353      4.0    141584  22528.0   10,000,000+  Free    0.0           Teen   \n",
       "3158      3.7     16980      NaN    5,000,000+  Free    0.0       Everyone   \n",
       "5952      3.7     16973      NaN    5,000,000+  Free    0.0       Everyone   \n",
       "2571      4.8   1259075  63488.0   10,000,000+  Free    0.0           Teen   \n",
       "9853      4.8   1264084  63488.0   10,000,000+  Free    0.0           Teen   \n",
       "1938      4.5    549039  23552.0   50,000,000+  Free    0.0           Teen   \n",
       "4252      4.5    547644  23552.0   50,000,000+  Free    0.0           Teen   \n",
       "4864      4.6   3881752  58368.0  100,000,000+  Free    0.0       Everyone   \n",
       "1843      4.6   3883589  58368.0  100,000,000+  Free    0.0       Everyone   \n",
       "1990      4.4   5566908  99328.0  100,000,000+  Free    0.0       Everyone   \n",
       "3883      4.4   5565856  99328.0  100,000,000+  Free    0.0       Everyone   \n",
       "1905      4.4   5566889  99328.0  100,000,000+  Free    0.0       Everyone   \n",
       "\n",
       "                  Genres Last Updated         Current Ver         Android Ver  \n",
       "5415              Sports   2018-07-29               5.5.9          4.1 and up  \n",
       "3083              Sports   2018-07-29               5.5.9          4.1 and up  \n",
       "1755              Sports   2018-07-31               4.0.0        4.0.3 and up  \n",
       "1703              Sports   2018-07-31               4.0.0        4.0.3 and up  \n",
       "1871              Sports   2018-07-31               4.0.0        4.0.3 and up  \n",
       "1844              Sports   2018-07-31               4.0.0        4.0.3 and up  \n",
       "1675              Sports   2018-07-31               4.0.0        4.0.3 and up  \n",
       "1970              Sports   2018-07-31               4.0.0        4.0.3 and up  \n",
       "3953              Sports   2018-07-31               4.0.0        4.0.3 and up  \n",
       "559               Dating   2018-08-01               8.7.2          4.2 and up  \n",
       "662               Dating   2018-08-01               8.7.2          4.2 and up  \n",
       "4991       Entertainment   2018-07-16               3.1.4          4.4 and up  \n",
       "920        Entertainment   2018-07-16               3.1.4          4.4 and up  \n",
       "4928    News & Magazines   2018-05-24              3.1.12          4.1 and up  \n",
       "3799    News & Magazines   2018-05-24              3.1.12          4.1 and up  \n",
       "3791    News & Magazines   2017-05-25               4.4.3          4.0 and up  \n",
       "5448    News & Magazines   2017-05-25               4.4.3          4.0 and up  \n",
       "2771            Shopping   2018-07-30               4.4.9          4.4 and up  \n",
       "2800            Shopping   2018-07-30               4.4.9          4.4 and up  \n",
       "5512             Weather   2018-08-02  Varies with device  Varies with device  \n",
       "3628             Weather   2018-08-06  Varies with device  Varies with device  \n",
       "1143             Finance   2018-07-31  Varies with device  Varies with device  \n",
       "1095             Finance   2018-07-31  Varies with device  Varies with device  \n",
       "3895        Productivity   2018-04-17  Varies with device  Varies with device  \n",
       "3452        Productivity   2018-04-17  Varies with device  Varies with device  \n",
       "3524        Productivity   2018-04-17  Varies with device  Varies with device  \n",
       "2814         Photography   2018-07-22             5.0.508          4.4 and up  \n",
       "2936         Photography   2018-07-22             5.0.508          4.4 and up  \n",
       "3880              Action   2018-07-23               2.2.8        4.0.3 and up  \n",
       "1947              Action   2018-07-23               2.2.8        4.0.3 and up  \n",
       "3215      Travel & Local   2018-08-02  Varies with device  Varies with device  \n",
       "3116      Travel & Local   2018-08-02  Varies with device  Varies with device  \n",
       "2790            Shopping   2018-08-06  Varies with device  Varies with device  \n",
       "2756            Shopping   2018-08-06  Varies with device  Varies with device  \n",
       "2660            Shopping   2018-08-06  Varies with device  Varies with device  \n",
       "4099            Shopping   2018-08-01  Varies with device  Varies with device  \n",
       "5075              Sports   2018-08-03               3.0.5          4.1 and up  \n",
       "2982              Sports   2018-08-03               3.0.5          4.1 and up  \n",
       "2549              Social   2018-05-21              2.4.12          4.0 and up  \n",
       "10171             Social   2018-05-21              2.4.12          4.0 and up  \n",
       "3936              Action   2018-06-05               1.7.1          4.0 and up  \n",
       "1933              Action   2018-06-05               1.7.1          4.0 and up  \n",
       "143    Books & Reference   2018-07-27  Varies with device  Varies with device  \n",
       "4083   Books & Reference   2018-07-27  Varies with device  Varies with device  \n",
       "3922            Shopping   2018-07-31         16.14.0.100          4.4 and up  \n",
       "2664            Shopping   2018-07-31         16.14.0.100          4.4 and up  \n",
       "2763            Shopping   2018-07-31         16.14.0.100          4.4 and up  \n",
       "2654            Shopping   2018-07-31         16.14.0.850          4.4 and up  \n",
       "5353            Shopping   2018-07-31         16.14.0.850          4.4 and up  \n",
       "3158      Travel & Local   2018-07-18  Varies with device  Varies with device  \n",
       "5952      Travel & Local   2018-07-18  Varies with device  Varies with device  \n",
       "2571              Social   2018-07-20           1.8.19179        4.0.3 and up  \n",
       "9853              Social   2018-08-07           1.8.19179        4.0.3 and up  \n",
       "1938              Action   2018-08-03               1.1.5          2.3 and up  \n",
       "4252              Action   2018-08-03               1.1.5          2.3 and up  \n",
       "4864              Casual   2018-07-26              2.21.1          4.1 and up  \n",
       "1843              Casual   2018-07-26              2.21.1          4.1 and up  \n",
       "1990              Arcade   2018-05-24               7.9.3          4.1 and up  \n",
       "3883              Arcade   2018-05-24               7.9.3          4.1 and up  \n",
       "1905              Arcade   2018-05-24               7.9.3          4.1 and up  "
      ]
     },
     "execution_count": 30,
     "metadata": {},
     "output_type": "execute_result"
    }
   ],
   "source": [
    "app_df[app_df.duplicated(subset='App', keep=False)]\\\n",
    ".sort_values('App', ascending=True).head(60)"
   ]
  },
  {
   "cell_type": "markdown",
   "id": "a31efc74",
   "metadata": {},
   "source": [
    "Theo quan sát sơ bộ, các dòng trùng nhau tại giá trị cột `App` đều có các thông tin giống nhau ở nhiều cột khác, nhưng khác nhau tối thiểu tại giá trị ở cột `Reviews`, vậy ta sẽ xem rằng các dòng trùng này cùng thuộc một ứng dụng. Do đó với mỗi tên ứng dung, ta sẽ ưu tiên giữ lại dòng có giá trị ở cột `Last Updated` trễ nhất (vì ứng dụng được cập nhật lúc mới nhất), đồng thời có giá trị ở cột `Reviews` cao nhất (có lẽ càng nhiều reviews sẽ cho thấy rằng dòng dữ liệu được thu thập ở thời gian mới nhất), và loại bỏ các dòng còn lại."
   ]
  },
  {
   "cell_type": "code",
   "execution_count": 31,
   "id": "4b0b01bf",
   "metadata": {},
   "outputs": [
    {
     "data": {
      "text/html": [
       "<div>\n",
       "<style scoped>\n",
       "    .dataframe tbody tr th:only-of-type {\n",
       "        vertical-align: middle;\n",
       "    }\n",
       "\n",
       "    .dataframe tbody tr th {\n",
       "        vertical-align: top;\n",
       "    }\n",
       "\n",
       "    .dataframe thead th {\n",
       "        text-align: right;\n",
       "    }\n",
       "</style>\n",
       "<table border=\"1\" class=\"dataframe\">\n",
       "  <thead>\n",
       "    <tr style=\"text-align: right;\">\n",
       "      <th></th>\n",
       "      <th>App</th>\n",
       "      <th>Category</th>\n",
       "      <th>Rating</th>\n",
       "      <th>Reviews</th>\n",
       "      <th>Size</th>\n",
       "      <th>Installs</th>\n",
       "      <th>Type</th>\n",
       "      <th>Price</th>\n",
       "      <th>Content Rating</th>\n",
       "      <th>Genres</th>\n",
       "      <th>Last Updated</th>\n",
       "      <th>Current Ver</th>\n",
       "      <th>Android Ver</th>\n",
       "    </tr>\n",
       "  </thead>\n",
       "  <tbody>\n",
       "    <tr>\n",
       "      <th>0</th>\n",
       "      <td>Photo Editor &amp; Candy Camera &amp; Grid &amp; ScrapBook</td>\n",
       "      <td>ART_AND_DESIGN</td>\n",
       "      <td>4.1</td>\n",
       "      <td>159</td>\n",
       "      <td>19456.0</td>\n",
       "      <td>10,000+</td>\n",
       "      <td>Free</td>\n",
       "      <td>0.0</td>\n",
       "      <td>Everyone</td>\n",
       "      <td>Art &amp; Design</td>\n",
       "      <td>2018-01-07</td>\n",
       "      <td>1.0.0</td>\n",
       "      <td>4.0.3 and up</td>\n",
       "    </tr>\n",
       "    <tr>\n",
       "      <th>2</th>\n",
       "      <td>U Launcher Lite – FREE Live Cool Themes, Hide ...</td>\n",
       "      <td>ART_AND_DESIGN</td>\n",
       "      <td>4.7</td>\n",
       "      <td>87510</td>\n",
       "      <td>8908.8</td>\n",
       "      <td>5,000,000+</td>\n",
       "      <td>Free</td>\n",
       "      <td>0.0</td>\n",
       "      <td>Everyone</td>\n",
       "      <td>Art &amp; Design</td>\n",
       "      <td>2018-08-01</td>\n",
       "      <td>1.2.4</td>\n",
       "      <td>4.0.3 and up</td>\n",
       "    </tr>\n",
       "    <tr>\n",
       "      <th>3</th>\n",
       "      <td>Sketch - Draw &amp; Paint</td>\n",
       "      <td>ART_AND_DESIGN</td>\n",
       "      <td>4.5</td>\n",
       "      <td>215644</td>\n",
       "      <td>25600.0</td>\n",
       "      <td>50,000,000+</td>\n",
       "      <td>Free</td>\n",
       "      <td>0.0</td>\n",
       "      <td>Teen</td>\n",
       "      <td>Art &amp; Design</td>\n",
       "      <td>2018-06-08</td>\n",
       "      <td>Varies with device</td>\n",
       "      <td>4.2 and up</td>\n",
       "    </tr>\n",
       "    <tr>\n",
       "      <th>4</th>\n",
       "      <td>Pixel Draw - Number Art Coloring Book</td>\n",
       "      <td>ART_AND_DESIGN</td>\n",
       "      <td>4.3</td>\n",
       "      <td>967</td>\n",
       "      <td>2867.2</td>\n",
       "      <td>100,000+</td>\n",
       "      <td>Free</td>\n",
       "      <td>0.0</td>\n",
       "      <td>Everyone</td>\n",
       "      <td>Art &amp; Design;Creativity</td>\n",
       "      <td>2018-06-20</td>\n",
       "      <td>1.1</td>\n",
       "      <td>4.4 and up</td>\n",
       "    </tr>\n",
       "    <tr>\n",
       "      <th>5</th>\n",
       "      <td>Paper flowers instructions</td>\n",
       "      <td>ART_AND_DESIGN</td>\n",
       "      <td>4.4</td>\n",
       "      <td>167</td>\n",
       "      <td>5734.4</td>\n",
       "      <td>50,000+</td>\n",
       "      <td>Free</td>\n",
       "      <td>0.0</td>\n",
       "      <td>Everyone</td>\n",
       "      <td>Art &amp; Design</td>\n",
       "      <td>2017-03-26</td>\n",
       "      <td>1.0</td>\n",
       "      <td>2.3 and up</td>\n",
       "    </tr>\n",
       "  </tbody>\n",
       "</table>\n",
       "</div>"
      ],
      "text/plain": [
       "                                                 App        Category  Rating  \\\n",
       "0     Photo Editor & Candy Camera & Grid & ScrapBook  ART_AND_DESIGN     4.1   \n",
       "2  U Launcher Lite – FREE Live Cool Themes, Hide ...  ART_AND_DESIGN     4.7   \n",
       "3                              Sketch - Draw & Paint  ART_AND_DESIGN     4.5   \n",
       "4              Pixel Draw - Number Art Coloring Book  ART_AND_DESIGN     4.3   \n",
       "5                         Paper flowers instructions  ART_AND_DESIGN     4.4   \n",
       "\n",
       "   Reviews     Size     Installs  Type  Price Content Rating  \\\n",
       "0      159  19456.0      10,000+  Free    0.0       Everyone   \n",
       "2    87510   8908.8   5,000,000+  Free    0.0       Everyone   \n",
       "3   215644  25600.0  50,000,000+  Free    0.0           Teen   \n",
       "4      967   2867.2     100,000+  Free    0.0       Everyone   \n",
       "5      167   5734.4      50,000+  Free    0.0       Everyone   \n",
       "\n",
       "                    Genres Last Updated         Current Ver   Android Ver  \n",
       "0             Art & Design   2018-01-07               1.0.0  4.0.3 and up  \n",
       "2             Art & Design   2018-08-01               1.2.4  4.0.3 and up  \n",
       "3             Art & Design   2018-06-08  Varies with device    4.2 and up  \n",
       "4  Art & Design;Creativity   2018-06-20                 1.1    4.4 and up  \n",
       "5             Art & Design   2017-03-26                 1.0    2.3 and up  "
      ]
     },
     "execution_count": 31,
     "metadata": {},
     "output_type": "execute_result"
    }
   ],
   "source": [
    "app_df = app_df.sort_values(['App', 'Last Updated', 'Reviews'], ascending=[True, False, False])\\\n",
    "                .drop_duplicates(subset='App').sort_index()\n",
    "app_df.head()"
   ]
  },
  {
   "cell_type": "code",
   "execution_count": 32,
   "id": "8de5cbbf",
   "metadata": {},
   "outputs": [
    {
     "name": "stdout",
     "output_type": "stream",
     "text": [
      "[+] num_rows = 9660\n",
      "[+] num_cols = 13\n"
     ]
    }
   ],
   "source": [
    "get_app_df_shape()"
   ]
  },
  {
   "cell_type": "markdown",
   "id": "760aacd1",
   "metadata": {},
   "source": [
    "Sau khi loại bỏ các dòng ở bước trên, bảng `app_df` có 9660 dòng và 13 cột."
   ]
  },
  {
   "cell_type": "markdown",
   "id": "51f32a3f",
   "metadata": {},
   "source": [
    "### Với mỗi cột có kiểu dữ liệu dạng số (numerical), các giá trị được phân bố như thế nào?"
   ]
  },
  {
   "cell_type": "markdown",
   "id": "d01c7b00",
   "metadata": {},
   "source": [
    "Ta có 5 cột `Rating`, `Reviews`, `Size`, `Price`, `Last Updated` thuộc nhóm các cột numerical (cột `Last Updated` đang có dtype là datetime nên xếp vào nhóm cột numerical luôn). Với mỗi cột ta sẽ tính tỉ lệ phần trăm giá trị thiếu thuộc [0, 100], min, max."
   ]
  },
  {
   "cell_type": "code",
   "execution_count": 33,
   "id": "9546bcca",
   "metadata": {},
   "outputs": [
    {
     "data": {
      "text/html": [
       "<div>\n",
       "<style scoped>\n",
       "    .dataframe tbody tr th:only-of-type {\n",
       "        vertical-align: middle;\n",
       "    }\n",
       "\n",
       "    .dataframe tbody tr th {\n",
       "        vertical-align: top;\n",
       "    }\n",
       "\n",
       "    .dataframe thead th {\n",
       "        text-align: right;\n",
       "    }\n",
       "</style>\n",
       "<table border=\"1\" class=\"dataframe\">\n",
       "  <thead>\n",
       "    <tr style=\"text-align: right;\">\n",
       "      <th></th>\n",
       "      <th>Rating</th>\n",
       "      <th>Reviews</th>\n",
       "      <th>Size</th>\n",
       "      <th>Price</th>\n",
       "      <th>Last Updated</th>\n",
       "    </tr>\n",
       "  </thead>\n",
       "  <tbody>\n",
       "    <tr>\n",
       "      <th>missing_ratio</th>\n",
       "      <td>15.144928</td>\n",
       "      <td>0.0</td>\n",
       "      <td>12.722567</td>\n",
       "      <td>0.0</td>\n",
       "      <td>0.0</td>\n",
       "    </tr>\n",
       "    <tr>\n",
       "      <th>min</th>\n",
       "      <td>1.000000</td>\n",
       "      <td>0.0</td>\n",
       "      <td>8.500000</td>\n",
       "      <td>0.0</td>\n",
       "      <td>2010-05-21 00:00:00</td>\n",
       "    </tr>\n",
       "    <tr>\n",
       "      <th>max</th>\n",
       "      <td>5.000000</td>\n",
       "      <td>78158306.0</td>\n",
       "      <td>102400.000000</td>\n",
       "      <td>400.0</td>\n",
       "      <td>2018-08-08 00:00:00</td>\n",
       "    </tr>\n",
       "  </tbody>\n",
       "</table>\n",
       "</div>"
      ],
      "text/plain": [
       "                  Rating     Reviews           Size  Price  \\\n",
       "missing_ratio  15.144928         0.0      12.722567    0.0   \n",
       "min             1.000000         0.0       8.500000    0.0   \n",
       "max             5.000000  78158306.0  102400.000000  400.0   \n",
       "\n",
       "                      Last Updated  \n",
       "missing_ratio                  0.0  \n",
       "min            2010-05-21 00:00:00  \n",
       "max            2018-08-08 00:00:00  "
      ]
     },
     "execution_count": 33,
     "metadata": {},
     "output_type": "execute_result"
    }
   ],
   "source": [
    "def missing_ratio(s):\n",
    "    return s.isna().mean() * 100\n",
    "\n",
    "app_nume_cols = ['Rating', 'Reviews', 'Size', 'Price', 'Last Updated']\n",
    "app_nume_col_profiles_df = app_df[app_nume_cols].agg([missing_ratio, pd.Series.min, pd.Series.max])\n",
    "app_nume_col_profiles_df"
   ]
  },
  {
   "cell_type": "markdown",
   "id": "ee133d41",
   "metadata": {},
   "source": [
    "Các giá trị này không có gì bất thường."
   ]
  },
  {
   "cell_type": "markdown",
   "id": "0bfa1ae2",
   "metadata": {},
   "source": [
    "### Với mỗi cột có kiểu dữ liệu dạng phân loại (categorical), các giá trị được phân bố như thế nào?"
   ]
  },
  {
   "cell_type": "markdown",
   "id": "4234f64f",
   "metadata": {},
   "source": [
    "Ta có 8 cột `App`, `Category`, `Installs`, `Type`, `Content Rating`, `Genres`, `Current Ver`, `Android Ver` thuộc nhóm các cột categorical. Với mỗi cột categorical ta sẽ tính tỉ lệ phần trăm giá trị thiếu thuộc [0, 100], số lượng giá trị khác nhau (không xét giá trị thiếu), danh sách các giá trị khác nhau (không xét giá trị thiếu)."
   ]
  },
  {
   "cell_type": "code",
   "execution_count": 34,
   "id": "59716526",
   "metadata": {},
   "outputs": [
    {
     "data": {
      "text/html": [
       "<div>\n",
       "<style scoped>\n",
       "    .dataframe tbody tr th:only-of-type {\n",
       "        vertical-align: middle;\n",
       "    }\n",
       "\n",
       "    .dataframe tbody tr th {\n",
       "        vertical-align: top;\n",
       "    }\n",
       "\n",
       "    .dataframe thead th {\n",
       "        text-align: right;\n",
       "    }\n",
       "</style>\n",
       "<table border=\"1\" class=\"dataframe\">\n",
       "  <thead>\n",
       "    <tr style=\"text-align: right;\">\n",
       "      <th></th>\n",
       "      <th>App</th>\n",
       "      <th>Category</th>\n",
       "      <th>Installs</th>\n",
       "      <th>Type</th>\n",
       "      <th>Content Rating</th>\n",
       "      <th>Genres</th>\n",
       "      <th>Current Ver</th>\n",
       "      <th>Android Ver</th>\n",
       "    </tr>\n",
       "  </thead>\n",
       "  <tbody>\n",
       "    <tr>\n",
       "      <th>missing_ratio</th>\n",
       "      <td>0.0</td>\n",
       "      <td>0.010352</td>\n",
       "      <td>0.0</td>\n",
       "      <td>0.0</td>\n",
       "      <td>0.020704</td>\n",
       "      <td>0.010352</td>\n",
       "      <td>0.082816</td>\n",
       "      <td>0.020704</td>\n",
       "    </tr>\n",
       "    <tr>\n",
       "      <th>num_diff_vals</th>\n",
       "      <td>9660</td>\n",
       "      <td>33</td>\n",
       "      <td>21</td>\n",
       "      <td>2</td>\n",
       "      <td>5</td>\n",
       "      <td>118</td>\n",
       "      <td>2818</td>\n",
       "      <td>33</td>\n",
       "    </tr>\n",
       "    <tr>\n",
       "      <th>diff_vals</th>\n",
       "      <td>[Photo Editor &amp; Candy Camera &amp; Grid &amp; ScrapBoo...</td>\n",
       "      <td>[ART_AND_DESIGN, AUTO_AND_VEHICLES, BEAUTY, BO...</td>\n",
       "      <td>['10,000+', '5,000,000+', '50,000,000+', '100,...</td>\n",
       "      <td>[Free, Paid]</td>\n",
       "      <td>['Everyone', 'Teen', 'Everyone 10+', 'Mature 1...</td>\n",
       "      <td>[Art &amp; Design, Art &amp; Design;Creativity, Auto &amp;...</td>\n",
       "      <td>[1.0.0, 1.2.4, Varies with device, 1.1, 1.0, 6...</td>\n",
       "      <td>[4.0.3 and up, 4.2 and up, 4.4 and up, 2.3 and...</td>\n",
       "    </tr>\n",
       "  </tbody>\n",
       "</table>\n",
       "</div>"
      ],
      "text/plain": [
       "                                                             App  \\\n",
       "missing_ratio                                                0.0   \n",
       "num_diff_vals                                               9660   \n",
       "diff_vals      [Photo Editor & Candy Camera & Grid & ScrapBoo...   \n",
       "\n",
       "                                                        Category  \\\n",
       "missing_ratio                                           0.010352   \n",
       "num_diff_vals                                                 33   \n",
       "diff_vals      [ART_AND_DESIGN, AUTO_AND_VEHICLES, BEAUTY, BO...   \n",
       "\n",
       "                                                        Installs  \\\n",
       "missing_ratio                                                0.0   \n",
       "num_diff_vals                                                 21   \n",
       "diff_vals      ['10,000+', '5,000,000+', '50,000,000+', '100,...   \n",
       "\n",
       "                       Type  \\\n",
       "missing_ratio           0.0   \n",
       "num_diff_vals             2   \n",
       "diff_vals      [Free, Paid]   \n",
       "\n",
       "                                                  Content Rating  \\\n",
       "missing_ratio                                           0.020704   \n",
       "num_diff_vals                                                  5   \n",
       "diff_vals      ['Everyone', 'Teen', 'Everyone 10+', 'Mature 1...   \n",
       "\n",
       "                                                          Genres  \\\n",
       "missing_ratio                                           0.010352   \n",
       "num_diff_vals                                                118   \n",
       "diff_vals      [Art & Design, Art & Design;Creativity, Auto &...   \n",
       "\n",
       "                                                     Current Ver  \\\n",
       "missing_ratio                                           0.082816   \n",
       "num_diff_vals                                               2818   \n",
       "diff_vals      [1.0.0, 1.2.4, Varies with device, 1.1, 1.0, 6...   \n",
       "\n",
       "                                                     Android Ver  \n",
       "missing_ratio                                           0.020704  \n",
       "num_diff_vals                                                 33  \n",
       "diff_vals      [4.0.3 and up, 4.2 and up, 4.4 and up, 2.3 and...  "
      ]
     },
     "execution_count": 34,
     "metadata": {},
     "output_type": "execute_result"
    }
   ],
   "source": [
    "def num_diff_vals(s):\n",
    "    return s.nunique()\n",
    "\n",
    "def diff_vals(s):\n",
    "    return s.dropna().unique()\n",
    "\n",
    "app_cate_cols = ['App', 'Category', 'Installs', 'Type', 'Content Rating', 'Genres', 'Current Ver', 'Android Ver']\n",
    "app_cate_col_profiles_df = app_df[app_cate_cols].agg([missing_ratio, num_diff_vals, diff_vals])\n",
    "app_cate_col_profiles_df"
   ]
  },
  {
   "cell_type": "markdown",
   "id": "992652b9",
   "metadata": {},
   "source": [
    "Các giá trị này không có gì bất thường."
   ]
  },
  {
   "cell_type": "markdown",
   "id": "c592256e",
   "metadata": {},
   "source": [
    "## File `googleplaystore_user_reviews.csv`"
   ]
  },
  {
   "cell_type": "markdown",
   "id": "b964c4c9",
   "metadata": {},
   "source": [
    "Dữ liệu đọc từ file sẽ lưu vào dataframe `review_df`."
   ]
  },
  {
   "cell_type": "markdown",
   "id": "8580a193",
   "metadata": {},
   "source": [
    "### Đọc dữ liệu từ file csv vào dataframe"
   ]
  },
  {
   "cell_type": "code",
   "execution_count": 35,
   "id": "0a9b2bda",
   "metadata": {},
   "outputs": [
    {
     "data": {
      "text/html": [
       "<div>\n",
       "<style scoped>\n",
       "    .dataframe tbody tr th:only-of-type {\n",
       "        vertical-align: middle;\n",
       "    }\n",
       "\n",
       "    .dataframe tbody tr th {\n",
       "        vertical-align: top;\n",
       "    }\n",
       "\n",
       "    .dataframe thead th {\n",
       "        text-align: right;\n",
       "    }\n",
       "</style>\n",
       "<table border=\"1\" class=\"dataframe\">\n",
       "  <thead>\n",
       "    <tr style=\"text-align: right;\">\n",
       "      <th></th>\n",
       "      <th>App</th>\n",
       "      <th>Translated_Review</th>\n",
       "      <th>Sentiment</th>\n",
       "      <th>Sentiment_Polarity</th>\n",
       "      <th>Sentiment_Subjectivity</th>\n",
       "    </tr>\n",
       "  </thead>\n",
       "  <tbody>\n",
       "    <tr>\n",
       "      <th>0</th>\n",
       "      <td>10 Best Foods for You</td>\n",
       "      <td>I like eat delicious food. That's I'm cooking ...</td>\n",
       "      <td>Positive</td>\n",
       "      <td>1.00</td>\n",
       "      <td>0.533333</td>\n",
       "    </tr>\n",
       "    <tr>\n",
       "      <th>1</th>\n",
       "      <td>10 Best Foods for You</td>\n",
       "      <td>This help eating healthy exercise regular basis</td>\n",
       "      <td>Positive</td>\n",
       "      <td>0.25</td>\n",
       "      <td>0.288462</td>\n",
       "    </tr>\n",
       "    <tr>\n",
       "      <th>2</th>\n",
       "      <td>10 Best Foods for You</td>\n",
       "      <td>NaN</td>\n",
       "      <td>NaN</td>\n",
       "      <td>NaN</td>\n",
       "      <td>NaN</td>\n",
       "    </tr>\n",
       "    <tr>\n",
       "      <th>3</th>\n",
       "      <td>10 Best Foods for You</td>\n",
       "      <td>Works great especially going grocery store</td>\n",
       "      <td>Positive</td>\n",
       "      <td>0.40</td>\n",
       "      <td>0.875000</td>\n",
       "    </tr>\n",
       "    <tr>\n",
       "      <th>4</th>\n",
       "      <td>10 Best Foods for You</td>\n",
       "      <td>Best idea us</td>\n",
       "      <td>Positive</td>\n",
       "      <td>1.00</td>\n",
       "      <td>0.300000</td>\n",
       "    </tr>\n",
       "  </tbody>\n",
       "</table>\n",
       "</div>"
      ],
      "text/plain": [
       "                     App                                  Translated_Review  \\\n",
       "0  10 Best Foods for You  I like eat delicious food. That's I'm cooking ...   \n",
       "1  10 Best Foods for You    This help eating healthy exercise regular basis   \n",
       "2  10 Best Foods for You                                                NaN   \n",
       "3  10 Best Foods for You         Works great especially going grocery store   \n",
       "4  10 Best Foods for You                                       Best idea us   \n",
       "\n",
       "  Sentiment  Sentiment_Polarity  Sentiment_Subjectivity  \n",
       "0  Positive                1.00                0.533333  \n",
       "1  Positive                0.25                0.288462  \n",
       "2       NaN                 NaN                     NaN  \n",
       "3  Positive                0.40                0.875000  \n",
       "4  Positive                1.00                0.300000  "
      ]
     },
     "execution_count": 35,
     "metadata": {},
     "output_type": "execute_result"
    }
   ],
   "source": [
    "review_df = pd.read_csv('Data/googleplaystore_user_reviews.csv')\n",
    "review_df.head()"
   ]
  },
  {
   "cell_type": "markdown",
   "id": "c9c338b4",
   "metadata": {},
   "source": [
    "### Dữ liệu có bao nhiêu dòng và bao nhiêu cột?"
   ]
  },
  {
   "cell_type": "code",
   "execution_count": 36,
   "id": "eebebf56",
   "metadata": {},
   "outputs": [
    {
     "name": "stdout",
     "output_type": "stream",
     "text": [
      "[+] num_rows = 64295\n",
      "[+] num_cols = 5\n"
     ]
    }
   ],
   "source": [
    "def get_review_df_shape():\n",
    "    review_num_rows, review_num_cols = review_df.shape\n",
    "    print(f'[+] num_rows = {review_num_rows}')\n",
    "    print(f'[+] num_cols = {review_num_cols}')\n",
    "    \n",
    "get_review_df_shape()"
   ]
  },
  {
   "cell_type": "markdown",
   "id": "01713201",
   "metadata": {},
   "source": [
    "Dữ liệu có 64295 dòng và 5 cột."
   ]
  },
  {
   "cell_type": "markdown",
   "id": "87aad0a3",
   "metadata": {},
   "source": [
    "### Mỗi dòng có ý nghĩa gì? Có vấn đề các dòng có ý nghĩa khác nhau không?"
   ]
  },
  {
   "cell_type": "code",
   "execution_count": 37,
   "id": "09301155",
   "metadata": {},
   "outputs": [
    {
     "data": {
      "text/html": [
       "<div>\n",
       "<style scoped>\n",
       "    .dataframe tbody tr th:only-of-type {\n",
       "        vertical-align: middle;\n",
       "    }\n",
       "\n",
       "    .dataframe tbody tr th {\n",
       "        vertical-align: top;\n",
       "    }\n",
       "\n",
       "    .dataframe thead th {\n",
       "        text-align: right;\n",
       "    }\n",
       "</style>\n",
       "<table border=\"1\" class=\"dataframe\">\n",
       "  <thead>\n",
       "    <tr style=\"text-align: right;\">\n",
       "      <th></th>\n",
       "      <th>App</th>\n",
       "      <th>Translated_Review</th>\n",
       "      <th>Sentiment</th>\n",
       "      <th>Sentiment_Polarity</th>\n",
       "      <th>Sentiment_Subjectivity</th>\n",
       "    </tr>\n",
       "  </thead>\n",
       "  <tbody>\n",
       "    <tr>\n",
       "      <th>10827</th>\n",
       "      <td>BEYBLADE BURST app</td>\n",
       "      <td>Awesome game great idea.... would terrific u c...</td>\n",
       "      <td>Positive</td>\n",
       "      <td>0.233333</td>\n",
       "      <td>0.559524</td>\n",
       "    </tr>\n",
       "    <tr>\n",
       "      <th>59837</th>\n",
       "      <td>Hangouts</td>\n",
       "      <td>NaN</td>\n",
       "      <td>NaN</td>\n",
       "      <td>NaN</td>\n",
       "      <td>NaN</td>\n",
       "    </tr>\n",
       "    <tr>\n",
       "      <th>38823</th>\n",
       "      <td>Easy Installer - Apps On SD</td>\n",
       "      <td>It makes effect</td>\n",
       "      <td>Neutral</td>\n",
       "      <td>0.000000</td>\n",
       "      <td>0.000000</td>\n",
       "    </tr>\n",
       "    <tr>\n",
       "      <th>61583</th>\n",
       "      <td>Hide App, Private Dating, Safe Chat - PrivacyH...</td>\n",
       "      <td>I subscribed 6 month app... It responding all....</td>\n",
       "      <td>Negative</td>\n",
       "      <td>-0.283333</td>\n",
       "      <td>0.716667</td>\n",
       "    </tr>\n",
       "    <tr>\n",
       "      <th>24607</th>\n",
       "      <td>Cash, Inc. Money Clicker Game &amp; Business Adven...</td>\n",
       "      <td>NaN</td>\n",
       "      <td>NaN</td>\n",
       "      <td>NaN</td>\n",
       "      <td>NaN</td>\n",
       "    </tr>\n",
       "  </tbody>\n",
       "</table>\n",
       "</div>"
      ],
      "text/plain": [
       "                                                     App  \\\n",
       "10827                                 BEYBLADE BURST app   \n",
       "59837                                           Hangouts   \n",
       "38823                        Easy Installer - Apps On SD   \n",
       "61583  Hide App, Private Dating, Safe Chat - PrivacyH...   \n",
       "24607  Cash, Inc. Money Clicker Game & Business Adven...   \n",
       "\n",
       "                                       Translated_Review Sentiment  \\\n",
       "10827  Awesome game great idea.... would terrific u c...  Positive   \n",
       "59837                                                NaN       NaN   \n",
       "38823                                    It makes effect   Neutral   \n",
       "61583  I subscribed 6 month app... It responding all....  Negative   \n",
       "24607                                                NaN       NaN   \n",
       "\n",
       "       Sentiment_Polarity  Sentiment_Subjectivity  \n",
       "10827            0.233333                0.559524  \n",
       "59837                 NaN                     NaN  \n",
       "38823            0.000000                0.000000  \n",
       "61583           -0.283333                0.716667  \n",
       "24607                 NaN                     NaN  "
      ]
     },
     "execution_count": 37,
     "metadata": {},
     "output_type": "execute_result"
    }
   ],
   "source": [
    "review_df.sample(5)"
   ]
  },
  {
   "cell_type": "markdown",
   "id": "5b6e3c7d",
   "metadata": {},
   "source": [
    "Theo như mô tả của tác giả, mỗi dòng trong dữ liệu chứa thông tin của một review cho một ứng dụng trên Play Store. Bằng việc quan sát ngẫu nhiên các dòng trong dữ liệu nhiều lần, có vẻ không có dòng nào mang ý nghĩa khác."
   ]
  },
  {
   "cell_type": "markdown",
   "id": "5c2dd274",
   "metadata": {},
   "source": [
    "### Mỗi cột có ý nghĩa gì?"
   ]
  },
  {
   "cell_type": "markdown",
   "id": "bcbbaf44",
   "metadata": {},
   "source": [
    "Theo mô tả dữ liệu, các cột có ý nghĩa như sau:\n",
    "* **App**: Tên ứng dụng\n",
    "* **Translated_Review**: Nội dung review (đã được tiền xử lý bằng cách dịch sang tiếng Anh)\n",
    "* **Sentiment**: Cảm xúc của review: Positive, Negative, Neutral (đã được tiền xử lý)\n",
    "* **Sentiment_Polarity**: Mức độ tích cực / tiêu cực của review (-1: cực kì negative, 0: neutral, 1: cực kì positive)\n",
    "* **Sentiment_Subjectivity**: Mức độ chủ quan của review (0: rất khách quan, 1: rất chủ quan)"
   ]
  },
  {
   "cell_type": "markdown",
   "id": "02262756",
   "metadata": {},
   "source": [
    "### Dữ liệu có các dòng bị lặp không?"
   ]
  },
  {
   "cell_type": "markdown",
   "id": "e6102b67",
   "metadata": {},
   "source": [
    "#### Tiền xử lý: loại bỏ các dòng chứa giá trị `nan` tại cột 'Translated_Review`"
   ]
  },
  {
   "cell_type": "markdown",
   "id": "613210ce",
   "metadata": {},
   "source": [
    "Có thể thấy rằng dữ liệu tồn tại các dòng có các giá trị `nan` tại cột `Translated_Review`, dẫn đến các giá trị `nan` tại các cột `Sentiment`, `Sentiment_Polarity`, `Sentiment_Subjectivity`. Vì vậy ta sẽ loại bỏ các dòng này."
   ]
  },
  {
   "cell_type": "code",
   "execution_count": 38,
   "id": "c9f35552",
   "metadata": {},
   "outputs": [
    {
     "name": "stdout",
     "output_type": "stream",
     "text": [
      "[+] num_rows = 37427\n",
      "[+] num_cols = 5\n"
     ]
    }
   ],
   "source": [
    "review_df = review_df.dropna(subset=['Translated_Review'])\n",
    "get_review_df_shape()"
   ]
  },
  {
   "cell_type": "markdown",
   "id": "9090872b",
   "metadata": {},
   "source": [
    "#### Xem xét các dòng bị lặp"
   ]
  },
  {
   "cell_type": "markdown",
   "id": "e16491cc",
   "metadata": {},
   "source": [
    "Xét dữ liệu có tồn tại các dòng bị lặp hay không:"
   ]
  },
  {
   "cell_type": "code",
   "execution_count": 39,
   "id": "f680854d",
   "metadata": {},
   "outputs": [
    {
     "data": {
      "text/plain": [
       "True"
      ]
     },
     "execution_count": 39,
     "metadata": {},
     "output_type": "execute_result"
    }
   ],
   "source": [
    "review_df.duplicated().sum() > 0"
   ]
  },
  {
   "cell_type": "markdown",
   "id": "71963c0a",
   "metadata": {},
   "source": [
    "Vì ta không đủ cơ sở để xét xem rằng các review bị lặp có phải do cùng một người bình luận hay nhiều người bình luận hay không nên ta sẽ giữ nguyên các dòng bị lặp này."
   ]
  },
  {
   "cell_type": "markdown",
   "id": "3bac8cab",
   "metadata": {},
   "source": [
    "#### Làm rõ về số lượng review của mỗi ứng dụng"
   ]
  },
  {
   "cell_type": "markdown",
   "id": "7e5c6bdd",
   "metadata": {},
   "source": [
    "Xét số lượng review tương ứng với mỗi ứng dụng hiện có trong dữ liệu:"
   ]
  },
  {
   "cell_type": "code",
   "execution_count": 40,
   "id": "7f863522",
   "metadata": {},
   "outputs": [
    {
     "data": {
      "text/plain": [
       "App\n",
       "Bowmasters                        312\n",
       "Helix Jump                        273\n",
       "Angry Birds Classic               273\n",
       "Calorie Counter - MyFitnessPal    254\n",
       "Duolingo: Learn Languages Free    240\n",
       "                                 ... \n",
       "Draw a Stickman: EPIC 2             1\n",
       "HD Camera                           1\n",
       "Draw In                             1\n",
       "Draw A Stickman                     1\n",
       "Best Fiends - Free Puzzle Game      1\n",
       "Length: 865, dtype: int64"
      ]
     },
     "execution_count": 40,
     "metadata": {},
     "output_type": "execute_result"
    }
   ],
   "source": [
    "review_df.value_counts('App')"
   ]
  },
  {
   "cell_type": "markdown",
   "id": "69f17fa6",
   "metadata": {},
   "source": [
    "Theo mô tả dữ liệu, bảng dữ liệu chứa 100 review \"liên quan nhất\" đến ứng dụng. Tuy nhiên ta lại thấy có một số ứng dụng có nhiều hơn 100 review, một số ứng dụng có ít hơn 100 review. Có thể giải thích như sau:\n",
    "- Trường hợp ứng dụng có nhiều hơn 100 review: Sau khi khám phá dữ liệu tại bảng `app_df`, có thể thấy rằng ban đầu bảng `app_df` chứa nhiều ứng dụng trùng nhau, có lẽ là việc thu thập bị trùng. Tương tự, bảng `review_df` cũng có thể thu thập trùng (một app thu thập review nhiều lần), dẫn đến việc ứng dụng có nhiều hơn 100 review trong bảng `review_df`.\n",
    "- Trường hợp ứng dụng có ít hơn 100 review: Có thể ứng dụng đó trên thực tế có ít hơn 100 review, ngoài ra còn tồn tại những review có giá trị `nan` mà ta đã loại bỏ trước đó.\n",
    "\n",
    "Ta sẽ để nguyên dữ liệu này để tiếp tục khám phá."
   ]
  },
  {
   "cell_type": "markdown",
   "id": "904aa8fa",
   "metadata": {},
   "source": [
    "### Mỗi cột hiện đang có kiểu dữ liệu gì? Có cột nào có kiểu dữ liệu chưa phù hợp để có thể xử lý tiếp không?"
   ]
  },
  {
   "cell_type": "markdown",
   "id": "8f6dd7ec",
   "metadata": {},
   "source": [
    "#### Xem kiểu dữ liệu hiện tại của các cột"
   ]
  },
  {
   "cell_type": "markdown",
   "id": "9737314e",
   "metadata": {},
   "source": [
    "Xem các dtype hiện tại:"
   ]
  },
  {
   "cell_type": "code",
   "execution_count": 41,
   "id": "06b4c50e",
   "metadata": {},
   "outputs": [
    {
     "data": {
      "text/plain": [
       "App                        object\n",
       "Translated_Review          object\n",
       "Sentiment                  object\n",
       "Sentiment_Polarity        float64\n",
       "Sentiment_Subjectivity    float64\n",
       "dtype: object"
      ]
     },
     "execution_count": 41,
     "metadata": {},
     "output_type": "execute_result"
    }
   ],
   "source": [
    "review_df.dtypes"
   ]
  },
  {
   "cell_type": "markdown",
   "id": "89cb0786",
   "metadata": {},
   "source": [
    "Ta tiếp tục liệt kê các kiểu dữ liệu khác nhau ở các cột có dtype là `object`."
   ]
  },
  {
   "cell_type": "code",
   "execution_count": 42,
   "id": "1e5b5cf4",
   "metadata": {
    "scrolled": true
   },
   "outputs": [
    {
     "name": "stdout",
     "output_type": "stream",
     "text": [
      "[+] Column App dtypes: \n",
      "{<class 'str'>}\n",
      "\n",
      "[+] Column Translated_Review dtypes: \n",
      "{<class 'str'>}\n",
      "\n",
      "[+] Column Sentiment dtypes: \n",
      "{<class 'str'>}\n",
      "\n"
     ]
    }
   ],
   "source": [
    "col_dtypes = review_df.dtypes\n",
    "\n",
    "for col_name in col_dtypes.index:\n",
    "    if col_dtypes[col_name] == 'object':\n",
    "        print(f'[+] Column {col_name} dtypes: ')\n",
    "        print(open_object_dtype(review_df[col_name]))\n",
    "        print()"
   ]
  },
  {
   "cell_type": "markdown",
   "id": "0fa91150",
   "metadata": {},
   "source": [
    "#### Sử dụng `pd.Categorical` cho cột `Sentiment`"
   ]
  },
  {
   "cell_type": "markdown",
   "id": "dfae2ffb",
   "metadata": {},
   "source": [
    "Quan sát các giá trị khác nhau trong cột `Sentiment`, ta thấy cột này có dạng cột categorical có các category có thứ tự: Negative < Neutral < Positive:"
   ]
  },
  {
   "cell_type": "code",
   "execution_count": 43,
   "id": "833b1411",
   "metadata": {},
   "outputs": [
    {
     "data": {
      "text/plain": [
       "array(['Negative', 'Neutral', 'Positive'], dtype='<U8')"
      ]
     },
     "execution_count": 43,
     "metadata": {},
     "output_type": "execute_result"
    }
   ],
   "source": [
    "np.array(sorted(review_df['Sentiment'].unique()))"
   ]
  },
  {
   "cell_type": "markdown",
   "id": "25c91ada",
   "metadata": {},
   "source": [
    "Định nghĩa thứ tự các giá trị này và áp dụng cho cột `Sentiment`:"
   ]
  },
  {
   "cell_type": "code",
   "execution_count": 44,
   "id": "0a18b903",
   "metadata": {},
   "outputs": [
    {
     "data": {
      "text/plain": [
       "0        Positive\n",
       "1        Positive\n",
       "3        Positive\n",
       "4        Positive\n",
       "5        Positive\n",
       "           ...   \n",
       "64222    Positive\n",
       "64223    Positive\n",
       "64226    Negative\n",
       "64227    Positive\n",
       "64230    Negative\n",
       "Name: Sentiment, Length: 37427, dtype: category\n",
       "Categories (3, object): ['Negative' < 'Neutral' < 'Positive']"
      ]
     },
     "execution_count": 44,
     "metadata": {},
     "output_type": "execute_result"
    }
   ],
   "source": [
    "pd.set_option('mode.chained_assignment', None)\n",
    "\n",
    "senti_cate_list = ['Negative', 'Neutral', 'Positive']\n",
    "review_df['Sentiment'] = pd.Categorical(review_df['Sentiment'], categories=senti_cate_list, ordered=True)\n",
    "\n",
    "pd.set_option('mode.chained_assignment', 'warn')\n",
    "review_df['Sentiment']"
   ]
  },
  {
   "cell_type": "markdown",
   "id": "5811a152",
   "metadata": {},
   "source": [
    "Khi áp dụng `pd.Categorical` cho cột `Sentiment`, ta nhận được cảnh báo `SettingWithCopyWarning`, tuy nhiên việc áp dụng `pd.Categorical` này vẫn thành công khi ta kiểm tra kiểu dữ liệu hiện tại của các cột ở bước tiếp theo. Vì vậy để không xuất hiện warning ở bước trên, ta sẽ tạm tắt cảnh báo bằng `pd.set_option('mode.chained_assignment', None)` trước khi thực hiện các câu lệnh, và sau đó bật cảnh báo trở lại bằng `pd.set_option('mode.chained_assignment', 'warn')`."
   ]
  },
  {
   "cell_type": "markdown",
   "id": "7d32b105",
   "metadata": {},
   "source": [
    "#### Kiểu dữ liệu hiện tại của các cột dữ liệu"
   ]
  },
  {
   "cell_type": "code",
   "execution_count": 45,
   "id": "031cbbc2",
   "metadata": {},
   "outputs": [
    {
     "data": {
      "text/plain": [
       "App                         object\n",
       "Translated_Review           object\n",
       "Sentiment                 category\n",
       "Sentiment_Polarity         float64\n",
       "Sentiment_Subjectivity     float64\n",
       "dtype: object"
      ]
     },
     "execution_count": 45,
     "metadata": {},
     "output_type": "execute_result"
    }
   ],
   "source": [
    "review_df.dtypes"
   ]
  },
  {
   "cell_type": "markdown",
   "id": "26a2e3ed",
   "metadata": {},
   "source": [
    "### Với mỗi cột có kiểu dữ liệu dạng số (numerical), các giá trị được phân bố như thế nào?"
   ]
  },
  {
   "cell_type": "markdown",
   "id": "d589af0c",
   "metadata": {},
   "source": [
    "Ta có 2 cột `Sentiment_Polarity` và `Sentiment_Subjectivity` thuộc nhóm các cột numerical. Với mỗi cột ta sẽ tính tỉ lệ phần trăm giá trị thiếu thuộc [0, 100], min, max."
   ]
  },
  {
   "cell_type": "code",
   "execution_count": 46,
   "id": "bb4f411a",
   "metadata": {},
   "outputs": [
    {
     "data": {
      "text/html": [
       "<div>\n",
       "<style scoped>\n",
       "    .dataframe tbody tr th:only-of-type {\n",
       "        vertical-align: middle;\n",
       "    }\n",
       "\n",
       "    .dataframe tbody tr th {\n",
       "        vertical-align: top;\n",
       "    }\n",
       "\n",
       "    .dataframe thead th {\n",
       "        text-align: right;\n",
       "    }\n",
       "</style>\n",
       "<table border=\"1\" class=\"dataframe\">\n",
       "  <thead>\n",
       "    <tr style=\"text-align: right;\">\n",
       "      <th></th>\n",
       "      <th>Sentiment_Polarity</th>\n",
       "      <th>Sentiment_Subjectivity</th>\n",
       "    </tr>\n",
       "  </thead>\n",
       "  <tbody>\n",
       "    <tr>\n",
       "      <th>missing_ratio</th>\n",
       "      <td>0.0</td>\n",
       "      <td>0.0</td>\n",
       "    </tr>\n",
       "    <tr>\n",
       "      <th>min</th>\n",
       "      <td>-1.0</td>\n",
       "      <td>0.0</td>\n",
       "    </tr>\n",
       "    <tr>\n",
       "      <th>max</th>\n",
       "      <td>1.0</td>\n",
       "      <td>1.0</td>\n",
       "    </tr>\n",
       "  </tbody>\n",
       "</table>\n",
       "</div>"
      ],
      "text/plain": [
       "               Sentiment_Polarity  Sentiment_Subjectivity\n",
       "missing_ratio                 0.0                     0.0\n",
       "min                          -1.0                     0.0\n",
       "max                           1.0                     1.0"
      ]
     },
     "execution_count": 46,
     "metadata": {},
     "output_type": "execute_result"
    }
   ],
   "source": [
    "review_nume_cols = ['Sentiment_Polarity', 'Sentiment_Subjectivity']\n",
    "review_nume_col_profiles_df = review_df[review_nume_cols].agg([missing_ratio, pd.Series.min, pd.Series.max])\n",
    "review_nume_col_profiles_df"
   ]
  },
  {
   "cell_type": "markdown",
   "id": "4767ca67",
   "metadata": {},
   "source": [
    "Các giá trị này không có gì bất thường."
   ]
  },
  {
   "cell_type": "markdown",
   "id": "77891b63",
   "metadata": {},
   "source": [
    "### Với mỗi cột có kiểu dữ liệu dạng phân loại (categorical), các giá trị được phân bố như thế nào?"
   ]
  },
  {
   "cell_type": "markdown",
   "id": "56cff04f",
   "metadata": {},
   "source": [
    "Ta có 3 cột `App`, `Translated_Review`, `Sentiment` thuộc nhóm các cột categorical. Với mỗi cột categorical ta sẽ tính tỉ lệ phần trăm giá trị thiếu thuộc [0, 100], số lượng giá trị khác nhau (không xét giá trị thiếu), danh sách các giá trị khác nhau (không xét giá trị thiếu)."
   ]
  },
  {
   "cell_type": "code",
   "execution_count": 47,
   "id": "d98e7d9b",
   "metadata": {},
   "outputs": [
    {
     "data": {
      "text/html": [
       "<div>\n",
       "<style scoped>\n",
       "    .dataframe tbody tr th:only-of-type {\n",
       "        vertical-align: middle;\n",
       "    }\n",
       "\n",
       "    .dataframe tbody tr th {\n",
       "        vertical-align: top;\n",
       "    }\n",
       "\n",
       "    .dataframe thead th {\n",
       "        text-align: right;\n",
       "    }\n",
       "</style>\n",
       "<table border=\"1\" class=\"dataframe\">\n",
       "  <thead>\n",
       "    <tr style=\"text-align: right;\">\n",
       "      <th></th>\n",
       "      <th>App</th>\n",
       "      <th>Translated_Review</th>\n",
       "      <th>Sentiment</th>\n",
       "    </tr>\n",
       "  </thead>\n",
       "  <tbody>\n",
       "    <tr>\n",
       "      <th>missing_ratio</th>\n",
       "      <td>0.0</td>\n",
       "      <td>0.0</td>\n",
       "      <td>0.0</td>\n",
       "    </tr>\n",
       "    <tr>\n",
       "      <th>num_diff_vals</th>\n",
       "      <td>865</td>\n",
       "      <td>27994</td>\n",
       "      <td>3</td>\n",
       "    </tr>\n",
       "    <tr>\n",
       "      <th>diff_vals</th>\n",
       "      <td>[10 Best Foods for You, 104 找工作 - 找工作 找打工 找兼職 ...</td>\n",
       "      <td>[I like eat delicious food. That's I'm cooking...</td>\n",
       "      <td>['Positive', 'Neutral', 'Negative']\n",
       "Categories...</td>\n",
       "    </tr>\n",
       "  </tbody>\n",
       "</table>\n",
       "</div>"
      ],
      "text/plain": [
       "                                                             App  \\\n",
       "missing_ratio                                                0.0   \n",
       "num_diff_vals                                                865   \n",
       "diff_vals      [10 Best Foods for You, 104 找工作 - 找工作 找打工 找兼職 ...   \n",
       "\n",
       "                                               Translated_Review  \\\n",
       "missing_ratio                                                0.0   \n",
       "num_diff_vals                                              27994   \n",
       "diff_vals      [I like eat delicious food. That's I'm cooking...   \n",
       "\n",
       "                                                       Sentiment  \n",
       "missing_ratio                                                0.0  \n",
       "num_diff_vals                                                  3  \n",
       "diff_vals      ['Positive', 'Neutral', 'Negative']\n",
       "Categories...  "
      ]
     },
     "execution_count": 47,
     "metadata": {},
     "output_type": "execute_result"
    }
   ],
   "source": [
    "review_cate_cols = ['App', 'Translated_Review', 'Sentiment']\n",
    "review_cate_col_profiles_df = review_df[review_cate_cols].agg([missing_ratio, num_diff_vals, diff_vals])\n",
    "review_cate_col_profiles_df"
   ]
  },
  {
   "cell_type": "markdown",
   "id": "c693dfee",
   "metadata": {},
   "source": [
    "Các giá trị này không có gì bất thường."
   ]
  },
  {
   "cell_type": "markdown",
   "id": "805f86fe",
   "metadata": {},
   "source": [
    "# Đưa ra các câu hỏi có ý nghĩa cần trả lời, Tiền xử lý + phân tích dữ liệu để trả lời cho từng câu hỏi"
   ]
  },
  {
   "cell_type": "markdown",
   "id": "718fad33",
   "metadata": {},
   "source": [
    "## Câu hỏi 1: Với mỗi nhóm độ tuổi mà ứng dụng nhắm đến, đâu là 5 category có nhiều lượt tải về nhất? Cho ứng dụng minh hoạ với từng category?"
   ]
  },
  {
   "cell_type": "markdown",
   "id": "7af49a6d",
   "metadata": {},
   "source": [
    "### Mục đích câu hỏi"
   ]
  },
  {
   "cell_type": "markdown",
   "id": "0b30cd7f",
   "metadata": {},
   "source": [
    "Trả lời được câu hỏi này sẽ giúp chúng ta biết được 5 category yêu thích của từng nhóm độ tuổi, do đó nếu như ta muốn xây dựng một ứng dụng nhắm đến một lứa tuổi nào đó thì sẽ biết được nên phát triển ý tưởng dựa trên category nào để có thể bắt kịp xu hướng của lứa tuổi đó và có tiềm năng nhận được nhiều lượt tải về, đồng thời quan sát tên ứng dụng minh họa sẽ biết được category đó thường sẽ có nội dung gì."
   ]
  },
  {
   "cell_type": "markdown",
   "id": "c83212f2",
   "metadata": {},
   "source": [
    "### Tiền xử lý"
   ]
  },
  {
   "cell_type": "markdown",
   "id": "8ebf1ad1",
   "metadata": {},
   "source": [
    "- Các ứng dụng không có chuyên mục (giá trị `NaN` ở cột `Category`) thì thay bằng chuyên mục `OTHER`"
   ]
  },
  {
   "cell_type": "code",
   "execution_count": 48,
   "id": "e18ebb20",
   "metadata": {},
   "outputs": [],
   "source": [
    "category_crating_df = app_df[['Category', 'Content Rating', 'Installs']].copy()\n",
    "category_crating_df['Category'] = category_crating_df['Category'].fillna('OTHER')"
   ]
  },
  {
   "cell_type": "markdown",
   "id": "6db0398b",
   "metadata": {},
   "source": [
    "- Cột `Installs` thể hiện số lượt tải ứng dụng, nhưng đang ở dạng cột mốc, vì vậy cần chuyển nó về dạng `int` bằng cách cộng 1 vào con số cột mốc, ví dụ `1,000+` sẽ thay thành `1001`"
   ]
  },
  {
   "cell_type": "code",
   "execution_count": 49,
   "id": "81ef6a73",
   "metadata": {},
   "outputs": [],
   "source": [
    "def change_installs_str_to_int(s):\n",
    "    if s == '0':\n",
    "        return 0\n",
    "    return int(s[:-1].replace(',', '')) + 1\n",
    "\n",
    "category_crating_df['Installs'] = category_crating_df['Installs'].apply(change_installs_str_to_int).astype('int')\n",
    "\n",
    "# category_crating_df['Installs']"
   ]
  },
  {
   "cell_type": "markdown",
   "id": "5a80f4a0",
   "metadata": {},
   "source": [
    "### Trả lời câu hỏi"
   ]
  },
  {
   "cell_type": "markdown",
   "id": "72d2356e",
   "metadata": {},
   "source": [
    "**Bước 1:** Tính `category_crating_df` là dataframe có 3 cột `Content Rating`, `Category` và `Total Install` với ý nghĩa lần lượt là nhóm độ tuổi, chuyên mục và tổng số lượt tải về các ứng dụng thuộc nhóm độ tuổi và chuyên mục đó."
   ]
  },
  {
   "cell_type": "code",
   "execution_count": 50,
   "id": "8cee8efa",
   "metadata": {},
   "outputs": [
    {
     "data": {
      "text/html": [
       "<div>\n",
       "<style scoped>\n",
       "    .dataframe tbody tr th:only-of-type {\n",
       "        vertical-align: middle;\n",
       "    }\n",
       "\n",
       "    .dataframe tbody tr th {\n",
       "        vertical-align: top;\n",
       "    }\n",
       "\n",
       "    .dataframe thead th {\n",
       "        text-align: right;\n",
       "    }\n",
       "</style>\n",
       "<table border=\"1\" class=\"dataframe\">\n",
       "  <thead>\n",
       "    <tr style=\"text-align: right;\">\n",
       "      <th></th>\n",
       "      <th>Content Rating</th>\n",
       "      <th>Category</th>\n",
       "      <th>Total Install</th>\n",
       "    </tr>\n",
       "  </thead>\n",
       "  <tbody>\n",
       "    <tr>\n",
       "      <th>0</th>\n",
       "      <td>Everyone</td>\n",
       "      <td>ART_AND_DESIGN</td>\n",
       "      <td>52728157</td>\n",
       "    </tr>\n",
       "    <tr>\n",
       "      <th>1</th>\n",
       "      <td>Everyone</td>\n",
       "      <td>AUTO_AND_VEHICLES</td>\n",
       "      <td>42130294</td>\n",
       "    </tr>\n",
       "    <tr>\n",
       "      <th>2</th>\n",
       "      <td>Everyone</td>\n",
       "      <td>BEAUTY</td>\n",
       "      <td>26717095</td>\n",
       "    </tr>\n",
       "    <tr>\n",
       "      <th>3</th>\n",
       "      <td>Everyone</td>\n",
       "      <td>BOOKS_AND_REFERENCE</td>\n",
       "      <td>215743764</td>\n",
       "    </tr>\n",
       "    <tr>\n",
       "      <th>4</th>\n",
       "      <td>Everyone</td>\n",
       "      <td>BUSINESS</td>\n",
       "      <td>692062234</td>\n",
       "    </tr>\n",
       "    <tr>\n",
       "      <th>...</th>\n",
       "      <td>...</td>\n",
       "      <td>...</td>\n",
       "      <td>...</td>\n",
       "    </tr>\n",
       "    <tr>\n",
       "      <th>165</th>\n",
       "      <td>Adults only 18+</td>\n",
       "      <td>SPORTS</td>\n",
       "      <td>1000001</td>\n",
       "    </tr>\n",
       "    <tr>\n",
       "      <th>166</th>\n",
       "      <td>Adults only 18+</td>\n",
       "      <td>TOOLS</td>\n",
       "      <td>0</td>\n",
       "    </tr>\n",
       "    <tr>\n",
       "      <th>167</th>\n",
       "      <td>Adults only 18+</td>\n",
       "      <td>TRAVEL_AND_LOCAL</td>\n",
       "      <td>0</td>\n",
       "    </tr>\n",
       "    <tr>\n",
       "      <th>168</th>\n",
       "      <td>Adults only 18+</td>\n",
       "      <td>VIDEO_PLAYERS</td>\n",
       "      <td>0</td>\n",
       "    </tr>\n",
       "    <tr>\n",
       "      <th>169</th>\n",
       "      <td>Adults only 18+</td>\n",
       "      <td>WEATHER</td>\n",
       "      <td>0</td>\n",
       "    </tr>\n",
       "  </tbody>\n",
       "</table>\n",
       "<p>170 rows × 3 columns</p>\n",
       "</div>"
      ],
      "text/plain": [
       "      Content Rating             Category  Total Install\n",
       "0           Everyone       ART_AND_DESIGN       52728157\n",
       "1           Everyone    AUTO_AND_VEHICLES       42130294\n",
       "2           Everyone               BEAUTY       26717095\n",
       "3           Everyone  BOOKS_AND_REFERENCE      215743764\n",
       "4           Everyone             BUSINESS      692062234\n",
       "..               ...                  ...            ...\n",
       "165  Adults only 18+               SPORTS        1000001\n",
       "166  Adults only 18+                TOOLS              0\n",
       "167  Adults only 18+     TRAVEL_AND_LOCAL              0\n",
       "168  Adults only 18+        VIDEO_PLAYERS              0\n",
       "169  Adults only 18+              WEATHER              0\n",
       "\n",
       "[170 rows x 3 columns]"
      ]
     },
     "execution_count": 50,
     "metadata": {},
     "output_type": "execute_result"
    }
   ],
   "source": [
    "category_crating_df = category_crating_df.groupby(['Content Rating', 'Category'])['Installs'].sum().reset_index()\n",
    "category_crating_df = category_crating_df.rename(columns={'Installs': 'Total Install'})\n",
    "\n",
    "category_crating_df"
   ]
  },
  {
   "cell_type": "markdown",
   "id": "a7fb3b66",
   "metadata": {},
   "source": [
    "**Bước 2:** Trong mỗi giá trị của cột `Content Rating`, chỉ lấy ra 5 category có `Total Install` lớn nhất."
   ]
  },
  {
   "cell_type": "code",
   "execution_count": 51,
   "id": "77daac82",
   "metadata": {},
   "outputs": [
    {
     "data": {
      "text/html": [
       "<div>\n",
       "<style scoped>\n",
       "    .dataframe tbody tr th:only-of-type {\n",
       "        vertical-align: middle;\n",
       "    }\n",
       "\n",
       "    .dataframe tbody tr th {\n",
       "        vertical-align: top;\n",
       "    }\n",
       "\n",
       "    .dataframe thead th {\n",
       "        text-align: right;\n",
       "    }\n",
       "</style>\n",
       "<table border=\"1\" class=\"dataframe\">\n",
       "  <thead>\n",
       "    <tr style=\"text-align: right;\">\n",
       "      <th></th>\n",
       "      <th>Content Rating</th>\n",
       "      <th>Category</th>\n",
       "      <th>Total Install</th>\n",
       "    </tr>\n",
       "  </thead>\n",
       "  <tbody>\n",
       "    <tr>\n",
       "      <th>0</th>\n",
       "      <td>Everyone</td>\n",
       "      <td>COMMUNICATION</td>\n",
       "      <td>10024549872</td>\n",
       "    </tr>\n",
       "    <tr>\n",
       "      <th>1</th>\n",
       "      <td>Everyone</td>\n",
       "      <td>GAME</td>\n",
       "      <td>8360430033</td>\n",
       "    </tr>\n",
       "    <tr>\n",
       "      <th>2</th>\n",
       "      <td>Everyone</td>\n",
       "      <td>TOOLS</td>\n",
       "      <td>8042697536</td>\n",
       "    </tr>\n",
       "    <tr>\n",
       "      <th>3</th>\n",
       "      <td>Everyone</td>\n",
       "      <td>PRODUCTIVITY</td>\n",
       "      <td>5783083607</td>\n",
       "    </tr>\n",
       "    <tr>\n",
       "      <th>4</th>\n",
       "      <td>Everyone</td>\n",
       "      <td>PHOTOGRAPHY</td>\n",
       "      <td>4385640913</td>\n",
       "    </tr>\n",
       "    <tr>\n",
       "      <th>5</th>\n",
       "      <td>Everyone 10+</td>\n",
       "      <td>GAME</td>\n",
       "      <td>2404860152</td>\n",
       "    </tr>\n",
       "    <tr>\n",
       "      <th>6</th>\n",
       "      <td>Everyone 10+</td>\n",
       "      <td>FAMILY</td>\n",
       "      <td>931904192</td>\n",
       "    </tr>\n",
       "    <tr>\n",
       "      <th>7</th>\n",
       "      <td>Everyone 10+</td>\n",
       "      <td>NEWS_AND_MAGAZINES</td>\n",
       "      <td>593957146</td>\n",
       "    </tr>\n",
       "    <tr>\n",
       "      <th>8</th>\n",
       "      <td>Everyone 10+</td>\n",
       "      <td>SPORTS</td>\n",
       "      <td>25561007</td>\n",
       "    </tr>\n",
       "    <tr>\n",
       "      <th>9</th>\n",
       "      <td>Everyone 10+</td>\n",
       "      <td>PERSONALIZATION</td>\n",
       "      <td>12510005</td>\n",
       "    </tr>\n",
       "    <tr>\n",
       "      <th>10</th>\n",
       "      <td>Teen</td>\n",
       "      <td>SOCIAL</td>\n",
       "      <td>4420462126</td>\n",
       "    </tr>\n",
       "    <tr>\n",
       "      <th>11</th>\n",
       "      <td>Teen</td>\n",
       "      <td>VIDEO_PLAYERS</td>\n",
       "      <td>2436156021</td>\n",
       "    </tr>\n",
       "    <tr>\n",
       "      <th>12</th>\n",
       "      <td>Teen</td>\n",
       "      <td>GAME</td>\n",
       "      <td>2181012901</td>\n",
       "    </tr>\n",
       "    <tr>\n",
       "      <th>13</th>\n",
       "      <td>Teen</td>\n",
       "      <td>FAMILY</td>\n",
       "      <td>1979417544</td>\n",
       "    </tr>\n",
       "    <tr>\n",
       "      <th>14</th>\n",
       "      <td>Teen</td>\n",
       "      <td>BOOKS_AND_REFERENCE</td>\n",
       "      <td>1433615027</td>\n",
       "    </tr>\n",
       "    <tr>\n",
       "      <th>15</th>\n",
       "      <td>Mature 17+</td>\n",
       "      <td>SOCIAL</td>\n",
       "      <td>704621045</td>\n",
       "    </tr>\n",
       "    <tr>\n",
       "      <th>16</th>\n",
       "      <td>Mature 17+</td>\n",
       "      <td>NEWS_AND_MAGAZINES</td>\n",
       "      <td>533515021</td>\n",
       "    </tr>\n",
       "    <tr>\n",
       "      <th>17</th>\n",
       "      <td>Mature 17+</td>\n",
       "      <td>GAME</td>\n",
       "      <td>511622275</td>\n",
       "    </tr>\n",
       "    <tr>\n",
       "      <th>18</th>\n",
       "      <td>Mature 17+</td>\n",
       "      <td>COMMUNICATION</td>\n",
       "      <td>180110018</td>\n",
       "    </tr>\n",
       "    <tr>\n",
       "      <th>19</th>\n",
       "      <td>Mature 17+</td>\n",
       "      <td>DATING</td>\n",
       "      <td>138897946</td>\n",
       "    </tr>\n",
       "    <tr>\n",
       "      <th>20</th>\n",
       "      <td>Adults only 18+</td>\n",
       "      <td>COMICS</td>\n",
       "      <td>1000002</td>\n",
       "    </tr>\n",
       "    <tr>\n",
       "      <th>21</th>\n",
       "      <td>Adults only 18+</td>\n",
       "      <td>SPORTS</td>\n",
       "      <td>1000001</td>\n",
       "    </tr>\n",
       "    <tr>\n",
       "      <th>22</th>\n",
       "      <td>Adults only 18+</td>\n",
       "      <td>ART_AND_DESIGN</td>\n",
       "      <td>0</td>\n",
       "    </tr>\n",
       "    <tr>\n",
       "      <th>23</th>\n",
       "      <td>Adults only 18+</td>\n",
       "      <td>PHOTOGRAPHY</td>\n",
       "      <td>0</td>\n",
       "    </tr>\n",
       "    <tr>\n",
       "      <th>24</th>\n",
       "      <td>Adults only 18+</td>\n",
       "      <td>MEDICAL</td>\n",
       "      <td>0</td>\n",
       "    </tr>\n",
       "  </tbody>\n",
       "</table>\n",
       "</div>"
      ],
      "text/plain": [
       "     Content Rating             Category  Total Install\n",
       "0          Everyone        COMMUNICATION    10024549872\n",
       "1          Everyone                 GAME     8360430033\n",
       "2          Everyone                TOOLS     8042697536\n",
       "3          Everyone         PRODUCTIVITY     5783083607\n",
       "4          Everyone          PHOTOGRAPHY     4385640913\n",
       "5      Everyone 10+                 GAME     2404860152\n",
       "6      Everyone 10+               FAMILY      931904192\n",
       "7      Everyone 10+   NEWS_AND_MAGAZINES      593957146\n",
       "8      Everyone 10+               SPORTS       25561007\n",
       "9      Everyone 10+      PERSONALIZATION       12510005\n",
       "10             Teen               SOCIAL     4420462126\n",
       "11             Teen        VIDEO_PLAYERS     2436156021\n",
       "12             Teen                 GAME     2181012901\n",
       "13             Teen               FAMILY     1979417544\n",
       "14             Teen  BOOKS_AND_REFERENCE     1433615027\n",
       "15       Mature 17+               SOCIAL      704621045\n",
       "16       Mature 17+   NEWS_AND_MAGAZINES      533515021\n",
       "17       Mature 17+                 GAME      511622275\n",
       "18       Mature 17+        COMMUNICATION      180110018\n",
       "19       Mature 17+               DATING      138897946\n",
       "20  Adults only 18+               COMICS        1000002\n",
       "21  Adults only 18+               SPORTS        1000001\n",
       "22  Adults only 18+       ART_AND_DESIGN              0\n",
       "23  Adults only 18+          PHOTOGRAPHY              0\n",
       "24  Adults only 18+              MEDICAL              0"
      ]
     },
     "execution_count": 51,
     "metadata": {},
     "output_type": "execute_result"
    }
   ],
   "source": [
    "def get_5_largest(df):\n",
    "    return df.sort_values(by = 'Total Install', ascending=False).head(5)\n",
    "    \n",
    "category_crating_df = category_crating_df.groupby('Content Rating').apply(get_5_largest).reset_index(drop=True)\n",
    "category_crating_df"
   ]
  },
  {
   "cell_type": "markdown",
   "id": "25a67c1c",
   "metadata": {},
   "source": [
    "**Bước 3**: Nhìn như vậy sẽ khó quan sát, do đó chúng ta sẽ chọn 1 nhóm độ tuổi mà ta định làm ứng dụng hướng đến, sau đó chỉ lấy ra dataframe có chứa thông tin về nhóm độ tuổi này, rồi thêm cột `App` vào dataframe, thể hiện tên 1 ứng dụng ngẫu nhiên thuộc vào category trong nhóm độ tuổi đó. Chẳng hạn ở đây chọn nhóm độ tuổi `Mature 17+`. Mục đích của việc thêm ứng dụng ngẫu nhiên là để có cái nhìn khách quan về các ứng dụng trong category đó."
   ]
  },
  {
   "cell_type": "code",
   "execution_count": 52,
   "id": "86bc2b3d",
   "metadata": {},
   "outputs": [
    {
     "data": {
      "text/html": [
       "<div>\n",
       "<style scoped>\n",
       "    .dataframe tbody tr th:only-of-type {\n",
       "        vertical-align: middle;\n",
       "    }\n",
       "\n",
       "    .dataframe tbody tr th {\n",
       "        vertical-align: top;\n",
       "    }\n",
       "\n",
       "    .dataframe thead th {\n",
       "        text-align: right;\n",
       "    }\n",
       "</style>\n",
       "<table border=\"1\" class=\"dataframe\">\n",
       "  <thead>\n",
       "    <tr style=\"text-align: right;\">\n",
       "      <th></th>\n",
       "      <th>Content Rating</th>\n",
       "      <th>Category</th>\n",
       "      <th>Total Install</th>\n",
       "      <th>App</th>\n",
       "    </tr>\n",
       "  </thead>\n",
       "  <tbody>\n",
       "    <tr>\n",
       "      <th>1</th>\n",
       "      <td>Mature 17+</td>\n",
       "      <td>DATING</td>\n",
       "      <td>138897946</td>\n",
       "      <td>Find Real Love — YouLove Premium Dating</td>\n",
       "    </tr>\n",
       "    <tr>\n",
       "      <th>0</th>\n",
       "      <td>Mature 17+</td>\n",
       "      <td>COMMUNICATION</td>\n",
       "      <td>180110018</td>\n",
       "      <td>Channel 19</td>\n",
       "    </tr>\n",
       "    <tr>\n",
       "      <th>2</th>\n",
       "      <td>Mature 17+</td>\n",
       "      <td>GAME</td>\n",
       "      <td>511622275</td>\n",
       "      <td>ZOMBIE RIPPER</td>\n",
       "    </tr>\n",
       "    <tr>\n",
       "      <th>3</th>\n",
       "      <td>Mature 17+</td>\n",
       "      <td>NEWS_AND_MAGAZINES</td>\n",
       "      <td>533515021</td>\n",
       "      <td>DH News</td>\n",
       "    </tr>\n",
       "    <tr>\n",
       "      <th>4</th>\n",
       "      <td>Mature 17+</td>\n",
       "      <td>SOCIAL</td>\n",
       "      <td>704621045</td>\n",
       "      <td>Gayvox - Gay Lesbian Bi Dating</td>\n",
       "    </tr>\n",
       "  </tbody>\n",
       "</table>\n",
       "</div>"
      ],
      "text/plain": [
       "  Content Rating            Category  Total Install  \\\n",
       "1     Mature 17+              DATING      138897946   \n",
       "0     Mature 17+       COMMUNICATION      180110018   \n",
       "2     Mature 17+                GAME      511622275   \n",
       "3     Mature 17+  NEWS_AND_MAGAZINES      533515021   \n",
       "4     Mature 17+              SOCIAL      704621045   \n",
       "\n",
       "                                       App  \n",
       "1  Find Real Love — YouLove Premium Dating  \n",
       "0                               Channel 19  \n",
       "2                            ZOMBIE RIPPER  \n",
       "3                                  DH News  \n",
       "4           Gayvox - Gay Lesbian Bi Dating  "
      ]
     },
     "execution_count": 52,
     "metadata": {},
     "output_type": "execute_result"
    }
   ],
   "source": [
    "view_content_rating = 'Mature 17+'\n",
    "df = category_crating_df[category_crating_df['Content Rating'] == view_content_rating]\n",
    "df = df.merge(app_df[['App', 'Content Rating', 'Category']], \\\n",
    "                        on=['Content Rating', 'Category'])\n",
    "df = df.groupby(['Content Rating', 'Category', 'Total Install'])\\\n",
    "                                         .apply(lambda x: x.sample(1)).reset_index(drop=True)\n",
    "df = df.sort_values('Total Install')\n",
    "df"
   ]
  },
  {
   "cell_type": "code",
   "execution_count": 53,
   "id": "966ed04a",
   "metadata": {},
   "outputs": [
    {
     "data": {
      "image/png": "[encoded data removed]",
      "text/plain": [
       "<Figure size 432x288 with 1 Axes>"
      ]
     },
     "metadata": {
      "needs_background": "light"
     },
     "output_type": "display_data"
    }
   ],
   "source": [
    "df.plot.barh(x='Category', y='Total Install', legend=False)\n",
    "plt.title(f'Top 5 categories with the highest total install in {view_content_rating}')\n",
    "plt.xlabel('Total Install')\n",
    "plt.ylabel('');"
   ]
  },
  {
   "cell_type": "markdown",
   "id": "033c2aa3",
   "metadata": {},
   "source": [
    "Quan sát kết quả này, nếu ta muốn làm ứng dụng cho nhóm độ tuổi `Mature 17+` thì nên tập trung vào category `SOCIAL` với ứng dụng tham khảo là `VK`, hoặc là category `NEWS_AND_MAGAZINES` với ứng dụng tham khảo là `Sync for reddit`. Lưu ý là tên ứng dụng lấy ngẫu nhiên nên khi chạy lại có thể sẽ thay đổi."
   ]
  },
  {
   "cell_type": "markdown",
   "id": "478bd16b",
   "metadata": {},
   "source": [
    "## Câu hỏi 2: Với mỗi category trong 10 category nhận được nhiều review nhất, các review tích cực, trung lập và tiêu cực được phân bố như thế nào?"
   ]
  },
  {
   "cell_type": "markdown",
   "id": "30d3e194",
   "metadata": {},
   "source": [
    "### Mục đích câu hỏi"
   ]
  },
  {
   "cell_type": "markdown",
   "id": "bf4486bb",
   "metadata": {},
   "source": [
    "Trả lời được câu hỏi này giúp chúng ta nắm được các ứng dụng trong từng category có đang phù hợp với mong muốn của người dùng hay không. Điều này hữu ích khi chúng ta là người phát triển phần mềm. Chẳng hạn nếu category nào có nhiều review tiêu cực, chúng ta có thể xây dựng một ứng dụng tương tự với ứng dụng trong category đó, nhưng khắc phục những nhược điểm trong phần review, kết quả là có cơ hội cạnh tranh và được người dùng sử dụng nhiều hơn do ứng dụng của chúng ta tốt hơn."
   ]
  },
  {
   "cell_type": "markdown",
   "id": "f23b4d8c",
   "metadata": {},
   "source": [
    "### Trả lời câu hỏi"
   ]
  },
  {
   "cell_type": "markdown",
   "id": "3d5216bd",
   "metadata": {},
   "source": [
    "**Bước 1:** Tìm 10 category có số lượng reviews cao nhất từ bảng `app_df`."
   ]
  },
  {
   "cell_type": "code",
   "execution_count": 54,
   "id": "93ec3bb2",
   "metadata": {},
   "outputs": [
    {
     "data": {
      "text/plain": [
       "Category\n",
       "GAME               590772190\n",
       "COMMUNICATION      285841611\n",
       "TOOLS              229424704\n",
       "SOCIAL             227936355\n",
       "FAMILY             193470282\n",
       "PHOTOGRAPHY        105424966\n",
       "VIDEO_PLAYERS       67644444\n",
       "PRODUCTIVITY        55590856\n",
       "PERSONALIZATION     53543117\n",
       "SHOPPING            44554067\n",
       "Name: Reviews, dtype: int64"
      ]
     },
     "execution_count": 54,
     "metadata": {},
     "output_type": "execute_result"
    }
   ],
   "source": [
    "top_10_cat_reviews = app_df.groupby('Category')['Reviews'].sum().sort_values(ascending=False).head(10)\n",
    "top_10_cat_reviews"
   ]
  },
  {
   "cell_type": "markdown",
   "id": "bb0f3b7d",
   "metadata": {},
   "source": [
    "**Bước 2:** Xác định mỗi review thuộc về category nào, kết quả lưu vào dataframe `merge_df` có 2 cột `Category` và `Sentiment`."
   ]
  },
  {
   "cell_type": "code",
   "execution_count": 55,
   "id": "2c2bb1b1",
   "metadata": {},
   "outputs": [
    {
     "data": {
      "text/html": [
       "<div>\n",
       "<style scoped>\n",
       "    .dataframe tbody tr th:only-of-type {\n",
       "        vertical-align: middle;\n",
       "    }\n",
       "\n",
       "    .dataframe tbody tr th {\n",
       "        vertical-align: top;\n",
       "    }\n",
       "\n",
       "    .dataframe thead th {\n",
       "        text-align: right;\n",
       "    }\n",
       "</style>\n",
       "<table border=\"1\" class=\"dataframe\">\n",
       "  <thead>\n",
       "    <tr style=\"text-align: right;\">\n",
       "      <th></th>\n",
       "      <th>Category</th>\n",
       "      <th>Sentiment</th>\n",
       "    </tr>\n",
       "  </thead>\n",
       "  <tbody>\n",
       "    <tr>\n",
       "      <th>6450</th>\n",
       "      <td>DATING</td>\n",
       "      <td>Positive</td>\n",
       "    </tr>\n",
       "    <tr>\n",
       "      <th>26140</th>\n",
       "      <td>GAME</td>\n",
       "      <td>Negative</td>\n",
       "    </tr>\n",
       "    <tr>\n",
       "      <th>2769</th>\n",
       "      <td>GAME</td>\n",
       "      <td>Neutral</td>\n",
       "    </tr>\n",
       "    <tr>\n",
       "      <th>29577</th>\n",
       "      <td>TRAVEL_AND_LOCAL</td>\n",
       "      <td>Positive</td>\n",
       "    </tr>\n",
       "    <tr>\n",
       "      <th>19336</th>\n",
       "      <td>BUSINESS</td>\n",
       "      <td>Negative</td>\n",
       "    </tr>\n",
       "    <tr>\n",
       "      <th>6138</th>\n",
       "      <td>NEWS_AND_MAGAZINES</td>\n",
       "      <td>Positive</td>\n",
       "    </tr>\n",
       "    <tr>\n",
       "      <th>7335</th>\n",
       "      <td>NEWS_AND_MAGAZINES</td>\n",
       "      <td>Negative</td>\n",
       "    </tr>\n",
       "    <tr>\n",
       "      <th>30463</th>\n",
       "      <td>SPORTS</td>\n",
       "      <td>Positive</td>\n",
       "    </tr>\n",
       "    <tr>\n",
       "      <th>29440</th>\n",
       "      <td>GAME</td>\n",
       "      <td>Positive</td>\n",
       "    </tr>\n",
       "    <tr>\n",
       "      <th>18334</th>\n",
       "      <td>PHOTOGRAPHY</td>\n",
       "      <td>Positive</td>\n",
       "    </tr>\n",
       "  </tbody>\n",
       "</table>\n",
       "</div>"
      ],
      "text/plain": [
       "                 Category Sentiment\n",
       "6450               DATING  Positive\n",
       "26140                GAME  Negative\n",
       "2769                 GAME   Neutral\n",
       "29577    TRAVEL_AND_LOCAL  Positive\n",
       "19336            BUSINESS  Negative\n",
       "6138   NEWS_AND_MAGAZINES  Positive\n",
       "7335   NEWS_AND_MAGAZINES  Negative\n",
       "30463              SPORTS  Positive\n",
       "29440                GAME  Positive\n",
       "18334         PHOTOGRAPHY  Positive"
      ]
     },
     "execution_count": 55,
     "metadata": {},
     "output_type": "execute_result"
    }
   ],
   "source": [
    "merge_df = review_df.merge(app_df)[['Category', 'Sentiment']]\n",
    "merge_df.sample(10)"
   ]
  },
  {
   "cell_type": "markdown",
   "id": "3e59af71",
   "metadata": {},
   "source": [
    "**Bước 3:** Lấy ra các review thuộc 10 category có số lượng review cao nhất, lưu vào dataframe `merge_top_10_df`."
   ]
  },
  {
   "cell_type": "code",
   "execution_count": 56,
   "id": "05b84db1",
   "metadata": {},
   "outputs": [
    {
     "data": {
      "text/html": [
       "<div>\n",
       "<style scoped>\n",
       "    .dataframe tbody tr th:only-of-type {\n",
       "        vertical-align: middle;\n",
       "    }\n",
       "\n",
       "    .dataframe tbody tr th {\n",
       "        vertical-align: top;\n",
       "    }\n",
       "\n",
       "    .dataframe thead th {\n",
       "        text-align: right;\n",
       "    }\n",
       "</style>\n",
       "<table border=\"1\" class=\"dataframe\">\n",
       "  <thead>\n",
       "    <tr style=\"text-align: right;\">\n",
       "      <th></th>\n",
       "      <th>Category</th>\n",
       "      <th>Sentiment</th>\n",
       "    </tr>\n",
       "  </thead>\n",
       "  <tbody>\n",
       "    <tr>\n",
       "      <th>7787</th>\n",
       "      <td>FAMILY</td>\n",
       "      <td>Negative</td>\n",
       "    </tr>\n",
       "    <tr>\n",
       "      <th>22661</th>\n",
       "      <td>GAME</td>\n",
       "      <td>Positive</td>\n",
       "    </tr>\n",
       "    <tr>\n",
       "      <th>32751</th>\n",
       "      <td>TOOLS</td>\n",
       "      <td>Neutral</td>\n",
       "    </tr>\n",
       "    <tr>\n",
       "      <th>25684</th>\n",
       "      <td>PHOTOGRAPHY</td>\n",
       "      <td>Negative</td>\n",
       "    </tr>\n",
       "    <tr>\n",
       "      <th>9564</th>\n",
       "      <td>GAME</td>\n",
       "      <td>Positive</td>\n",
       "    </tr>\n",
       "    <tr>\n",
       "      <th>29184</th>\n",
       "      <td>GAME</td>\n",
       "      <td>Negative</td>\n",
       "    </tr>\n",
       "    <tr>\n",
       "      <th>31902</th>\n",
       "      <td>SHOPPING</td>\n",
       "      <td>Positive</td>\n",
       "    </tr>\n",
       "    <tr>\n",
       "      <th>13905</th>\n",
       "      <td>GAME</td>\n",
       "      <td>Negative</td>\n",
       "    </tr>\n",
       "    <tr>\n",
       "      <th>16344</th>\n",
       "      <td>PRODUCTIVITY</td>\n",
       "      <td>Negative</td>\n",
       "    </tr>\n",
       "    <tr>\n",
       "      <th>25211</th>\n",
       "      <td>FAMILY</td>\n",
       "      <td>Positive</td>\n",
       "    </tr>\n",
       "  </tbody>\n",
       "</table>\n",
       "</div>"
      ],
      "text/plain": [
       "           Category Sentiment\n",
       "7787         FAMILY  Negative\n",
       "22661          GAME  Positive\n",
       "32751         TOOLS   Neutral\n",
       "25684   PHOTOGRAPHY  Negative\n",
       "9564           GAME  Positive\n",
       "29184          GAME  Negative\n",
       "31902      SHOPPING  Positive\n",
       "13905          GAME  Negative\n",
       "16344  PRODUCTIVITY  Negative\n",
       "25211        FAMILY  Positive"
      ]
     },
     "execution_count": 56,
     "metadata": {},
     "output_type": "execute_result"
    }
   ],
   "source": [
    "def in_top_10_cat_reviews(s):\n",
    "    return s in top_10_cat_reviews.index\n",
    "\n",
    "merge_top_10_df = merge_df[merge_df['Category'].apply(in_top_10_cat_reviews)]\n",
    "merge_top_10_df.sample(10)"
   ]
  },
  {
   "cell_type": "markdown",
   "id": "7b05936f",
   "metadata": {},
   "source": [
    "**Bước 4:** Đếm số lượng review liên quan nhất trong mỗi category, lưu vào series `sent_count`, đặt tên series là `Total`."
   ]
  },
  {
   "cell_type": "code",
   "execution_count": 57,
   "id": "1683d252",
   "metadata": {},
   "outputs": [
    {
     "data": {
      "text/plain": [
       "COMMUNICATION      1027\n",
       "FAMILY             3205\n",
       "GAME               6019\n",
       "PERSONALIZATION    1003\n",
       "PHOTOGRAPHY        1176\n",
       "PRODUCTIVITY       1463\n",
       "SHOPPING            898\n",
       "SOCIAL              741\n",
       "TOOLS              1451\n",
       "VIDEO_PLAYERS       331\n",
       "Name: Total, dtype: int64"
      ]
     },
     "execution_count": 57,
     "metadata": {},
     "output_type": "execute_result"
    }
   ],
   "source": [
    "sent_count = merge_top_10_df['Category'].value_counts().sort_index()\n",
    "sent_count.name = 'Total'\n",
    "sent_count"
   ]
  },
  {
   "cell_type": "markdown",
   "id": "c7166c80",
   "metadata": {},
   "source": [
    "**Bước 5:** Đếm số lượng review liên quan nhất thuộc mỗi loại (Negative, Neutral, Positive) trong mỗi category, lưu vào dataframe `cate_sent_count`."
   ]
  },
  {
   "cell_type": "code",
   "execution_count": 58,
   "id": "7389759f",
   "metadata": {},
   "outputs": [
    {
     "data": {
      "text/html": [
       "<div>\n",
       "<style scoped>\n",
       "    .dataframe tbody tr th:only-of-type {\n",
       "        vertical-align: middle;\n",
       "    }\n",
       "\n",
       "    .dataframe tbody tr th {\n",
       "        vertical-align: top;\n",
       "    }\n",
       "\n",
       "    .dataframe thead th {\n",
       "        text-align: right;\n",
       "    }\n",
       "</style>\n",
       "<table border=\"1\" class=\"dataframe\">\n",
       "  <thead>\n",
       "    <tr style=\"text-align: right;\">\n",
       "      <th>Sentiment</th>\n",
       "      <th>Negative</th>\n",
       "      <th>Neutral</th>\n",
       "      <th>Positive</th>\n",
       "    </tr>\n",
       "    <tr>\n",
       "      <th>Category</th>\n",
       "      <th></th>\n",
       "      <th></th>\n",
       "      <th></th>\n",
       "    </tr>\n",
       "  </thead>\n",
       "  <tbody>\n",
       "    <tr>\n",
       "      <th>COMMUNICATION</th>\n",
       "      <td>209</td>\n",
       "      <td>176</td>\n",
       "      <td>642</td>\n",
       "    </tr>\n",
       "    <tr>\n",
       "      <th>FAMILY</th>\n",
       "      <td>836</td>\n",
       "      <td>325</td>\n",
       "      <td>2044</td>\n",
       "    </tr>\n",
       "    <tr>\n",
       "      <th>GAME</th>\n",
       "      <td>2225</td>\n",
       "      <td>274</td>\n",
       "      <td>3520</td>\n",
       "    </tr>\n",
       "    <tr>\n",
       "      <th>PERSONALIZATION</th>\n",
       "      <td>146</td>\n",
       "      <td>155</td>\n",
       "      <td>702</td>\n",
       "    </tr>\n",
       "    <tr>\n",
       "      <th>PHOTOGRAPHY</th>\n",
       "      <td>235</td>\n",
       "      <td>160</td>\n",
       "      <td>781</td>\n",
       "    </tr>\n",
       "    <tr>\n",
       "      <th>PRODUCTIVITY</th>\n",
       "      <td>269</td>\n",
       "      <td>204</td>\n",
       "      <td>990</td>\n",
       "    </tr>\n",
       "    <tr>\n",
       "      <th>SHOPPING</th>\n",
       "      <td>177</td>\n",
       "      <td>134</td>\n",
       "      <td>587</td>\n",
       "    </tr>\n",
       "    <tr>\n",
       "      <th>SOCIAL</th>\n",
       "      <td>209</td>\n",
       "      <td>128</td>\n",
       "      <td>404</td>\n",
       "    </tr>\n",
       "    <tr>\n",
       "      <th>TOOLS</th>\n",
       "      <td>256</td>\n",
       "      <td>319</td>\n",
       "      <td>876</td>\n",
       "    </tr>\n",
       "    <tr>\n",
       "      <th>VIDEO_PLAYERS</th>\n",
       "      <td>83</td>\n",
       "      <td>58</td>\n",
       "      <td>190</td>\n",
       "    </tr>\n",
       "  </tbody>\n",
       "</table>\n",
       "</div>"
      ],
      "text/plain": [
       "Sentiment        Negative  Neutral  Positive\n",
       "Category                                    \n",
       "COMMUNICATION         209      176       642\n",
       "FAMILY                836      325      2044\n",
       "GAME                 2225      274      3520\n",
       "PERSONALIZATION       146      155       702\n",
       "PHOTOGRAPHY           235      160       781\n",
       "PRODUCTIVITY          269      204       990\n",
       "SHOPPING              177      134       587\n",
       "SOCIAL                209      128       404\n",
       "TOOLS                 256      319       876\n",
       "VIDEO_PLAYERS          83       58       190"
      ]
     },
     "execution_count": 58,
     "metadata": {},
     "output_type": "execute_result"
    }
   ],
   "source": [
    "cate_sent_count = merge_top_10_df.groupby(['Category','Sentiment']).size().unstack(1)\n",
    "cate_sent_count"
   ]
  },
  {
   "cell_type": "markdown",
   "id": "28a598cd",
   "metadata": {},
   "source": [
    "**Bước 6:** Gộp dataframe `cate_sent_count` và series `sent_count` thành dataframe `stat_reviews_df` có 4 cột: `Negative`, `Neutral`, `Positive`, `Total`, tính tỉ lệ review tích cực, trung lập và tiêu cực của mỗi category, lưu vào 3 cột `Positive_ratio`, `Neutral_ratio` và `Negative_ratio`."
   ]
  },
  {
   "cell_type": "code",
   "execution_count": 59,
   "id": "4e88a0f0",
   "metadata": {},
   "outputs": [
    {
     "data": {
      "text/html": [
       "<div>\n",
       "<style scoped>\n",
       "    .dataframe tbody tr th:only-of-type {\n",
       "        vertical-align: middle;\n",
       "    }\n",
       "\n",
       "    .dataframe tbody tr th {\n",
       "        vertical-align: top;\n",
       "    }\n",
       "\n",
       "    .dataframe thead th {\n",
       "        text-align: right;\n",
       "    }\n",
       "</style>\n",
       "<table border=\"1\" class=\"dataframe\">\n",
       "  <thead>\n",
       "    <tr style=\"text-align: right;\">\n",
       "      <th></th>\n",
       "      <th>Negative</th>\n",
       "      <th>Neutral</th>\n",
       "      <th>Positive</th>\n",
       "      <th>Total</th>\n",
       "      <th>Positive_ratio</th>\n",
       "      <th>Neutral_ratio</th>\n",
       "      <th>Negative_ratio</th>\n",
       "    </tr>\n",
       "  </thead>\n",
       "  <tbody>\n",
       "    <tr>\n",
       "      <th>COMMUNICATION</th>\n",
       "      <td>209</td>\n",
       "      <td>176</td>\n",
       "      <td>642</td>\n",
       "      <td>1027</td>\n",
       "      <td>0.625122</td>\n",
       "      <td>0.171373</td>\n",
       "      <td>0.203505</td>\n",
       "    </tr>\n",
       "    <tr>\n",
       "      <th>FAMILY</th>\n",
       "      <td>836</td>\n",
       "      <td>325</td>\n",
       "      <td>2044</td>\n",
       "      <td>3205</td>\n",
       "      <td>0.637754</td>\n",
       "      <td>0.101404</td>\n",
       "      <td>0.260842</td>\n",
       "    </tr>\n",
       "    <tr>\n",
       "      <th>GAME</th>\n",
       "      <td>2225</td>\n",
       "      <td>274</td>\n",
       "      <td>3520</td>\n",
       "      <td>6019</td>\n",
       "      <td>0.584815</td>\n",
       "      <td>0.045523</td>\n",
       "      <td>0.369663</td>\n",
       "    </tr>\n",
       "    <tr>\n",
       "      <th>PERSONALIZATION</th>\n",
       "      <td>146</td>\n",
       "      <td>155</td>\n",
       "      <td>702</td>\n",
       "      <td>1003</td>\n",
       "      <td>0.699900</td>\n",
       "      <td>0.154536</td>\n",
       "      <td>0.145563</td>\n",
       "    </tr>\n",
       "    <tr>\n",
       "      <th>PHOTOGRAPHY</th>\n",
       "      <td>235</td>\n",
       "      <td>160</td>\n",
       "      <td>781</td>\n",
       "      <td>1176</td>\n",
       "      <td>0.664116</td>\n",
       "      <td>0.136054</td>\n",
       "      <td>0.199830</td>\n",
       "    </tr>\n",
       "    <tr>\n",
       "      <th>PRODUCTIVITY</th>\n",
       "      <td>269</td>\n",
       "      <td>204</td>\n",
       "      <td>990</td>\n",
       "      <td>1463</td>\n",
       "      <td>0.676692</td>\n",
       "      <td>0.139440</td>\n",
       "      <td>0.183869</td>\n",
       "    </tr>\n",
       "    <tr>\n",
       "      <th>SHOPPING</th>\n",
       "      <td>177</td>\n",
       "      <td>134</td>\n",
       "      <td>587</td>\n",
       "      <td>898</td>\n",
       "      <td>0.653675</td>\n",
       "      <td>0.149220</td>\n",
       "      <td>0.197105</td>\n",
       "    </tr>\n",
       "    <tr>\n",
       "      <th>SOCIAL</th>\n",
       "      <td>209</td>\n",
       "      <td>128</td>\n",
       "      <td>404</td>\n",
       "      <td>741</td>\n",
       "      <td>0.545209</td>\n",
       "      <td>0.172740</td>\n",
       "      <td>0.282051</td>\n",
       "    </tr>\n",
       "    <tr>\n",
       "      <th>TOOLS</th>\n",
       "      <td>256</td>\n",
       "      <td>319</td>\n",
       "      <td>876</td>\n",
       "      <td>1451</td>\n",
       "      <td>0.603722</td>\n",
       "      <td>0.219848</td>\n",
       "      <td>0.176430</td>\n",
       "    </tr>\n",
       "    <tr>\n",
       "      <th>VIDEO_PLAYERS</th>\n",
       "      <td>83</td>\n",
       "      <td>58</td>\n",
       "      <td>190</td>\n",
       "      <td>331</td>\n",
       "      <td>0.574018</td>\n",
       "      <td>0.175227</td>\n",
       "      <td>0.250755</td>\n",
       "    </tr>\n",
       "  </tbody>\n",
       "</table>\n",
       "</div>"
      ],
      "text/plain": [
       "                 Negative  Neutral  Positive  Total  Positive_ratio  \\\n",
       "COMMUNICATION         209      176       642   1027        0.625122   \n",
       "FAMILY                836      325      2044   3205        0.637754   \n",
       "GAME                 2225      274      3520   6019        0.584815   \n",
       "PERSONALIZATION       146      155       702   1003        0.699900   \n",
       "PHOTOGRAPHY           235      160       781   1176        0.664116   \n",
       "PRODUCTIVITY          269      204       990   1463        0.676692   \n",
       "SHOPPING              177      134       587    898        0.653675   \n",
       "SOCIAL                209      128       404    741        0.545209   \n",
       "TOOLS                 256      319       876   1451        0.603722   \n",
       "VIDEO_PLAYERS          83       58       190    331        0.574018   \n",
       "\n",
       "                 Neutral_ratio  Negative_ratio  \n",
       "COMMUNICATION         0.171373        0.203505  \n",
       "FAMILY                0.101404        0.260842  \n",
       "GAME                  0.045523        0.369663  \n",
       "PERSONALIZATION       0.154536        0.145563  \n",
       "PHOTOGRAPHY           0.136054        0.199830  \n",
       "PRODUCTIVITY          0.139440        0.183869  \n",
       "SHOPPING              0.149220        0.197105  \n",
       "SOCIAL                0.172740        0.282051  \n",
       "TOOLS                 0.219848        0.176430  \n",
       "VIDEO_PLAYERS         0.175227        0.250755  "
      ]
     },
     "execution_count": 59,
     "metadata": {},
     "output_type": "execute_result"
    }
   ],
   "source": [
    "stat_reviews_df = pd.concat([cate_sent_count, sent_count], axis=1)\n",
    "stat_reviews_df['Positive_ratio'] = stat_reviews_df['Positive'] / stat_reviews_df['Total']\n",
    "stat_reviews_df['Neutral_ratio'] = stat_reviews_df['Neutral'] / stat_reviews_df['Total']\n",
    "stat_reviews_df['Negative_ratio'] = stat_reviews_df['Negative'] / stat_reviews_df['Total']\n",
    "stat_reviews_df"
   ]
  },
  {
   "cell_type": "markdown",
   "id": "38ce24c9",
   "metadata": {},
   "source": [
    "Từ dataframe trên, ta có biểu đồ phân bố tỉ lệ review liên quan nhất của 10 category nhận được nhiều review nhất:"
   ]
  },
  {
   "cell_type": "code",
   "execution_count": 60,
   "id": "9693abe3",
   "metadata": {},
   "outputs": [
    {
     "data": {
      "image/png": "[encoded data removed]",
      "text/plain": [
       "<Figure size 432x288 with 1 Axes>"
      ]
     },
     "metadata": {
      "needs_background": "light"
     },
     "output_type": "display_data"
    }
   ],
   "source": [
    "stat_reviews_df[['Positive_ratio', 'Neutral_ratio', 'Negative_ratio']]\\\n",
    ".plot.barh(stacked=True, color=[\"green\", \"yellow\", \"red\"])\n",
    "plt.legend(loc='center left', bbox_to_anchor=(1, 0.5));"
   ]
  },
  {
   "cell_type": "markdown",
   "id": "24e32d49",
   "metadata": {},
   "source": [
    "Có thể thấy rằng tỉ lệ review (liên quan nhất) tích cực không có sự khác biệt quá nhiều, còn đối với tỉ lệ review (liên quan nhất) tiêu cực, tỉ lệ này cao nhất ở thể loại GAME, tiếp đến là SOCIAL, FAMILY, VIDEO_PLAYERS.<br/>\n",
    "Như vậy, nếu như các nhà phát triển phần mềm có dự định xây dựng các phần mềm thuộc các thể loại có nhiều đánh giá mang tính tiêu cực như GAME, SOCIAL, FAMILY, VIDEO_PLAYERS, họ sẽ cần tìm ra những điểm yếu của những phần mềm hiện có này để khi phát triển ứng dụng cho mình sẽ hạn chế được những điểm yếu này. Từ việc trả lời câu hỏi này, nhóm nghĩ rằng có thể phân tích thêm nội dung các review bằng NLP để tìm ra được những nội dung tiêu cực được nhắc đến trong những thể loại kể trên."
   ]
  },
  {
   "cell_type": "markdown",
   "id": "5d246619",
   "metadata": {},
   "source": [
    "# Nhìn lại quá trình làm đồ án"
   ]
  },
  {
   "cell_type": "markdown",
   "id": "dfe0eb6d",
   "metadata": {},
   "source": [
    "## Thành viên: Trần Chí Hào"
   ]
  },
  {
   "cell_type": "markdown",
   "id": "dce6880c",
   "metadata": {},
   "source": [
    "### Đã gặp những khó khăn gì?\n",
    "\n",
    "- Nhìn chung, việc thực hiện đồ án khá suôn sẻ và kịp tiến độ. Tuy nhiên em có gặp khó khăn một chút ở cách đặt câu hỏi sao cho đủ ý nghĩa và mục đích, và cách đánh giá, rút ra nhận xét từ những câu hỏi này."
   ]
  },
  {
   "cell_type": "markdown",
   "id": "33f9507a",
   "metadata": {},
   "source": [
    "### Có học được gì hữu ích?\n",
    "- Qua đồ án này, em đã học được cách thực hiện một quy trình khoa học dữ liệu, cách sử dụng các thư viện Pandas, Numpy, Matplotlib trong Python và các công cụ khác để ứng dụng vào quy trình này.\n",
    "- Tuy nhóm đã chọn dữ liệu có nhiều vấn để cần phải tiền xử lý khá tốn thời gian, nhưng cũng giúp em trở nên bình tĩnh hơn và cảm thấy thú vị khi dữ liệu có vẻ hơi \"hỏng\" một chút.\n",
    "- Làm đồ án theo nhóm cũng giúp em học hỏi được góc nhìn và cách triển khai vấn đề của bạn Thắng cùng nhóm, ví dụ ở dòng dữ liệu có thiếu giá trị cột `Category` trong bảng `app_df`, cả hai đều tìm ra với cách tiếp cận khác nhau, và cách giải quyết cũng khác nhau.\n",
    "- Khi được review cho nhóm khác và được nhóm khác review cho nhóm mình, em cũng đã học hỏi được cách tiếp cận vấn đề của các bạn, điều này cũng khiến em nhận ra được nhiều góc nhìn đa dạng khi thực hiện một quy trình khoa học dữ liệu."
   ]
  },
  {
   "cell_type": "markdown",
   "id": "ba93be6c",
   "metadata": {},
   "source": [
    "## Thành viên: Trần Quốc Thắng"
   ]
  },
  {
   "cell_type": "markdown",
   "id": "98477d90",
   "metadata": {},
   "source": [
    "### Đã gặp những khó khăn gì?"
   ]
  },
  {
   "cell_type": "markdown",
   "id": "44849f9d",
   "metadata": {},
   "source": [
    "- Khi xử lý dữ liệu của file `googleplaystore.csv`, em đã cảm thấy khá hoang mang khi gặp trường hợp một cột dữ liệu lại có chứa những giá trị đáng ra là phải nằm ở cột khác. Em đã nghi ngờ về tính chính xác khi thu thập dữ liệu của data mà nhóm sử dụng. Em còn định đề xuất cho bạn Hào sử dụng 1 data về chủ đề khác. Nhưng nhớ lời thầy Kiên là làm về dữ liệu thì phải bình tĩnh, nên em đã thử quan sát lại các dòng chứa giá trị và nhận ra ở các dòng đó, một số cột bị lệch sang trái, nghĩa là dòng đó có 1 cột không có giá trị. Do đó em chỉ cần thao tác với file CSV để tìm ra các dòng như vậy và sửa chúng, vậy là data đã được fix mà không cần phải chuyển bộ data khác."
   ]
  },
  {
   "cell_type": "markdown",
   "id": "a888bb11",
   "metadata": {},
   "source": [
    "- Việc đưa ra câu hỏi có ý nghĩa để trả lời cũng khiến em phải suy nghĩ rất nhiều về việc phải chọn câu hỏi nào vừa có thể tận dụng các giá trị trong data, vừa phù hợp với một nhu cầu thực tế nào đó. VÌ thế nên em tự đặt mình là một nhà phát triển ứng dụng, suy nghĩ xem lúc đó mình sẽ muốn biết gì từ dữ liệu, và quan sát ý nghĩa của các cột dữ liệu để đặt câu hỏi."
   ]
  },
  {
   "cell_type": "markdown",
   "id": "7aba3778",
   "metadata": {},
   "source": [
    "### Có học được gì hữu ích?"
   ]
  },
  {
   "cell_type": "markdown",
   "id": "e5d15980",
   "metadata": {},
   "source": [
    "- Qua đồ án này, trước hết em học được là khi làm về khoa học dữ liệu thì phải giữ sự bình tĩnh để quan sát và suy luận. Khi gặp 1 bộ dữ liệu, có thể nó sẽ có một vài chỗ không chuẩn khiến chúng ta hoài nghi, nhưng thay vì bỏ cuộc thì tiếp tục bình tĩnh khám phá để hiểu được nguyên nhân tại sao nó lại như vậy thì sẽ tốt hơn."
   ]
  },
  {
   "cell_type": "markdown",
   "id": "b94a0178",
   "metadata": {},
   "source": [
    "- Điều thứ hai em học được là ở cách làm việc nhóm, khác với các đồ án ở môn học khác là chia ra mỗi bạn làm một phần, ở đồ án này tụi em đều cùng làm 1 phần rồi so sánh và gộp kết quả với nhau. Tuy cách này nghe có vẻ tốn nhiều thời gian hơn nhưng có ưu điểm là khi gộp lại thì em thấy được cách suy nghĩ của đồng đội, và thấy được những khía cạnh khác của bài toán mà em chưa bao giờ nghĩ đến. Điều này giúp tụi em có thể học hỏi lẫn nhau và cùng tiến bộ."
   ]
  },
  {
   "cell_type": "markdown",
   "id": "f16e2ae0",
   "metadata": {},
   "source": [
    "## Cả nhóm"
   ]
  },
  {
   "cell_type": "markdown",
   "id": "4e1f8d67",
   "metadata": {},
   "source": [
    "### Nếu có thêm thời gian thì sẽ làm gì?"
   ]
  },
  {
   "cell_type": "markdown",
   "id": "a9943ad8",
   "metadata": {},
   "source": [
    "Nếu nhóm có nhiều thời gian hơn, nhóm sẽ:\n",
    "- Tìm hiểu nhiều hơn về ý nghĩa của các khái niệm như Sentiment Polarity, Sentiment Subjectivity. 2 khái niệm này dùng trong NLP nên có thể là dùng NLP để phân tích xem trong các comment tiêu cực thì nội dung thường được nhắc đến là về vấn đề gì.\n",
    "- Khai thác nhiều insight hơn qua những cột chưa được đề cập trong các câu hỏi.\n"
   ]
  },
  {
   "cell_type": "markdown",
   "id": "07957761",
   "metadata": {},
   "source": [
    "# Tài liệu tham khảo"
   ]
  },
  {
   "cell_type": "markdown",
   "id": "ce4e80a1",
   "metadata": {},
   "source": [
    "- Video các buổi học của thầy và tài liệu môn học\n",
    "- [Wrong Entry for 10472 row](https://www.kaggle.com/lava18/google-play-store-apps/discussion/164101)\n",
    "- [pandas.Categorical](https://pandas.pydata.org/pandas-docs/stable/reference/api/pandas.Categorical.html)\n",
    "- [mode.chained_assignment](https://pandas.pydata.org/pandas-docs/stable/user_guide/indexing.html)\n",
    "- [Sentiment polarity, Sentiment subjectivity](https://towardsdatascience.com/my-absolute-go-to-for-sentiment-analysis-textblob-3ac3a11d524)\n",
    "- [How to put the legend out of the plot](https://stackoverflow.com/questions/4700614/how-to-put-the-legend-out-of-the-plot)"
   ]
  }
 ],
 "metadata": {
  "kernelspec": {
   "display_name": "Python 3 (ipykernel)",
   "language": "python",
   "name": "python3"
  },
  "language_info": {
   "codemirror_mode": {
    "name": "ipython",
    "version": 3
   },
   "file_extension": ".py",
   "mimetype": "text/x-python",
   "name": "python",
   "nbconvert_exporter": "python",
   "pygments_lexer": "ipython3",
   "version": "3.8.8"
  },
  "toc": {
   "base_numbering": "0",
   "nav_menu": {},
   "number_sections": true,
   "sideBar": true,
   "skip_h1_title": false,
   "title_cell": "Mục lục",
   "title_sidebar": "Contents",
   "toc_cell": false,
   "toc_position": {},
   "toc_section_display": true,
   "toc_window_display": false
  }
 },
 "nbformat": 4,
 "nbformat_minor": 5
}
