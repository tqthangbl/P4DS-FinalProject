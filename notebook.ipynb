{
 "cells": [
  {
   "cell_type": "markdown",
   "id": "e474838c",
   "metadata": {},
   "source": [
    "# Thông tin đồ án"
   ]
  },
  {
   "cell_type": "markdown",
   "id": "fdfb51e4",
   "metadata": {},
   "source": [
    "## Thành viên"
   ]
  },
  {
   "cell_type": "markdown",
   "id": "40b1c777",
   "metadata": {},
   "source": [
    "|   MSSV   |      Họ tên     |   GitHub  |\n",
    "|:--------:|:---------------:|:---------:|\n",
    "| 18120120 | Trần Chí Hào    | haotrch   |\n",
    "| 18120147 | Trần Quốc Thắng | tqthangbl |"
   ]
  },
  {
   "cell_type": "markdown",
   "id": "5b2520d2",
   "metadata": {},
   "source": [
    "## Link thùng chứa GitHub"
   ]
  },
  {
   "cell_type": "markdown",
   "id": "0809edc8",
   "metadata": {},
   "source": [
    "[https://github.com/tqthangbl/P4DS-FinalProject](https://github.com/tqthangbl/P4DS-FinalProject)"
   ]
  },
  {
   "cell_type": "markdown",
   "id": "09c02594",
   "metadata": {},
   "source": [
    "# Môi trường code\n",
    "\n"
   ]
  },
  {
   "cell_type": "markdown",
   "id": "3af9a199",
   "metadata": {},
   "source": [
    "- Code trên môi trường Linux\n",
    "- Dùng phiên bản các package như trong file \"min_ds-env.yml\"\n"
   ]
  },
  {
   "cell_type": "code",
   "execution_count": 3,
   "id": "c9b531e7",
   "metadata": {},
   "outputs": [
    {
     "data": {
      "text/plain": [
       "'/home/family-u/.conda/envs/min_ds-env/bin/python'"
      ]
     },
     "execution_count": 3,
     "metadata": {},
     "output_type": "execute_result"
    }
   ],
   "source": [
    "import sys\n",
    "sys.executable"
   ]
  },
  {
   "cell_type": "markdown",
   "id": "27f2560c",
   "metadata": {},
   "source": [
    "# Import các thư viện cần thiết"
   ]
  },
  {
   "cell_type": "code",
   "execution_count": 5,
   "id": "8d7c73f5",
   "metadata": {},
   "outputs": [],
   "source": [
    "import pandas as pd\n",
    "import matplotlib.pyplot as plt\n",
    "import numpy as np"
   ]
  },
  {
   "cell_type": "markdown",
   "id": "5d6ef28c",
   "metadata": {},
   "source": [
    "# Thu thập dữ liệu"
   ]
  },
  {
   "cell_type": "markdown",
   "id": "fde7f33f",
   "metadata": {},
   "source": [
    "**Dữ liệu của bạn là về chủ đề gì và bạn lấy từ nguồn nào?**\n",
    "\n",
    "Bộ dữ liệu mà nhóm sử dụng có tên là \"Google Play Store Apps\", được lấy từ [Kaggle](https://www.kaggle.com/lava18/google-play-store-apps), chứa thông tin về 10000 ứng dụng trên Google Play Store. Thời điểm bộ dữ liệu được đăng lên Kaggle là 2018-09-05, lần cập nhật cuối là vào 2019-02-03.\n",
    "\n",
    "Có 2 file dữ liệu:\n",
    "1. googleplaystore.csv: Chứa các thông tin chi tiết về các ứng dụng thu thập được từ Google Play\n",
    "2. googleplaystore_user_reviews: Chứa thông tin về 100 đánh giá liên quan nhất cho mỗi ứng dụng thu thập được từ Google Play\n",
    "\n",
    "**Người ta có cho phép bạn dùng dữ liệu như này không? Ví dụ, bạn có thể xem thử license của dữ liệu là gì**\n",
    "\n",
    "\n",
    "License của dữ liệu là Creative Commons Attribution 3.0 Unported, theo như được nói ở [đây](https://creativecommons.org/licenses/by/3.0/), người ta cho phép:\n",
    "\n",
    "1. Copy và chia sẻ dữ liệu này dưới bất kì hình thức nào\n",
    "2. Sử dụng bộ dữ liệu này để xây dựng bất cứ thứ gì, cho bất cứ mục đích nào, kể cả thương mại\n",
    "\n",
    "**Người ta thu thập dữ liệu như thế nào?**\n",
    "\n"
   ]
  },
  {
   "cell_type": "markdown",
   "id": "e3023e5b",
   "metadata": {},
   "source": [
    "# Khám phá dữ liệu (thường đan xen với tiền xử lý)"
   ]
  },
  {
   "cell_type": "markdown",
   "id": "386bcab9",
   "metadata": {},
   "source": [
    "* Dữ liệu có bao nhiêu dòng và bao nhiêu cột?\n",
    "* Mỗi dòng có ý nghĩa gì? Có vấn đề các dòng có ý nghĩa\n",
    "khác nhau không?\n",
    "* Dữ liệu có các dòng bị lặp không?\n",
    "* Mỗi cột có ý nghĩa gì?\n",
    "* Mỗi cột hiện đang có kiểu dữ liệu gì? Có cột nào có kiểu\n",
    "dữ liệu chưa phù hợp để có thể xử lý tiếp không?\n",
    "* Với mỗi cột có kiểu dữ liệu dạng số (numerical), các giá\n",
    "trị được phân bố như thế nào?\n",
    "    * Số-lượng/tỉ-lệ các giá trị thiếu?\n",
    "    * Min? max? → Có gì bất thường không?\n",
    "* Với mỗi cột có kiểu dữ liệu dạng phân loại (categorical),\n",
    "các giá trị được phân bố như thế nào?\n",
    "    * Số-lượng/tỉ-lệ các giá trị thiếu?\n",
    "    * Số lượng các giá trị khác nhau? Show một vài giá trị\n",
    "→ Có gì bất thường không?"
   ]
  },
  {
   "cell_type": "code",
   "execution_count": null,
   "id": "08020410",
   "metadata": {},
   "outputs": [],
   "source": [
    "test commit"
   ]
  },
  {
   "cell_type": "markdown",
   "id": "805f86fe",
   "metadata": {},
   "source": [
    "# Đưa ra các câu hỏi có ý nghĩa cần trả lời"
   ]
  },
  {
   "cell_type": "markdown",
   "id": "9e8a90ef",
   "metadata": {},
   "source": [
    "* Câu hỏi là gì?\n",
    "* Nếu trả lời được câu hỏi thì sẽ có lợi ích gì?"
   ]
  },
  {
   "cell_type": "markdown",
   "id": "4fa09535",
   "metadata": {},
   "source": []
  },
  {
   "cell_type": "markdown",
   "id": "ea1f9587",
   "metadata": {},
   "source": [
    "# Tiền xử lý + phân tích dữ liệu để trả lời cho từng câu hỏi"
   ]
  },
  {
   "cell_type": "code",
   "execution_count": null,
   "id": "cdc8ba3c",
   "metadata": {},
   "outputs": [],
   "source": []
  },
  {
   "cell_type": "markdown",
   "id": "5d246619",
   "metadata": {},
   "source": [
    "# Nhìn lại quá trình làm đồ án"
   ]
  },
  {
   "cell_type": "markdown",
   "id": "2b9842a4",
   "metadata": {},
   "source": [
    "* Mỗi thành viên: Đã gặp những khó khăn gì? (Hay mọi\n",
    "chuyện đều thuận lợi)\n",
    "* Mỗi thành viên: Có học được gì hữu ích? (Hay không\n",
    "học được gì)\n",
    "* Nhóm: Nếu có thêm thời gian thì sẽ làm gì?"
   ]
  },
  {
   "cell_type": "markdown",
   "id": "8e12f3eb",
   "metadata": {},
   "source": []
  },
  {
   "cell_type": "markdown",
   "id": "07957761",
   "metadata": {},
   "source": [
    "# Tài liệu tham khảo"
   ]
  },
  {
   "cell_type": "markdown",
   "id": "ce4e80a1",
   "metadata": {},
   "source": []
  }
 ],
 "metadata": {
  "kernelspec": {
   "display_name": "Python 3 (ipykernel)",
   "language": "python",
   "name": "python3"
  },
  "language_info": {
   "codemirror_mode": {
    "name": "ipython",
    "version": 3
   },
   "file_extension": ".py",
   "mimetype": "text/x-python",
   "name": "python",
   "nbconvert_exporter": "python",
   "pygments_lexer": "ipython3",
   "version": "3.8.8"
  },
  "toc": {
   "base_numbering": "0",
   "nav_menu": {},
   "number_sections": true,
   "sideBar": true,
   "skip_h1_title": false,
   "title_cell": "Mục lục",
   "title_sidebar": "Contents",
   "toc_cell": false,
   "toc_position": {},
   "toc_section_display": true,
   "toc_window_display": false
  }
 },
 "nbformat": 4,
 "nbformat_minor": 5
}
