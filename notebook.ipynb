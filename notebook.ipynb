{
 "cells": [
  {
   "cell_type": "markdown",
   "id": "e474838c",
   "metadata": {},
   "source": [
    "# Thông tin đồ án"
   ]
  },
  {
   "cell_type": "markdown",
   "id": "fdfb51e4",
   "metadata": {},
   "source": [
    "## Thành viên"
   ]
  },
  {
   "cell_type": "markdown",
   "id": "40b1c777",
   "metadata": {},
   "source": [
    "|   MSSV   |      Họ tên     |   GitHub  |\n",
    "|:--------:|:---------------:|:---------:|\n",
    "| 18120120 | Trần Chí Hào    | haotrch   |\n",
    "| 18120147 | Trần Quốc Thắng | tqthangbl |"
   ]
  },
  {
   "cell_type": "markdown",
   "id": "5b2520d2",
   "metadata": {},
   "source": [
    "## Link thùng chứa GitHub"
   ]
  },
  {
   "cell_type": "markdown",
   "id": "0809edc8",
   "metadata": {},
   "source": [
    "[https://github.com/tqthangbl/P4DS-FinalProject](https://github.com/tqthangbl/P4DS-FinalProject)"
   ]
  },
  {
   "cell_type": "markdown",
   "id": "c1fdf297",
   "metadata": {},
   "source": [
    "# Môi trường code\n",
    "\n"
   ]
  },
  {
   "cell_type": "markdown",
   "id": "a7f78e86",
   "metadata": {},
   "source": [
    "- Code trên môi trường Linux\n",
    "- Dùng phiên bản các package như trong file \"min_ds-env.yml\"\n"
   ]
  },
  {
   "cell_type": "code",
   "execution_count": 149,
   "id": "25cc5bcd",
   "metadata": {},
   "outputs": [
    {
     "data": {
      "text/plain": [
       "'/home/family-u/.conda/envs/min_ds-env/bin/python'"
      ]
     },
     "execution_count": 149,
     "metadata": {},
     "output_type": "execute_result"
    }
   ],
   "source": [
    "import sys\n",
    "sys.executable"
   ]
  },
  {
   "cell_type": "markdown",
   "id": "46e89110",
   "metadata": {},
   "source": [
    "# Import các thư viện cần thiết"
   ]
  },
  {
   "cell_type": "code",
   "execution_count": 150,
   "id": "1b9cccd8",
   "metadata": {},
   "outputs": [],
   "source": [
    "import pandas as pd\n",
    "import matplotlib.pyplot as plt\n",
    "import numpy as np"
   ]
  },
  {
   "cell_type": "markdown",
   "id": "5d6ef28c",
   "metadata": {},
   "source": [
    "# Thu thập dữ liệu"
   ]
  },
  {
   "cell_type": "markdown",
   "id": "a108fef1",
   "metadata": {},
   "source": [
    "**Dữ liệu của bạn là về chủ đề gì và bạn lấy từ nguồn nào?**\n",
    "\n",
    "Bộ dữ liệu mà nhóm sử dụng có tên là \"Google Play Store Apps\", được lấy từ [Kaggle](https://www.kaggle.com/lava18/google-play-store-apps), chứa thông tin về hơn 10000 ứng dụng trên Google Play Store. Thời điểm bộ dữ liệu được đăng lên Kaggle là 2018-09-05, lần cập nhật cuối là vào 2019-02-03.\n",
    "\n",
    "Có 2 file dữ liệu:\n",
    "1. `googleplaystore.csv`: Chứa các thông tin chi tiết về các ứng dụng thu thập được từ Google Play\n",
    "2. `googleplaystore_user_reviews`: Chứa thông tin về 100 đánh giá liên quan nhất cho mỗi ứng dụng thu thập được từ Google Play\n",
    "\n",
    "**Người ta có cho phép bạn dùng dữ liệu như này không? Ví dụ, bạn có thể xem thử license của dữ liệu là gì**\n",
    "\n",
    "\n",
    "License của dữ liệu là Creative Commons Attribution 3.0 Unported, theo như được nói ở [đây](https://creativecommons.org/licenses/by/3.0/), người ta cho phép:\n",
    "\n",
    "1. Copy và chia sẻ dữ liệu này dưới bất kì hình thức nào\n",
    "2. Sử dụng bộ dữ liệu này để xây dựng bất cứ thứ gì, cho bất cứ mục đích nào, kể cả thương mại\n",
    "\n",
    "**Người ta thu thập dữ liệu như thế nào?**\n",
    "\n",
    "Dữ liệu được tác giả crawl từ Google Play Store.\n"
   ]
  },
  {
   "cell_type": "markdown",
   "id": "e3023e5b",
   "metadata": {},
   "source": [
    "# Khám phá dữ liệu (thường đan xen với tiền xử lý)"
   ]
  },
  {
   "cell_type": "markdown",
   "id": "386bcab9",
   "metadata": {},
   "source": [
    "* Dữ liệu có bao nhiêu dòng và bao nhiêu cột?\n",
    "* Mỗi dòng có ý nghĩa gì? Có vấn đề các dòng có ý nghĩa\n",
    "khác nhau không?\n",
    "* Dữ liệu có các dòng bị lặp không?\n",
    "* Mỗi cột có ý nghĩa gì?\n",
    "* Mỗi cột hiện đang có kiểu dữ liệu gì? Có cột nào có kiểu\n",
    "dữ liệu chưa phù hợp để có thể xử lý tiếp không?\n",
    "* Với mỗi cột có kiểu dữ liệu dạng số (numerical), các giá\n",
    "trị được phân bố như thế nào?\n",
    "    * Số-lượng/tỉ-lệ các giá trị thiếu?\n",
    "    * Min? max? → Có gì bất thường không?\n",
    "* Với mỗi cột có kiểu dữ liệu dạng phân loại (categorical),\n",
    "các giá trị được phân bố như thế nào?\n",
    "    * Số-lượng/tỉ-lệ các giá trị thiếu?\n",
    "    * Số lượng các giá trị khác nhau? Show một vài giá trị\n",
    "→ Có gì bất thường không?"
   ]
  },
  {
   "cell_type": "markdown",
   "id": "3047dc3f",
   "metadata": {},
   "source": [
    "## Đọc dữ liệu từ file csv vào dataframe"
   ]
  },
  {
   "cell_type": "markdown",
   "id": "2ef33d6b",
   "metadata": {},
   "source": [
    "Ở đây nhóm khám phá dữ liệu trong file `googleplaystore.csv` trước. Dữ liệu đọc từ file sẽ lưu vào dataframe `app_df`."
   ]
  },
  {
   "cell_type": "code",
   "execution_count": 151,
   "id": "3b49e402",
   "metadata": {},
   "outputs": [
    {
     "data": {
      "text/html": [
       "<div>\n",
       "<style scoped>\n",
       "    .dataframe tbody tr th:only-of-type {\n",
       "        vertical-align: middle;\n",
       "    }\n",
       "\n",
       "    .dataframe tbody tr th {\n",
       "        vertical-align: top;\n",
       "    }\n",
       "\n",
       "    .dataframe thead th {\n",
       "        text-align: right;\n",
       "    }\n",
       "</style>\n",
       "<table border=\"1\" class=\"dataframe\">\n",
       "  <thead>\n",
       "    <tr style=\"text-align: right;\">\n",
       "      <th></th>\n",
       "      <th>App</th>\n",
       "      <th>Category</th>\n",
       "      <th>Rating</th>\n",
       "      <th>Reviews</th>\n",
       "      <th>Size</th>\n",
       "      <th>Installs</th>\n",
       "      <th>Type</th>\n",
       "      <th>Price</th>\n",
       "      <th>Content Rating</th>\n",
       "      <th>Genres</th>\n",
       "      <th>Last Updated</th>\n",
       "      <th>Current Ver</th>\n",
       "      <th>Android Ver</th>\n",
       "    </tr>\n",
       "  </thead>\n",
       "  <tbody>\n",
       "    <tr>\n",
       "      <th>0</th>\n",
       "      <td>Photo Editor &amp; Candy Camera &amp; Grid &amp; ScrapBook</td>\n",
       "      <td>ART_AND_DESIGN</td>\n",
       "      <td>4.1</td>\n",
       "      <td>159</td>\n",
       "      <td>19M</td>\n",
       "      <td>10,000+</td>\n",
       "      <td>Free</td>\n",
       "      <td>0</td>\n",
       "      <td>Everyone</td>\n",
       "      <td>Art &amp; Design</td>\n",
       "      <td>January 7, 2018</td>\n",
       "      <td>1.0.0</td>\n",
       "      <td>4.0.3 and up</td>\n",
       "    </tr>\n",
       "    <tr>\n",
       "      <th>1</th>\n",
       "      <td>Coloring book moana</td>\n",
       "      <td>ART_AND_DESIGN</td>\n",
       "      <td>3.9</td>\n",
       "      <td>967</td>\n",
       "      <td>14M</td>\n",
       "      <td>500,000+</td>\n",
       "      <td>Free</td>\n",
       "      <td>0</td>\n",
       "      <td>Everyone</td>\n",
       "      <td>Art &amp; Design;Pretend Play</td>\n",
       "      <td>January 15, 2018</td>\n",
       "      <td>2.0.0</td>\n",
       "      <td>4.0.3 and up</td>\n",
       "    </tr>\n",
       "    <tr>\n",
       "      <th>2</th>\n",
       "      <td>U Launcher Lite – FREE Live Cool Themes, Hide ...</td>\n",
       "      <td>ART_AND_DESIGN</td>\n",
       "      <td>4.7</td>\n",
       "      <td>87510</td>\n",
       "      <td>8.7M</td>\n",
       "      <td>5,000,000+</td>\n",
       "      <td>Free</td>\n",
       "      <td>0</td>\n",
       "      <td>Everyone</td>\n",
       "      <td>Art &amp; Design</td>\n",
       "      <td>August 1, 2018</td>\n",
       "      <td>1.2.4</td>\n",
       "      <td>4.0.3 and up</td>\n",
       "    </tr>\n",
       "    <tr>\n",
       "      <th>3</th>\n",
       "      <td>Sketch - Draw &amp; Paint</td>\n",
       "      <td>ART_AND_DESIGN</td>\n",
       "      <td>4.5</td>\n",
       "      <td>215644</td>\n",
       "      <td>25M</td>\n",
       "      <td>50,000,000+</td>\n",
       "      <td>Free</td>\n",
       "      <td>0</td>\n",
       "      <td>Teen</td>\n",
       "      <td>Art &amp; Design</td>\n",
       "      <td>June 8, 2018</td>\n",
       "      <td>Varies with device</td>\n",
       "      <td>4.2 and up</td>\n",
       "    </tr>\n",
       "    <tr>\n",
       "      <th>4</th>\n",
       "      <td>Pixel Draw - Number Art Coloring Book</td>\n",
       "      <td>ART_AND_DESIGN</td>\n",
       "      <td>4.3</td>\n",
       "      <td>967</td>\n",
       "      <td>2.8M</td>\n",
       "      <td>100,000+</td>\n",
       "      <td>Free</td>\n",
       "      <td>0</td>\n",
       "      <td>Everyone</td>\n",
       "      <td>Art &amp; Design;Creativity</td>\n",
       "      <td>June 20, 2018</td>\n",
       "      <td>1.1</td>\n",
       "      <td>4.4 and up</td>\n",
       "    </tr>\n",
       "  </tbody>\n",
       "</table>\n",
       "</div>"
      ],
      "text/plain": [
       "                                                 App        Category  Rating  \\\n",
       "0     Photo Editor & Candy Camera & Grid & ScrapBook  ART_AND_DESIGN     4.1   \n",
       "1                                Coloring book moana  ART_AND_DESIGN     3.9   \n",
       "2  U Launcher Lite – FREE Live Cool Themes, Hide ...  ART_AND_DESIGN     4.7   \n",
       "3                              Sketch - Draw & Paint  ART_AND_DESIGN     4.5   \n",
       "4              Pixel Draw - Number Art Coloring Book  ART_AND_DESIGN     4.3   \n",
       "\n",
       "  Reviews  Size     Installs  Type Price Content Rating  \\\n",
       "0     159   19M      10,000+  Free     0       Everyone   \n",
       "1     967   14M     500,000+  Free     0       Everyone   \n",
       "2   87510  8.7M   5,000,000+  Free     0       Everyone   \n",
       "3  215644   25M  50,000,000+  Free     0           Teen   \n",
       "4     967  2.8M     100,000+  Free     0       Everyone   \n",
       "\n",
       "                      Genres      Last Updated         Current Ver  \\\n",
       "0               Art & Design   January 7, 2018               1.0.0   \n",
       "1  Art & Design;Pretend Play  January 15, 2018               2.0.0   \n",
       "2               Art & Design    August 1, 2018               1.2.4   \n",
       "3               Art & Design      June 8, 2018  Varies with device   \n",
       "4    Art & Design;Creativity     June 20, 2018                 1.1   \n",
       "\n",
       "    Android Ver  \n",
       "0  4.0.3 and up  \n",
       "1  4.0.3 and up  \n",
       "2  4.0.3 and up  \n",
       "3    4.2 and up  \n",
       "4    4.4 and up  "
      ]
     },
     "execution_count": 151,
     "metadata": {},
     "output_type": "execute_result"
    }
   ],
   "source": [
    "app_df = pd.read_csv('Data/googleplaystore.csv')\n",
    "app_df.head()"
   ]
  },
  {
   "cell_type": "markdown",
   "id": "1e0d8be9",
   "metadata": {},
   "source": [
    "## Dữ liệu có bao nhiêu dòng và bao nhiêu cột?"
   ]
  },
  {
   "cell_type": "code",
   "execution_count": 152,
   "id": "8bc0b373",
   "metadata": {},
   "outputs": [
    {
     "name": "stdout",
     "output_type": "stream",
     "text": [
      "[+] num_rows = 10841\n",
      "[+] num_cols = 13\n"
     ]
    }
   ],
   "source": [
    "num_rows = len(app_df)\n",
    "num_cols = len(app_df.columns)\n",
    "\n",
    "print(f'[+] num_rows = {num_rows}')\n",
    "print(f'[+] num_cols = {num_cols}')"
   ]
  },
  {
   "cell_type": "markdown",
   "id": "36b8fe76",
   "metadata": {},
   "source": [
    "Dữ liệu có 10841 dòng và 13 cột."
   ]
  },
  {
   "cell_type": "markdown",
   "id": "6c289eed",
   "metadata": {},
   "source": [
    "## Mỗi dòng có ý nghĩa gì? Có vấn đề các dòng có ý nghĩa khác nhau không?"
   ]
  },
  {
   "cell_type": "code",
   "execution_count": 153,
   "id": "9300b1e5",
   "metadata": {},
   "outputs": [
    {
     "data": {
      "text/html": [
       "<div>\n",
       "<style scoped>\n",
       "    .dataframe tbody tr th:only-of-type {\n",
       "        vertical-align: middle;\n",
       "    }\n",
       "\n",
       "    .dataframe tbody tr th {\n",
       "        vertical-align: top;\n",
       "    }\n",
       "\n",
       "    .dataframe thead th {\n",
       "        text-align: right;\n",
       "    }\n",
       "</style>\n",
       "<table border=\"1\" class=\"dataframe\">\n",
       "  <thead>\n",
       "    <tr style=\"text-align: right;\">\n",
       "      <th></th>\n",
       "      <th>App</th>\n",
       "      <th>Category</th>\n",
       "      <th>Rating</th>\n",
       "      <th>Reviews</th>\n",
       "      <th>Size</th>\n",
       "      <th>Installs</th>\n",
       "      <th>Type</th>\n",
       "      <th>Price</th>\n",
       "      <th>Content Rating</th>\n",
       "      <th>Genres</th>\n",
       "      <th>Last Updated</th>\n",
       "      <th>Current Ver</th>\n",
       "      <th>Android Ver</th>\n",
       "    </tr>\n",
       "  </thead>\n",
       "  <tbody>\n",
       "    <tr>\n",
       "      <th>3638</th>\n",
       "      <td>Klara weather</td>\n",
       "      <td>WEATHER</td>\n",
       "      <td>4.6</td>\n",
       "      <td>36900</td>\n",
       "      <td>4.8M</td>\n",
       "      <td>500,000+</td>\n",
       "      <td>Free</td>\n",
       "      <td>0</td>\n",
       "      <td>Everyone</td>\n",
       "      <td>Weather</td>\n",
       "      <td>July 28, 2018</td>\n",
       "      <td>1.3.6</td>\n",
       "      <td>4.0 and up</td>\n",
       "    </tr>\n",
       "    <tr>\n",
       "      <th>4077</th>\n",
       "      <td>E-cigarette for free</td>\n",
       "      <td>FAMILY</td>\n",
       "      <td>3.6</td>\n",
       "      <td>1354</td>\n",
       "      <td>4.8M</td>\n",
       "      <td>500,000+</td>\n",
       "      <td>Free</td>\n",
       "      <td>0</td>\n",
       "      <td>Mature 17+</td>\n",
       "      <td>Entertainment</td>\n",
       "      <td>October 23, 2017</td>\n",
       "      <td>1.0</td>\n",
       "      <td>2.3 and up</td>\n",
       "    </tr>\n",
       "    <tr>\n",
       "      <th>467</th>\n",
       "      <td>Viber Messenger</td>\n",
       "      <td>COMMUNICATION</td>\n",
       "      <td>4.3</td>\n",
       "      <td>11335255</td>\n",
       "      <td>Varies with device</td>\n",
       "      <td>500,000,000+</td>\n",
       "      <td>Free</td>\n",
       "      <td>0</td>\n",
       "      <td>Everyone</td>\n",
       "      <td>Communication</td>\n",
       "      <td>July 18, 2018</td>\n",
       "      <td>Varies with device</td>\n",
       "      <td>Varies with device</td>\n",
       "    </tr>\n",
       "    <tr>\n",
       "      <th>10275</th>\n",
       "      <td>Mobile FC</td>\n",
       "      <td>SPORTS</td>\n",
       "      <td>4.1</td>\n",
       "      <td>5015</td>\n",
       "      <td>57M</td>\n",
       "      <td>100,000+</td>\n",
       "      <td>Free</td>\n",
       "      <td>0</td>\n",
       "      <td>Everyone</td>\n",
       "      <td>Sports</td>\n",
       "      <td>May 25, 2018</td>\n",
       "      <td>125</td>\n",
       "      <td>4.0.3 and up</td>\n",
       "    </tr>\n",
       "    <tr>\n",
       "      <th>3846</th>\n",
       "      <td>Sentin Information Map</td>\n",
       "      <td>MAPS_AND_NAVIGATION</td>\n",
       "      <td>4.1</td>\n",
       "      <td>2909</td>\n",
       "      <td>5.2M</td>\n",
       "      <td>100,000+</td>\n",
       "      <td>Free</td>\n",
       "      <td>0</td>\n",
       "      <td>Everyone</td>\n",
       "      <td>Maps &amp; Navigation</td>\n",
       "      <td>June 26, 2018</td>\n",
       "      <td>1.39</td>\n",
       "      <td>4.1 and up</td>\n",
       "    </tr>\n",
       "  </tbody>\n",
       "</table>\n",
       "</div>"
      ],
      "text/plain": [
       "                          App             Category  Rating   Reviews  \\\n",
       "3638            Klara weather              WEATHER     4.6     36900   \n",
       "4077     E-cigarette for free               FAMILY     3.6      1354   \n",
       "467           Viber Messenger        COMMUNICATION     4.3  11335255   \n",
       "10275               Mobile FC               SPORTS     4.1      5015   \n",
       "3846   Sentin Information Map  MAPS_AND_NAVIGATION     4.1      2909   \n",
       "\n",
       "                     Size      Installs  Type Price Content Rating  \\\n",
       "3638                 4.8M      500,000+  Free     0       Everyone   \n",
       "4077                 4.8M      500,000+  Free     0     Mature 17+   \n",
       "467    Varies with device  500,000,000+  Free     0       Everyone   \n",
       "10275                 57M      100,000+  Free     0       Everyone   \n",
       "3846                 5.2M      100,000+  Free     0       Everyone   \n",
       "\n",
       "                  Genres      Last Updated         Current Ver  \\\n",
       "3638             Weather     July 28, 2018               1.3.6   \n",
       "4077       Entertainment  October 23, 2017                 1.0   \n",
       "467        Communication     July 18, 2018  Varies with device   \n",
       "10275             Sports      May 25, 2018                 125   \n",
       "3846   Maps & Navigation     June 26, 2018                1.39   \n",
       "\n",
       "              Android Ver  \n",
       "3638           4.0 and up  \n",
       "4077           2.3 and up  \n",
       "467    Varies with device  \n",
       "10275        4.0.3 and up  \n",
       "3846           4.1 and up  "
      ]
     },
     "execution_count": 153,
     "metadata": {},
     "output_type": "execute_result"
    }
   ],
   "source": [
    "app_df.sample(5)"
   ]
  },
  {
   "cell_type": "markdown",
   "id": "b87c539f",
   "metadata": {},
   "source": [
    "Theo như mô tả của tác giả, mỗi dòng trong dữ liệu chứa thông tin của 1 ứng dụng trên Play Store. Bằng việc quan sát ngẫu nhiên các dòng trong dữ liệu nhiều lần, có vẻ không có dòng nào mang ý nghĩa khác. "
   ]
  },
  {
   "cell_type": "markdown",
   "id": "b3b24e18",
   "metadata": {},
   "source": [
    "## Mỗi cột có ý nghĩa gì?"
   ]
  },
  {
   "cell_type": "markdown",
   "id": "de24e05e",
   "metadata": {},
   "source": [
    "Theo như mô tả trên Kaggle, bộ dữ liệu gồm 13 cột với ý nghĩa từng cột như sau:\n",
    "\n",
    "- **App**: Application name\n",
    "- **Category**: Category the app belongs to \n",
    "- **Rating**: Overall user rating of the app (as when scraped)\n",
    "- **Reviews**: Number of user reviews for the app (as when scraped)\n",
    "- **Size**: Size of the app (as when scraped)\n",
    "- **Installs**: Number of user downloads/installs for the app (as when scraped)\n",
    "- **Type**: Paid or Free\n",
    "- **Price**: Price of the app (as when scraped)\n",
    "- **Content Rating**: Age group the app is targeted at - Children / Mature 21+ / Adult\n",
    "- **Genres**: An app can belong to multiple genres (apart from its main category). For eg, a musical family game will belong to Music, Game, Family genres.\n",
    "\n",
    "3 cột còn lại không có mô tả trên Kaggle, nhưng dựa vào tên cột và quan sát các dòng ngẫu nhiên, có thể hiểu ý nghĩa của chúng như sau:\n",
    "\n",
    "- **Last Updated**: Lần cuối ứng dụng được cập nhật trên Play Store\n",
    "- **Current Ver**: Phiên bản hiện tại của ứng dụng trên Play Store\n",
    "- **Android Ver**: Các phiên bản Android phù hợp để cài đặt ứng dụng"
   ]
  },
  {
   "cell_type": "markdown",
   "id": "c3ae9743",
   "metadata": {},
   "source": [
    "## Dữ liệu có các dòng bị lặp không?"
   ]
  },
  {
   "cell_type": "code",
   "execution_count": 154,
   "id": "d9710618",
   "metadata": {},
   "outputs": [
    {
     "name": "stdout",
     "output_type": "stream",
     "text": [
      "[+] have_duplicated_rows = True\n"
     ]
    }
   ],
   "source": [
    "have_duplicated_rows = True\n",
    "dup_df = app_df[app_df.duplicated()]\n",
    "if len(dup_df) == 0:\n",
    "    have_duplicated_rows = False\n",
    "    \n",
    "print(f'[+] have_duplicated_rows = {have_duplicated_rows}')"
   ]
  },
  {
   "cell_type": "markdown",
   "id": "3230bf1d",
   "metadata": {},
   "source": [
    "### Vấn đề cần tiền xử lý\n",
    "- Một số dòng trong dữ liệu bị lặp, điều này có thể dẫn đến khi tính toán (đếm, tính tỉ lệ). Tuy là Play Store cho phép 2 ứng dụng có thể trùng tên, nhưng rất khó để 2 ứng dụng có thể trùng toàn bộ thông tin trong 12 cột còn lại. Do đó những dòng bị lặp này là của cùng 1 ứng dụng, vì vậy cần phải loại bỏ chúng."
   ]
  },
  {
   "cell_type": "markdown",
   "id": "3683e546",
   "metadata": {},
   "source": [
    "---"
   ]
  },
  {
   "cell_type": "markdown",
   "id": "743819ba",
   "metadata": {},
   "source": [
    "# Tiền xử lý"
   ]
  },
  {
   "cell_type": "markdown",
   "id": "6fa070db",
   "metadata": {},
   "source": [
    "## Loại bỏ các dòng bị lặp"
   ]
  },
  {
   "cell_type": "markdown",
   "id": "48d27b76",
   "metadata": {},
   "source": [
    "Các dòng bị lặp được lưu trong dataframe `dup_df`. Đầu tiên xem thử 1 vài giá trị của dataframe này."
   ]
  },
  {
   "cell_type": "code",
   "execution_count": 155,
   "id": "c9c0252a",
   "metadata": {},
   "outputs": [
    {
     "data": {
      "text/html": [
       "<div>\n",
       "<style scoped>\n",
       "    .dataframe tbody tr th:only-of-type {\n",
       "        vertical-align: middle;\n",
       "    }\n",
       "\n",
       "    .dataframe tbody tr th {\n",
       "        vertical-align: top;\n",
       "    }\n",
       "\n",
       "    .dataframe thead th {\n",
       "        text-align: right;\n",
       "    }\n",
       "</style>\n",
       "<table border=\"1\" class=\"dataframe\">\n",
       "  <thead>\n",
       "    <tr style=\"text-align: right;\">\n",
       "      <th></th>\n",
       "      <th>App</th>\n",
       "      <th>Category</th>\n",
       "      <th>Rating</th>\n",
       "      <th>Reviews</th>\n",
       "      <th>Size</th>\n",
       "      <th>Installs</th>\n",
       "      <th>Type</th>\n",
       "      <th>Price</th>\n",
       "      <th>Content Rating</th>\n",
       "      <th>Genres</th>\n",
       "      <th>Last Updated</th>\n",
       "      <th>Current Ver</th>\n",
       "      <th>Android Ver</th>\n",
       "    </tr>\n",
       "  </thead>\n",
       "  <tbody>\n",
       "    <tr>\n",
       "      <th>904</th>\n",
       "      <td>Netflix</td>\n",
       "      <td>ENTERTAINMENT</td>\n",
       "      <td>4.4</td>\n",
       "      <td>5456208</td>\n",
       "      <td>Varies with device</td>\n",
       "      <td>100,000,000+</td>\n",
       "      <td>Free</td>\n",
       "      <td>0</td>\n",
       "      <td>Teen</td>\n",
       "      <td>Entertainment</td>\n",
       "      <td>July 31, 2018</td>\n",
       "      <td>Varies with device</td>\n",
       "      <td>Varies with device</td>\n",
       "    </tr>\n",
       "    <tr>\n",
       "      <th>3211</th>\n",
       "      <td>Booking.com Travel Deals</td>\n",
       "      <td>TRAVEL_AND_LOCAL</td>\n",
       "      <td>4.7</td>\n",
       "      <td>1830388</td>\n",
       "      <td>Varies with device</td>\n",
       "      <td>100,000,000+</td>\n",
       "      <td>Free</td>\n",
       "      <td>0</td>\n",
       "      <td>Everyone</td>\n",
       "      <td>Travel &amp; Local</td>\n",
       "      <td>August 6, 2018</td>\n",
       "      <td>Varies with device</td>\n",
       "      <td>Varies with device</td>\n",
       "    </tr>\n",
       "    <tr>\n",
       "      <th>8630</th>\n",
       "      <td>Any.do: To-do list, Calendar, Reminders &amp; Planner</td>\n",
       "      <td>PRODUCTIVITY</td>\n",
       "      <td>4.5</td>\n",
       "      <td>298854</td>\n",
       "      <td>Varies with device</td>\n",
       "      <td>10,000,000+</td>\n",
       "      <td>Free</td>\n",
       "      <td>0</td>\n",
       "      <td>Everyone</td>\n",
       "      <td>Productivity</td>\n",
       "      <td>August 5, 2018</td>\n",
       "      <td>Varies with device</td>\n",
       "      <td>Varies with device</td>\n",
       "    </tr>\n",
       "    <tr>\n",
       "      <th>3094</th>\n",
       "      <td>WatchESPN</td>\n",
       "      <td>SPORTS</td>\n",
       "      <td>4.1</td>\n",
       "      <td>288809</td>\n",
       "      <td>6.6M</td>\n",
       "      <td>10,000,000+</td>\n",
       "      <td>Free</td>\n",
       "      <td>0</td>\n",
       "      <td>Everyone</td>\n",
       "      <td>Sports</td>\n",
       "      <td>September 27, 2017</td>\n",
       "      <td>2.5.1</td>\n",
       "      <td>4.4 and up</td>\n",
       "    </tr>\n",
       "    <tr>\n",
       "      <th>2857</th>\n",
       "      <td>Shutterfly: Free Prints, Photo Books, Cards, G...</td>\n",
       "      <td>PHOTOGRAPHY</td>\n",
       "      <td>4.6</td>\n",
       "      <td>98716</td>\n",
       "      <td>59M</td>\n",
       "      <td>5,000,000+</td>\n",
       "      <td>Free</td>\n",
       "      <td>0</td>\n",
       "      <td>Everyone</td>\n",
       "      <td>Photography</td>\n",
       "      <td>August 1, 2018</td>\n",
       "      <td>5.13.1</td>\n",
       "      <td>5.0 and up</td>\n",
       "    </tr>\n",
       "  </tbody>\n",
       "</table>\n",
       "</div>"
      ],
      "text/plain": [
       "                                                    App          Category  \\\n",
       "904                                             Netflix     ENTERTAINMENT   \n",
       "3211                           Booking.com Travel Deals  TRAVEL_AND_LOCAL   \n",
       "8630  Any.do: To-do list, Calendar, Reminders & Planner      PRODUCTIVITY   \n",
       "3094                                          WatchESPN            SPORTS   \n",
       "2857  Shutterfly: Free Prints, Photo Books, Cards, G...       PHOTOGRAPHY   \n",
       "\n",
       "      Rating  Reviews                Size      Installs  Type Price  \\\n",
       "904      4.4  5456208  Varies with device  100,000,000+  Free     0   \n",
       "3211     4.7  1830388  Varies with device  100,000,000+  Free     0   \n",
       "8630     4.5   298854  Varies with device   10,000,000+  Free     0   \n",
       "3094     4.1   288809                6.6M   10,000,000+  Free     0   \n",
       "2857     4.6    98716                 59M    5,000,000+  Free     0   \n",
       "\n",
       "     Content Rating          Genres        Last Updated         Current Ver  \\\n",
       "904            Teen   Entertainment       July 31, 2018  Varies with device   \n",
       "3211       Everyone  Travel & Local      August 6, 2018  Varies with device   \n",
       "8630       Everyone    Productivity      August 5, 2018  Varies with device   \n",
       "3094       Everyone          Sports  September 27, 2017               2.5.1   \n",
       "2857       Everyone     Photography      August 1, 2018              5.13.1   \n",
       "\n",
       "             Android Ver  \n",
       "904   Varies with device  \n",
       "3211  Varies with device  \n",
       "8630  Varies with device  \n",
       "3094          4.4 and up  \n",
       "2857          5.0 and up  "
      ]
     },
     "execution_count": 155,
     "metadata": {},
     "output_type": "execute_result"
    }
   ],
   "source": [
    "dup_df.sample(5)"
   ]
  },
  {
   "cell_type": "markdown",
   "id": "74c2b9f1",
   "metadata": {},
   "source": [
    "Tiến hành loại bỏ các dòng bị lặp trong `app_df` và cập nhật lại biến `num_rows` thể hiện số dòng của dữ liệu."
   ]
  },
  {
   "cell_type": "code",
   "execution_count": 156,
   "id": "40e82e92",
   "metadata": {},
   "outputs": [
    {
     "name": "stdout",
     "output_type": "stream",
     "text": [
      "[+] num_rows = 10358\n"
     ]
    }
   ],
   "source": [
    "app_df = app_df.drop_duplicates()\n",
    "num_rows = len(app_df)\n",
    "\n",
    "print(f'[+] num_rows = {num_rows}')"
   ]
  },
  {
   "cell_type": "markdown",
   "id": "a22df877",
   "metadata": {},
   "source": [
    "Số dòng của dữ liệu sau khi loại bỏ các dòng bị lặp, chỉ còn lại 10358 dòng."
   ]
  },
  {
   "cell_type": "markdown",
   "id": "de621190",
   "metadata": {},
   "source": [
    "---"
   ]
  },
  {
   "cell_type": "markdown",
   "id": "1d3dfb2b",
   "metadata": {},
   "source": [
    "# Khám phá dữ liệu (tiếp tục)"
   ]
  },
  {
   "cell_type": "markdown",
   "id": "6f17c24a",
   "metadata": {},
   "source": [
    "## Mỗi cột hiện đang có kiểu dữ liệu gì? Có cột nào có kiểu dữ liệu chưa phù hợp để có thể xử lý tiếp không?"
   ]
  },
  {
   "cell_type": "markdown",
   "id": "49478eb9",
   "metadata": {},
   "source": [
    "Trước hết lấy ra `dtypes` của các cột, lưu vào series `col_dtypes`, và in ra để quan sát."
   ]
  },
  {
   "cell_type": "code",
   "execution_count": 157,
   "id": "ea4a8ce4",
   "metadata": {},
   "outputs": [
    {
     "data": {
      "text/plain": [
       "App                object\n",
       "Category           object\n",
       "Rating            float64\n",
       "Reviews            object\n",
       "Size               object\n",
       "Installs           object\n",
       "Type               object\n",
       "Price              object\n",
       "Content Rating     object\n",
       "Genres             object\n",
       "Last Updated       object\n",
       "Current Ver        object\n",
       "Android Ver        object\n",
       "dtype: object"
      ]
     },
     "execution_count": 157,
     "metadata": {},
     "output_type": "execute_result"
    }
   ],
   "source": [
    "col_dtypes = app_df.dtypes\n",
    "\n",
    "col_dtypes"
   ]
  },
  {
   "cell_type": "markdown",
   "id": "d28ffee8",
   "metadata": {},
   "source": [
    "Cột `Rating` thể hiện đánh giá của người dùng cho ứng dụng, là 1 con số nên kiểu `float64` là hợp lý. Các cột còn lại đang có kiểu `object`. Kiểu `object` trong Pandas thường là chuỗi, nhưng cũng có thể là một đối tượng bất kỳ. Do đó, trong các cột thuộc kiểu `object`, có thể chứa những giá trị thuộc các kiểu dữ liệu khác nhau. Ta phải kiểm tra điều này bằng cách: với mỗi cột, áp dụng lệnh `type` lên từng phần tử trong cột đó để xem kiểu dữ liệu thật sự của chúng. Hàm `open_object_dtype` sẽ nhận input là 1 series `s`, trả về 1 set là tập các kiểu dữ liệu có trong series đó. Khi xem kết quả hàm `open_object_dtype` của từng cột, ta cũng xem luôn cột đó mang các giá trị phân biệt nào để xem có điều gì bất thường hay không."
   ]
  },
  {
   "cell_type": "code",
   "execution_count": 158,
   "id": "2bd34404",
   "metadata": {},
   "outputs": [
    {
     "name": "stdout",
     "output_type": "stream",
     "text": [
      "[+] Column App dtypes: \n",
      "{<class 'str'>}\n",
      "['Photo Editor & Candy Camera & Grid & ScrapBook' 'Coloring book moana'\n",
      " 'U Launcher Lite – FREE Live Cool Themes, Hide Apps' ...\n",
      " 'Parkinson Exercices FR' 'The SCP Foundation DB fr nn5n'\n",
      " 'iHoroscope - 2018 Daily Horoscope & Astrology']\n",
      "\n",
      "[+] Column Category dtypes: \n",
      "{<class 'str'>}\n",
      "['ART_AND_DESIGN' 'AUTO_AND_VEHICLES' 'BEAUTY' 'BOOKS_AND_REFERENCE'\n",
      " 'BUSINESS' 'COMICS' 'COMMUNICATION' 'DATING' 'EDUCATION' 'ENTERTAINMENT'\n",
      " 'EVENTS' 'FINANCE' 'FOOD_AND_DRINK' 'HEALTH_AND_FITNESS' 'HOUSE_AND_HOME'\n",
      " 'LIBRARIES_AND_DEMO' 'LIFESTYLE' 'GAME' 'FAMILY' 'MEDICAL' 'SOCIAL'\n",
      " 'SHOPPING' 'PHOTOGRAPHY' 'SPORTS' 'TRAVEL_AND_LOCAL' 'TOOLS'\n",
      " 'PERSONALIZATION' 'PRODUCTIVITY' 'PARENTING' 'WEATHER' 'VIDEO_PLAYERS'\n",
      " 'NEWS_AND_MAGAZINES' 'MAPS_AND_NAVIGATION' '1.9']\n",
      "\n",
      "[+] Column Reviews dtypes: \n",
      "{<class 'str'>}\n",
      "['159' '967' '87510' ... '603' '1195' '398307']\n",
      "\n",
      "[+] Column Size dtypes: \n",
      "{<class 'str'>}\n",
      "['19M' '14M' '8.7M' '25M' '2.8M' '5.6M' '29M' '33M' '3.1M' '28M' '12M'\n",
      " '20M' '21M' '37M' '2.7M' '5.5M' '17M' '39M' '31M' '4.2M' '7.0M' '23M'\n",
      " '6.0M' '6.1M' '4.6M' '9.2M' '5.2M' '11M' '24M' 'Varies with device'\n",
      " '9.4M' '15M' '10M' '1.2M' '26M' '8.0M' '7.9M' '56M' '57M' '35M' '54M'\n",
      " '201k' '3.6M' '5.7M' '8.6M' '2.4M' '27M' '2.5M' '16M' '3.4M' '8.9M'\n",
      " '3.9M' '2.9M' '38M' '32M' '5.4M' '18M' '1.1M' '2.2M' '4.5M' '9.8M' '52M'\n",
      " '9.0M' '6.7M' '30M' '2.6M' '7.1M' '3.7M' '22M' '7.4M' '6.4M' '3.2M'\n",
      " '8.2M' '9.9M' '4.9M' '9.5M' '5.0M' '5.9M' '13M' '73M' '6.8M' '3.5M'\n",
      " '4.0M' '2.3M' '7.2M' '2.1M' '42M' '7.3M' '9.1M' '55M' '23k' '6.5M' '1.5M'\n",
      " '7.5M' '51M' '41M' '48M' '8.5M' '46M' '8.3M' '4.3M' '4.7M' '3.3M' '40M'\n",
      " '7.8M' '8.8M' '6.6M' '5.1M' '61M' '66M' '79k' '8.4M' '118k' '44M' '695k'\n",
      " '1.6M' '6.2M' '18k' '53M' '1.4M' '3.0M' '5.8M' '3.8M' '9.6M' '45M' '63M'\n",
      " '49M' '77M' '4.4M' '4.8M' '70M' '6.9M' '9.3M' '10.0M' '8.1M' '36M' '84M'\n",
      " '97M' '2.0M' '1.9M' '1.8M' '5.3M' '47M' '556k' '526k' '76M' '7.6M' '59M'\n",
      " '9.7M' '78M' '72M' '43M' '7.7M' '6.3M' '334k' '34M' '93M' '65M' '79M'\n",
      " '100M' '58M' '50M' '68M' '64M' '67M' '60M' '94M' '232k' '99M' '624k'\n",
      " '95M' '8.5k' '41k' '292k' '11k' '80M' '1.7M' '74M' '62M' '69M' '75M'\n",
      " '98M' '85M' '82M' '96M' '87M' '71M' '86M' '91M' '81M' '92M' '83M' '88M'\n",
      " '704k' '862k' '899k' '378k' '266k' '375k' '1.3M' '975k' '980k' '4.1M'\n",
      " '89M' '696k' '544k' '525k' '920k' '779k' '853k' '720k' '713k' '772k'\n",
      " '318k' '58k' '241k' '196k' '857k' '51k' '953k' '865k' '251k' '930k'\n",
      " '540k' '313k' '746k' '203k' '26k' '314k' '239k' '371k' '220k' '730k'\n",
      " '756k' '91k' '293k' '17k' '74k' '14k' '317k' '78k' '924k' '902k' '818k'\n",
      " '81k' '939k' '169k' '45k' '475k' '965k' '90M' '545k' '61k' '283k' '655k'\n",
      " '714k' '93k' '872k' '121k' '322k' '1.0M' '976k' '172k' '238k' '549k'\n",
      " '206k' '954k' '444k' '717k' '210k' '609k' '308k' '705k' '306k' '904k'\n",
      " '473k' '175k' '350k' '383k' '454k' '421k' '70k' '812k' '442k' '842k'\n",
      " '417k' '412k' '459k' '478k' '335k' '782k' '721k' '430k' '429k' '192k'\n",
      " '200k' '460k' '728k' '496k' '816k' '414k' '506k' '887k' '613k' '243k'\n",
      " '569k' '778k' '683k' '592k' '319k' '186k' '840k' '647k' '191k' '373k'\n",
      " '437k' '598k' '716k' '585k' '982k' '222k' '219k' '55k' '948k' '323k'\n",
      " '691k' '511k' '951k' '963k' '25k' '554k' '351k' '27k' '82k' '208k' '913k'\n",
      " '514k' '551k' '29k' '103k' '898k' '743k' '116k' '153k' '209k' '353k'\n",
      " '499k' '173k' '597k' '809k' '122k' '411k' '400k' '801k' '787k' '237k'\n",
      " '50k' '643k' '986k' '97k' '516k' '837k' '780k' '961k' '269k' '20k' '498k'\n",
      " '600k' '749k' '642k' '881k' '72k' '656k' '601k' '221k' '228k' '108k'\n",
      " '940k' '176k' '33k' '663k' '34k' '942k' '259k' '164k' '458k' '245k'\n",
      " '629k' '28k' '288k' '775k' '785k' '636k' '916k' '994k' '309k' '485k'\n",
      " '914k' '903k' '608k' '500k' '54k' '562k' '847k' '957k' '688k' '811k'\n",
      " '270k' '48k' '329k' '523k' '921k' '874k' '981k' '784k' '280k' '24k'\n",
      " '518k' '754k' '892k' '154k' '860k' '364k' '387k' '626k' '161k' '879k'\n",
      " '39k' '970k' '170k' '141k' '160k' '144k' '143k' '190k' '376k' '193k'\n",
      " '246k' '73k' '658k' '992k' '253k' '420k' '404k' '1,000+' '470k' '226k'\n",
      " '240k' '89k' '234k' '257k' '861k' '467k' '157k' '44k' '676k' '67k' '552k'\n",
      " '885k' '1020k' '582k' '619k']\n",
      "\n",
      "[+] Column Installs dtypes: \n",
      "{<class 'str'>}\n",
      "['10,000+' '500,000+' '5,000,000+' '50,000,000+' '100,000+' '50,000+'\n",
      " '1,000,000+' '10,000,000+' '5,000+' '100,000,000+' '1,000,000,000+'\n",
      " '1,000+' '500,000,000+' '50+' '100+' '500+' '10+' '1+' '5+' '0+' '0'\n",
      " 'Free']\n",
      "\n",
      "[+] Column Type dtypes: \n",
      "{<class 'str'>, <class 'float'>}\n",
      "['Free' 'Paid' nan '0']\n",
      "\n",
      "[+] Column Price dtypes: \n",
      "{<class 'str'>}\n",
      "['0' '$4.99' '$3.99' '$6.99' '$1.49' '$2.99' '$7.99' '$5.99' '$3.49'\n",
      " '$1.99' '$9.99' '$7.49' '$0.99' '$9.00' '$5.49' '$10.00' '$24.99'\n",
      " '$11.99' '$79.99' '$16.99' '$14.99' '$1.00' '$29.99' '$12.99' '$2.49'\n",
      " '$10.99' '$1.50' '$19.99' '$15.99' '$33.99' '$74.99' '$39.99' '$3.95'\n",
      " '$4.49' '$1.70' '$8.99' '$2.00' '$3.88' '$25.99' '$399.99' '$17.99'\n",
      " '$400.00' '$3.02' '$1.76' '$4.84' '$4.77' '$1.61' '$2.50' '$1.59' '$6.49'\n",
      " '$1.29' '$5.00' '$13.99' '$299.99' '$379.99' '$37.99' '$18.99' '$389.99'\n",
      " '$19.90' '$8.49' '$1.75' '$14.00' '$4.85' '$46.99' '$109.99' '$154.99'\n",
      " '$3.08' '$2.59' '$4.80' '$1.96' '$19.40' '$3.90' '$4.59' '$15.46' '$3.04'\n",
      " '$4.29' '$2.60' '$3.28' '$4.60' '$28.99' '$2.95' '$2.90' '$1.97'\n",
      " '$200.00' '$89.99' '$2.56' '$30.99' '$3.61' '$394.99' '$1.26' 'Everyone'\n",
      " '$1.20' '$1.04']\n",
      "\n",
      "[+] Column Content Rating dtypes: \n",
      "{<class 'str'>, <class 'float'>}\n",
      "['Everyone' 'Teen' 'Everyone 10+' 'Mature 17+' 'Adults only 18+' 'Unrated'\n",
      " nan]\n",
      "\n",
      "[+] Column Genres dtypes: \n",
      "{<class 'str'>}\n",
      "['Art & Design' 'Art & Design;Pretend Play' 'Art & Design;Creativity'\n",
      " 'Art & Design;Action & Adventure' 'Auto & Vehicles' 'Beauty'\n",
      " 'Books & Reference' 'Business' 'Comics' 'Comics;Creativity'\n",
      " 'Communication' 'Dating' 'Education;Education' 'Education'\n",
      " 'Education;Creativity' 'Education;Music & Video'\n",
      " 'Education;Action & Adventure' 'Education;Pretend Play'\n",
      " 'Education;Brain Games' 'Entertainment' 'Entertainment;Music & Video'\n",
      " 'Entertainment;Brain Games' 'Entertainment;Creativity' 'Events' 'Finance'\n",
      " 'Food & Drink' 'Health & Fitness' 'House & Home' 'Libraries & Demo'\n",
      " 'Lifestyle' 'Lifestyle;Pretend Play' 'Adventure;Action & Adventure'\n",
      " 'Arcade' 'Casual' 'Card' 'Casual;Pretend Play' 'Action' 'Strategy'\n",
      " 'Puzzle' 'Sports' 'Music' 'Word' 'Racing' 'Casual;Creativity'\n",
      " 'Casual;Action & Adventure' 'Simulation' 'Adventure' 'Board' 'Trivia'\n",
      " 'Role Playing' 'Simulation;Education' 'Action;Action & Adventure'\n",
      " 'Casual;Brain Games' 'Simulation;Action & Adventure'\n",
      " 'Educational;Creativity' 'Puzzle;Brain Games' 'Educational;Education'\n",
      " 'Card;Brain Games' 'Educational;Brain Games' 'Educational;Pretend Play'\n",
      " 'Entertainment;Education' 'Casual;Education' 'Music;Music & Video'\n",
      " 'Racing;Action & Adventure' 'Arcade;Pretend Play'\n",
      " 'Role Playing;Action & Adventure' 'Simulation;Pretend Play'\n",
      " 'Puzzle;Creativity' 'Sports;Action & Adventure'\n",
      " 'Educational;Action & Adventure' 'Arcade;Action & Adventure'\n",
      " 'Entertainment;Action & Adventure' 'Puzzle;Action & Adventure'\n",
      " 'Strategy;Action & Adventure' 'Music & Audio;Music & Video'\n",
      " 'Health & Fitness;Education' 'Adventure;Education' 'Board;Brain Games'\n",
      " 'Board;Action & Adventure' 'Board;Pretend Play' 'Casual;Music & Video'\n",
      " 'Role Playing;Pretend Play' 'Entertainment;Pretend Play'\n",
      " 'Video Players & Editors;Creativity' 'Card;Action & Adventure' 'Medical'\n",
      " 'Social' 'Shopping' 'Photography' 'Travel & Local'\n",
      " 'Travel & Local;Action & Adventure' 'Tools' 'Tools;Education'\n",
      " 'Personalization' 'Productivity' 'Parenting' 'Parenting;Music & Video'\n",
      " 'Parenting;Education' 'Parenting;Brain Games' 'Weather'\n",
      " 'Video Players & Editors' 'Video Players & Editors;Music & Video'\n",
      " 'News & Magazines' 'Maps & Navigation'\n",
      " 'Health & Fitness;Action & Adventure' 'Educational' 'Casino'\n",
      " 'Adventure;Brain Games' 'Trivia;Education' 'Lifestyle;Education'\n",
      " 'Books & Reference;Creativity' 'Books & Reference;Education'\n",
      " 'Puzzle;Education' 'Role Playing;Education' 'Role Playing;Brain Games'\n",
      " 'Strategy;Education' 'Racing;Pretend Play' 'Communication;Creativity'\n",
      " 'February 11, 2018' 'Strategy;Creativity']\n",
      "\n",
      "[+] Column Last Updated dtypes: \n",
      "{<class 'str'>}\n",
      "['January 7, 2018' 'January 15, 2018' 'August 1, 2018' ...\n",
      " 'January 20, 2014' 'February 16, 2014' 'March 23, 2014']\n",
      "\n",
      "[+] Column Current Ver dtypes: \n",
      "{<class 'str'>, <class 'float'>}\n",
      "['1.0.0' '2.0.0' '1.2.4' ... '1.0.612928' '0.3.4' '2.0.148.0']\n",
      "\n",
      "[+] Column Android Ver dtypes: \n",
      "{<class 'str'>, <class 'float'>}\n",
      "['4.0.3 and up' '4.2 and up' '4.4 and up' '2.3 and up' '3.0 and up'\n",
      " '4.1 and up' '4.0 and up' '2.3.3 and up' 'Varies with device'\n",
      " '2.2 and up' '5.0 and up' '6.0 and up' '1.6 and up' '1.5 and up'\n",
      " '2.1 and up' '7.0 and up' '5.1 and up' '4.3 and up' '4.0.3 - 7.1.1'\n",
      " '2.0 and up' '3.2 and up' '4.4W and up' '7.1 and up' '7.0 - 7.1.1'\n",
      " '8.0 and up' '5.0 - 8.0' '3.1 and up' '2.0.1 and up' '4.1 - 7.1.1' nan\n",
      " '5.0 - 6.0' '1.0 and up' '2.2 - 7.1.1' '5.0 - 7.1.1']\n",
      "\n"
     ]
    }
   ],
   "source": [
    "def open_object_dtype(s):\n",
    "    return set(s.apply(type).unique())\n",
    "\n",
    "for col_name in col_dtypes.index:\n",
    "    if col_dtypes[col_name] == 'object':\n",
    "        print(f'[+] Column {col_name} dtypes: ')\n",
    "        print(open_object_dtype(app_df[col_name]))\n",
    "        print(app_df[col_name].unique())\n",
    "        print()"
   ]
  },
  {
   "cell_type": "markdown",
   "id": "9bd3d8c4",
   "metadata": {},
   "source": [
    "### Vấn đề cần tiền xử lý"
   ]
  },
  {
   "cell_type": "markdown",
   "id": "e909a487",
   "metadata": {},
   "source": [
    "Quan sát kết quả, khoan nói đến kiểu dữ liệu ở từng cột, ta thấy có một số điểm bất thường khi xem các giá trị phân biệt ở từng cột:\n",
    "- Ở cột `Category`, có giá trị là `1.9`, có vẻ không phải là 1 giá trị phù hợp với ý nghĩa category\n",
    "- Ở cột `Size`, có giá trị là `1,000+`, so với các giá trị còn lại trong cột này thường có format là 1 con số, theo sau đó là đơn vị (`k` hoặc `M`). Giá trị `1,000+` này có vẻ phù hợp với format của cột ngay sau đó là `Install` hơn.\n",
    "- Ở cột `Installs`, có 1 giá trị là `Free`, không nói lên số lượt cài đặt của ứng dụng, giá trị này lại phù hợp với cột tiếp theo là `Type`, mang ý nghĩa ứng dụng đó thuộc loại miễn phí hay trả phí thì đúng hơn.\n",
    "\n",
    "Từ đó ta đoán rằng có một dòng nào đó trong dữ liệu bị thiếu giá trị 1 số cột, do đó các giá trị của các cột còn lại bị dịch qua trái, nên giá trị ở một cột này lại nằm ở cột ngay trước đó. Đọc phần [https://www.kaggle.com/lava18/google-play-store-apps/discussion/164101](Discussion) trên Kaggle cũng có người gặp vấn đề này, họ nói rằng dòng 10472 bị thiếu giá trị. Nhưng ta vẫn cần tiền xử lý để tìm và sửa các dòng như vậy, cho chắc."
   ]
  },
  {
   "cell_type": "markdown",
   "id": "65bc3f91",
   "metadata": {},
   "source": [
    "# Tiền xử lý"
   ]
  },
  {
   "cell_type": "markdown",
   "id": "3ea207c6",
   "metadata": {},
   "source": [
    "## Tìm các dòng có giá trị một số cột bị thiếu"
   ]
  },
  {
   "cell_type": "markdown",
   "id": "eb1c80c8",
   "metadata": {},
   "source": [
    "Ta sử dụng thư viện `csv` để đọc file `googleplaystore.csv`, dòng đầu của file sẽ là tên các cột. Với mỗi dòng tiếp theo, nếu số cột trong dòng đó khác với số lượng cột thì đưa chỉ số của dòng vào list `bad_index`. Sau khi chạy code, `bad_index` sẽ chứa các chỉ số dòng có các cột bị thiếu."
   ]
  },
  {
   "cell_type": "code",
   "execution_count": 92,
   "id": "09520bee",
   "metadata": {},
   "outputs": [
    {
     "name": "stdout",
     "output_type": "stream",
     "text": [
      "CSV file has 13 columns\n",
      "Row id = 10472 has 12 columns\n"
     ]
    }
   ],
   "source": [
    "import csv\n",
    "\n",
    "csv_file = open('Data/googleplaystore.csv')\n",
    "csv_reader = csv.reader(csv_file, delimiter=',')\n",
    "row_id = -1\n",
    "col_count = 0\n",
    "bad_index = []\n",
    "\n",
    "for row in csv_reader:\n",
    "    if row_id == -1:\n",
    "        col_count = len(row)\n",
    "        print(f\"CSV file has {col_count} columns\")\n",
    "    else:\n",
    "        if len(row) != col_count:\n",
    "            print(f\"Row id = {row_id} has {len(row)} columns\")\n",
    "            bad_index.append(row_id)\n",
    "    row_id += 1"
   ]
  },
  {
   "cell_type": "markdown",
   "id": "bb714ce0",
   "metadata": {},
   "source": [
    "## Thay thế các giá trị cột bị thiếu thành `NaN`"
   ]
  },
  {
   "cell_type": "markdown",
   "id": "dd16a4e6",
   "metadata": {},
   "source": [
    "Có 1 dòng bị thiếu giá trị cột, là dòng có index 10472. Do dataframe `app_df` đã bị loại bỏ các dòng trùng, nên thứ tự các dòng trong file này không giống thứ tự trong file gốc. Vì vậy cần load lại `app_df`, và sửa đổi dòng bị thiếu. Sau đó mới loại bỏ lại các dòng bị trùng."
   ]
  },
  {
   "cell_type": "code",
   "execution_count": 125,
   "id": "171655ed",
   "metadata": {
    "scrolled": true
   },
   "outputs": [
    {
     "data": {
      "text/html": [
       "<div>\n",
       "<style scoped>\n",
       "    .dataframe tbody tr th:only-of-type {\n",
       "        vertical-align: middle;\n",
       "    }\n",
       "\n",
       "    .dataframe tbody tr th {\n",
       "        vertical-align: top;\n",
       "    }\n",
       "\n",
       "    .dataframe thead th {\n",
       "        text-align: right;\n",
       "    }\n",
       "</style>\n",
       "<table border=\"1\" class=\"dataframe\">\n",
       "  <thead>\n",
       "    <tr style=\"text-align: right;\">\n",
       "      <th></th>\n",
       "      <th>App</th>\n",
       "      <th>Category</th>\n",
       "      <th>Rating</th>\n",
       "      <th>Reviews</th>\n",
       "      <th>Size</th>\n",
       "      <th>Installs</th>\n",
       "      <th>Type</th>\n",
       "      <th>Price</th>\n",
       "      <th>Content Rating</th>\n",
       "      <th>Genres</th>\n",
       "      <th>Last Updated</th>\n",
       "      <th>Current Ver</th>\n",
       "      <th>Android Ver</th>\n",
       "    </tr>\n",
       "  </thead>\n",
       "  <tbody>\n",
       "    <tr>\n",
       "      <th>10472</th>\n",
       "      <td>Life Made WI-Fi Touchscreen Photo Frame</td>\n",
       "      <td>1.9</td>\n",
       "      <td>19.0</td>\n",
       "      <td>3.0M</td>\n",
       "      <td>1,000+</td>\n",
       "      <td>Free</td>\n",
       "      <td>0</td>\n",
       "      <td>Everyone</td>\n",
       "      <td>NaN</td>\n",
       "      <td>February 11, 2018</td>\n",
       "      <td>1.0.19</td>\n",
       "      <td>4.0 and up</td>\n",
       "      <td>NaN</td>\n",
       "    </tr>\n",
       "  </tbody>\n",
       "</table>\n",
       "</div>"
      ],
      "text/plain": [
       "                                           App Category  Rating Reviews  \\\n",
       "10472  Life Made WI-Fi Touchscreen Photo Frame      1.9    19.0    3.0M   \n",
       "\n",
       "         Size Installs Type     Price Content Rating             Genres  \\\n",
       "10472  1,000+     Free    0  Everyone            NaN  February 11, 2018   \n",
       "\n",
       "      Last Updated Current Ver Android Ver  \n",
       "10472       1.0.19  4.0 and up         NaN  "
      ]
     },
     "execution_count": 125,
     "metadata": {},
     "output_type": "execute_result"
    }
   ],
   "source": [
    "app_df = pd.read_csv('Data/googleplaystore.csv')\n",
    "\n",
    "app_df.iloc[bad_index]"
   ]
  },
  {
   "cell_type": "markdown",
   "id": "fc1f05a1",
   "metadata": {},
   "source": [
    "Ở dòng 10472, giá trị cột `Category` bị thiếu, nên ta dịch các giá trị bắt đầu từ cột `Category` sang bên phải rồi điền giá trị cho cột `Category` là `NaN`"
   ]
  },
  {
   "cell_type": "code",
   "execution_count": 126,
   "id": "779438b0",
   "metadata": {},
   "outputs": [
    {
     "data": {
      "text/plain": [
       "App               Life Made WI-Fi Touchscreen Photo Frame\n",
       "Category                                              NaN\n",
       "Rating                                                1.9\n",
       "Reviews                                              19.0\n",
       "Size                                                 3.0M\n",
       "Installs                                           1,000+\n",
       "Type                                                 Free\n",
       "Price                                                   0\n",
       "Content Rating                                   Everyone\n",
       "Genres                                                NaN\n",
       "Last Updated                            February 11, 2018\n",
       "Current Ver                                        1.0.19\n",
       "Android Ver                                    4.0 and up\n",
       "Name: 10472, dtype: object"
      ]
     },
     "execution_count": 126,
     "metadata": {},
     "output_type": "execute_result"
    }
   ],
   "source": [
    "cols_list = app_df.columns.tolist()\n",
    "i = len(cols_list) - 1\n",
    "while i > 1:\n",
    "    app_df.loc[10472, cols_list[i]] = app_df.loc[10472, cols_list[i - 1]]\n",
    "    i -= 1\n",
    "app_df.loc[10472, 'Category'] = np.nan\n",
    "\n",
    "app_df.iloc[10472]"
   ]
  },
  {
   "cell_type": "markdown",
   "id": "6bd6457a",
   "metadata": {},
   "source": [
    "Dữ liệu đã được sửa xong, bây giờ loại bỏ dòng bị lặp."
   ]
  },
  {
   "cell_type": "code",
   "execution_count": 127,
   "id": "afbcff9c",
   "metadata": {},
   "outputs": [
    {
     "name": "stdout",
     "output_type": "stream",
     "text": [
      "[+] num_rows = 10358\n"
     ]
    }
   ],
   "source": [
    "app_df = app_df.drop_duplicates()\n",
    "num_rows = len(app_df)\n",
    "\n",
    "print(f'[+] num_rows = {num_rows}')"
   ]
  },
  {
   "cell_type": "markdown",
   "id": "b3c9dee5",
   "metadata": {},
   "source": [
    "# Khám phá dữ liệu (tiếp tục)"
   ]
  },
  {
   "cell_type": "markdown",
   "id": "99f39bb8",
   "metadata": {},
   "source": [
    "## Mỗi cột hiện đang có kiểu dữ liệu gì? Có cột nào có kiểu dữ liệu chưa phù hợp để có thể xử lý tiếp không? (tiếp tục)"
   ]
  },
  {
   "cell_type": "markdown",
   "id": "4e622da9",
   "metadata": {},
   "source": [
    "Ta tiếp tục liệt kê các kiểu dữ liệu khác nhau ở các cột có dtype là `object`."
   ]
  },
  {
   "cell_type": "code",
   "execution_count": 148,
   "id": "387a53c7",
   "metadata": {
    "scrolled": false
   },
   "outputs": [
    {
     "name": "stdout",
     "output_type": "stream",
     "text": [
      "[+] Column App dtypes: \n",
      "{<class 'str'>}\n",
      "['Photo Editor & Candy Camera & Grid & ScrapBook' 'Coloring book moana'\n",
      " 'U Launcher Lite – FREE Live Cool Themes, Hide Apps' ...\n",
      " 'Parkinson Exercices FR' 'The SCP Foundation DB fr nn5n'\n",
      " 'iHoroscope - 2018 Daily Horoscope & Astrology']\n",
      "\n",
      "[+] Column Category dtypes: \n",
      "{<class 'str'>}\n",
      "['ART_AND_DESIGN' 'AUTO_AND_VEHICLES' 'BEAUTY' 'BOOKS_AND_REFERENCE'\n",
      " 'BUSINESS' 'COMICS' 'COMMUNICATION' 'DATING' 'EDUCATION' 'ENTERTAINMENT'\n",
      " 'EVENTS' 'FINANCE' 'FOOD_AND_DRINK' 'HEALTH_AND_FITNESS' 'HOUSE_AND_HOME'\n",
      " 'LIBRARIES_AND_DEMO' 'LIFESTYLE' 'GAME' 'FAMILY' 'MEDICAL' 'SOCIAL'\n",
      " 'SHOPPING' 'PHOTOGRAPHY' 'SPORTS' 'TRAVEL_AND_LOCAL' 'TOOLS'\n",
      " 'PERSONALIZATION' 'PRODUCTIVITY' 'PARENTING' 'WEATHER' 'VIDEO_PLAYERS'\n",
      " 'NEWS_AND_MAGAZINES' 'MAPS_AND_NAVIGATION' 'nan']\n",
      "\n",
      "[+] Column Reviews dtypes: \n",
      "{<class 'int'>}\n",
      "[   159    967  87510 ...    603   1195 398307]\n",
      "\n",
      "[+] Column Size dtypes: \n",
      "{<class 'str'>}\n",
      "['19M' '14M' '8.7M' '25M' '2.8M' '5.6M' '29M' '33M' '3.1M' '28M' '12M'\n",
      " '20M' '21M' '37M' '2.7M' '5.5M' '17M' '39M' '31M' '4.2M' '7.0M' '23M'\n",
      " '6.0M' '6.1M' '4.6M' '9.2M' '5.2M' '11M' '24M' 'Varies with device'\n",
      " '9.4M' '15M' '10M' '1.2M' '26M' '8.0M' '7.9M' '56M' '57M' '35M' '54M'\n",
      " '201k' '3.6M' '5.7M' '8.6M' '2.4M' '27M' '2.5M' '16M' '3.4M' '8.9M'\n",
      " '3.9M' '2.9M' '38M' '32M' '5.4M' '18M' '1.1M' '2.2M' '4.5M' '9.8M' '52M'\n",
      " '9.0M' '6.7M' '30M' '2.6M' '7.1M' '3.7M' '22M' '7.4M' '6.4M' '3.2M'\n",
      " '8.2M' '9.9M' '4.9M' '9.5M' '5.0M' '5.9M' '13M' '73M' '6.8M' '3.5M'\n",
      " '4.0M' '2.3M' '7.2M' '2.1M' '42M' '7.3M' '9.1M' '55M' '23k' '6.5M' '1.5M'\n",
      " '7.5M' '51M' '41M' '48M' '8.5M' '46M' '8.3M' '4.3M' '4.7M' '3.3M' '40M'\n",
      " '7.8M' '8.8M' '6.6M' '5.1M' '61M' '66M' '79k' '8.4M' '118k' '44M' '695k'\n",
      " '1.6M' '6.2M' '18k' '53M' '1.4M' '3.0M' '5.8M' '3.8M' '9.6M' '45M' '63M'\n",
      " '49M' '77M' '4.4M' '4.8M' '70M' '6.9M' '9.3M' '10.0M' '8.1M' '36M' '84M'\n",
      " '97M' '2.0M' '1.9M' '1.8M' '5.3M' '47M' '556k' '526k' '76M' '7.6M' '59M'\n",
      " '9.7M' '78M' '72M' '43M' '7.7M' '6.3M' '334k' '34M' '93M' '65M' '79M'\n",
      " '100M' '58M' '50M' '68M' '64M' '67M' '60M' '94M' '232k' '99M' '624k'\n",
      " '95M' '8.5k' '41k' '292k' '11k' '80M' '1.7M' '74M' '62M' '69M' '75M'\n",
      " '98M' '85M' '82M' '96M' '87M' '71M' '86M' '91M' '81M' '92M' '83M' '88M'\n",
      " '704k' '862k' '899k' '378k' '266k' '375k' '1.3M' '975k' '980k' '4.1M'\n",
      " '89M' '696k' '544k' '525k' '920k' '779k' '853k' '720k' '713k' '772k'\n",
      " '318k' '58k' '241k' '196k' '857k' '51k' '953k' '865k' '251k' '930k'\n",
      " '540k' '313k' '746k' '203k' '26k' '314k' '239k' '371k' '220k' '730k'\n",
      " '756k' '91k' '293k' '17k' '74k' '14k' '317k' '78k' '924k' '902k' '818k'\n",
      " '81k' '939k' '169k' '45k' '475k' '965k' '90M' '545k' '61k' '283k' '655k'\n",
      " '714k' '93k' '872k' '121k' '322k' '1.0M' '976k' '172k' '238k' '549k'\n",
      " '206k' '954k' '444k' '717k' '210k' '609k' '308k' '705k' '306k' '904k'\n",
      " '473k' '175k' '350k' '383k' '454k' '421k' '70k' '812k' '442k' '842k'\n",
      " '417k' '412k' '459k' '478k' '335k' '782k' '721k' '430k' '429k' '192k'\n",
      " '200k' '460k' '728k' '496k' '816k' '414k' '506k' '887k' '613k' '243k'\n",
      " '569k' '778k' '683k' '592k' '319k' '186k' '840k' '647k' '191k' '373k'\n",
      " '437k' '598k' '716k' '585k' '982k' '222k' '219k' '55k' '948k' '323k'\n",
      " '691k' '511k' '951k' '963k' '25k' '554k' '351k' '27k' '82k' '208k' '913k'\n",
      " '514k' '551k' '29k' '103k' '898k' '743k' '116k' '153k' '209k' '353k'\n",
      " '499k' '173k' '597k' '809k' '122k' '411k' '400k' '801k' '787k' '237k'\n",
      " '50k' '643k' '986k' '97k' '516k' '837k' '780k' '961k' '269k' '20k' '498k'\n",
      " '600k' '749k' '642k' '881k' '72k' '656k' '601k' '221k' '228k' '108k'\n",
      " '940k' '176k' '33k' '663k' '34k' '942k' '259k' '164k' '458k' '245k'\n",
      " '629k' '28k' '288k' '775k' '785k' '636k' '916k' '994k' '309k' '485k'\n",
      " '914k' '903k' '608k' '500k' '54k' '562k' '847k' '957k' '688k' '811k'\n",
      " '270k' '48k' '329k' '523k' '921k' '874k' '981k' '784k' '280k' '24k'\n",
      " '518k' '754k' '892k' '154k' '860k' '364k' '387k' '626k' '161k' '879k'\n",
      " '39k' '970k' '170k' '141k' '160k' '144k' '143k' '190k' '376k' '193k'\n",
      " '246k' '73k' '658k' '992k' '253k' '420k' '404k' '470k' '226k' '240k'\n",
      " '89k' '234k' '257k' '861k' '467k' '157k' '44k' '676k' '67k' '552k' '885k'\n",
      " '1020k' '582k' '619k']\n",
      "\n",
      "[+] Column Installs dtypes: \n",
      "{<class 'str'>}\n",
      "['10,000+' '500,000+' '5,000,000+' '50,000,000+' '100,000+' '50,000+'\n",
      " '1,000,000+' '10,000,000+' '5,000+' '100,000,000+' '1,000,000,000+'\n",
      " '1,000+' '500,000,000+' '50+' '100+' '500+' '10+' '1+' '5+' '0+' '0']\n",
      "\n",
      "[+] Column Type dtypes: \n",
      "{<class 'str'>}\n",
      "['Free' 'Paid' 'nan']\n",
      "\n",
      "[+] Column Price dtypes: \n",
      "{<class 'float'>}\n",
      "[    0.   499.   399.   699.   149.   299.   799.   599.   349.   199.\n",
      "   999.   749.    99.   900.   549.  1000.  2499.  1199.  7999.  1699.\n",
      "  1499.   100.  2999.  1299.   249.  1099.   150.  1999.  1599.  3399.\n",
      "  7499.  3999.   395.   449.   170.   899.   200.   388.  2599. 39999.\n",
      "  1799. 40000.   302.   176.   484.   477.   161.   250.   159.   649.\n",
      "   129.   500.  1399. 29999. 37999.  3799.  1899. 38999.  1990.   849.\n",
      "   175.  1400.   485.  4699. 10999. 15499.   308.   259.   480.   196.\n",
      "  1940.   390.   459.  1546.   304.   429.   260.   328.   460.  2899.\n",
      "   295.   290.   197. 20000.  8999.   256.  3099.   361. 39499.   126.\n",
      "   120.   104.]\n",
      "\n",
      "[+] Column Content Rating dtypes: \n",
      "{<class 'str'>}\n",
      "['Everyone' 'Teen' 'Everyone 10+' 'Mature 17+' 'Adults only 18+' 'Unrated']\n",
      "\n",
      "[+] Column Genres dtypes: \n",
      "{<class 'str'>}\n",
      "['Art & Design' 'Art & Design;Pretend Play' 'Art & Design;Creativity'\n",
      " 'Art & Design;Action & Adventure' 'Auto & Vehicles' 'Beauty'\n",
      " 'Books & Reference' 'Business' 'Comics' 'Comics;Creativity'\n",
      " 'Communication' 'Dating' 'Education;Education' 'Education'\n",
      " 'Education;Creativity' 'Education;Music & Video'\n",
      " 'Education;Action & Adventure' 'Education;Pretend Play'\n",
      " 'Education;Brain Games' 'Entertainment' 'Entertainment;Music & Video'\n",
      " 'Entertainment;Brain Games' 'Entertainment;Creativity' 'Events' 'Finance'\n",
      " 'Food & Drink' 'Health & Fitness' 'House & Home' 'Libraries & Demo'\n",
      " 'Lifestyle' 'Lifestyle;Pretend Play' 'Adventure;Action & Adventure'\n",
      " 'Arcade' 'Casual' 'Card' 'Casual;Pretend Play' 'Action' 'Strategy'\n",
      " 'Puzzle' 'Sports' 'Music' 'Word' 'Racing' 'Casual;Creativity'\n",
      " 'Casual;Action & Adventure' 'Simulation' 'Adventure' 'Board' 'Trivia'\n",
      " 'Role Playing' 'Simulation;Education' 'Action;Action & Adventure'\n",
      " 'Casual;Brain Games' 'Simulation;Action & Adventure'\n",
      " 'Educational;Creativity' 'Puzzle;Brain Games' 'Educational;Education'\n",
      " 'Card;Brain Games' 'Educational;Brain Games' 'Educational;Pretend Play'\n",
      " 'Entertainment;Education' 'Casual;Education' 'Music;Music & Video'\n",
      " 'Racing;Action & Adventure' 'Arcade;Pretend Play'\n",
      " 'Role Playing;Action & Adventure' 'Simulation;Pretend Play'\n",
      " 'Puzzle;Creativity' 'Sports;Action & Adventure'\n",
      " 'Educational;Action & Adventure' 'Arcade;Action & Adventure'\n",
      " 'Entertainment;Action & Adventure' 'Puzzle;Action & Adventure'\n",
      " 'Strategy;Action & Adventure' 'Music & Audio;Music & Video'\n",
      " 'Health & Fitness;Education' 'Adventure;Education' 'Board;Brain Games'\n",
      " 'Board;Action & Adventure' 'Board;Pretend Play' 'Casual;Music & Video'\n",
      " 'Role Playing;Pretend Play' 'Entertainment;Pretend Play'\n",
      " 'Video Players & Editors;Creativity' 'Card;Action & Adventure' 'Medical'\n",
      " 'Social' 'Shopping' 'Photography' 'Travel & Local'\n",
      " 'Travel & Local;Action & Adventure' 'Tools' 'Tools;Education'\n",
      " 'Personalization' 'Productivity' 'Parenting' 'Parenting;Music & Video'\n",
      " 'Parenting;Education' 'Parenting;Brain Games' 'Weather'\n",
      " 'Video Players & Editors' 'Video Players & Editors;Music & Video'\n",
      " 'News & Magazines' 'Maps & Navigation'\n",
      " 'Health & Fitness;Action & Adventure' 'Educational' 'Casino'\n",
      " 'Adventure;Brain Games' 'Trivia;Education' 'Lifestyle;Education'\n",
      " 'Books & Reference;Creativity' 'Books & Reference;Education'\n",
      " 'Puzzle;Education' 'Role Playing;Education' 'Role Playing;Brain Games'\n",
      " 'Strategy;Education' 'Racing;Pretend Play' 'Communication;Creativity'\n",
      " 'nan' 'Strategy;Creativity']\n",
      "\n",
      "[+] Column Last Updated dtypes: \n",
      "{<class 'pandas._libs.tslibs.timestamps.Timestamp'>}\n",
      "['2018-01-07T00:00:00.000000000' '2018-01-15T00:00:00.000000000'\n",
      " '2018-08-01T00:00:00.000000000' ... '2014-01-20T00:00:00.000000000'\n",
      " '2014-02-16T00:00:00.000000000' '2014-03-23T00:00:00.000000000']\n",
      "\n",
      "[+] Column Current Ver dtypes: \n",
      "{<class 'str'>}\n",
      "['1.0.0' '2.0.0' '1.2.4' ... '1.0.612928' '0.3.4' '2.0.148.0']\n",
      "\n",
      "[+] Column Android Ver dtypes: \n"
     ]
    },
    {
     "name": "stdout",
     "output_type": "stream",
     "text": [
      "{<class 'str'>}\n",
      "['4.0.3 and up' '4.2 and up' '4.4 and up' '2.3 and up' '3.0 and up'\n",
      " '4.1 and up' '4.0 and up' '2.3.3 and up' 'Varies with device'\n",
      " '2.2 and up' '5.0 and up' '6.0 and up' '1.6 and up' '1.5 and up'\n",
      " '2.1 and up' '7.0 and up' '5.1 and up' '4.3 and up' '4.0.3 - 7.1.1'\n",
      " '2.0 and up' '3.2 and up' '4.4W and up' '7.1 and up' '7.0 - 7.1.1'\n",
      " '8.0 and up' '5.0 - 8.0' '3.1 and up' '2.0.1 and up' '4.1 - 7.1.1' 'nan'\n",
      " '5.0 - 6.0' '1.0 and up' '2.2 - 7.1.1' '5.0 - 7.1.1']\n",
      "\n"
     ]
    }
   ],
   "source": [
    "def open_object_dtype(s):\n",
    "    return set(s.apply(type).unique())\n",
    "\n",
    "for col_name in col_dtypes.index:\n",
    "    if col_dtypes[col_name] == 'object':\n",
    "        print(f'[+] Column {col_name} dtypes: ')\n",
    "        print(open_object_dtype(app_df[col_name]))\n",
    "        print(app_df[col_name].unique())\n",
    "        print()"
   ]
  },
  {
   "cell_type": "markdown",
   "id": "d5627580",
   "metadata": {},
   "source": [
    "### Vấn đề cần tiền xử lý\n",
    "- Cột `Category` thể hiện các danh mục mà ứng dụng thuộc về, để kiểu `str` là hợp lý, nhưng đang có giá trị `NaN` là `float`.\n",
    "- Cột `Reviews` là số lượt đánh giá cho ứng dụng, đang ở kiểu `str` và `float`, giá trị này luôn là số nguyên nên cần chuyển về `int`.\n",
    "- Cột `Type` thể hiện ứng dụng trả phí hoặc miễn phí, nên là kiểu `str`, nhưng có giá trị `NaN` là `float`.\n",
    "- Cột `Price` thể hiện giá của ứng dụng, đang là `str`, có dạng dấu `$` sau đó là giá tiền, ngoại trừ giá `0`. Cần bỏ dấu `$` và chuyển cột này về `float`.\n",
    "- Cột `Genres` thể hiện thể loại mà ứng dụng thuộc về, để kiểu `str` là hợp lý, nhưng đang có giá trị `NaN` là `float`.\n",
    "- Cột `Last Updated` là thời điểm cập nhật gần nhất của ứng dụng trên Play Store, đang ở dạng `str`, cần chuyển về `datetime`.\n",
    "- Cột `Current Ver` thể hiện phiên bản hiện tại ứng dụng trên Play Store, để kiểu `str` là hợp lý, nhưng đang có giá trị `NaN` là `float`.\n",
    "- Cột `Android Ver` thể hiện phiên bản Android phù hợp để cài ứng dụng, để kiểu `str` là hợp lý, nhưng đang có giá trị `NaN` là `float`."
   ]
  },
  {
   "cell_type": "markdown",
   "id": "c2a40edf",
   "metadata": {},
   "source": [
    "# Tiền xử lý\n",
    "\n",
    "## Chuyển dtype của các cột \"Category\", \"Type\", \"Genres\", \"Current Ver\", \"Android Ver\" sang str"
   ]
  },
  {
   "cell_type": "markdown",
   "id": "ad9357b9",
   "metadata": {},
   "source": [
    "Các cột này nên có kiểu là `str`, nhưng lại mang giá trị `NaN` nên các giá trị này có kiểu `float`, vì vậy cần thay thế các giá trị `NaN` thành chuỗi có 1 khoảng trắng."
   ]
  },
  {
   "cell_type": "code",
   "execution_count": 140,
   "id": "bc53f799",
   "metadata": {},
   "outputs": [],
   "source": [
    "for name in ['Category', 'Type', 'Genres', 'Current Ver', 'Android Ver']:\n",
    "    app_df[name] = app_df[name].replace(' ', np.nan)\n",
    "app_df = app_df.astype({'Category': str, 'Type': str, 'Genres': str, 'Current Ver': str, 'Android Ver': str})"
   ]
  },
  {
   "cell_type": "markdown",
   "id": "b9fe61da",
   "metadata": {},
   "source": [
    "## Chuyển dtype của cột \"Reviews\" sang int"
   ]
  },
  {
   "cell_type": "code",
   "execution_count": 137,
   "id": "7bbfe519",
   "metadata": {},
   "outputs": [],
   "source": [
    "app_df = app_df.astype({'Reviews': int})"
   ]
  },
  {
   "cell_type": "markdown",
   "id": "527a20d9",
   "metadata": {},
   "source": [
    "## Chuyển dtype của cột \"Price\" sang float"
   ]
  },
  {
   "cell_type": "markdown",
   "id": "21ca0750",
   "metadata": {},
   "source": [
    "Cột này đang có dtype là `str`, mỗi giá trị có 2 dạng:\n",
    "\n",
    "1. Là `0`\n",
    "2. Là dạng dấu `$`, phía sau đó là giá tiền\n",
    "\n",
    "Do đó, loại bỏ dấu `$`, sau đó chuyển sang `float`."
   ]
  },
  {
   "cell_type": "code",
   "execution_count": 147,
   "id": "c6826d4e",
   "metadata": {},
   "outputs": [],
   "source": [
    "app_df['Price'] = app_df['Price'].replace(r'\\D+', '', regex=True)\n",
    "app_df = app_df.astype({'Price': float})"
   ]
  },
  {
   "cell_type": "markdown",
   "id": "566d785b",
   "metadata": {},
   "source": [
    "## Chuyển dtype của cột \"Last Updated\" sang datetime"
   ]
  },
  {
   "cell_type": "code",
   "execution_count": 144,
   "id": "0872d55c",
   "metadata": {},
   "outputs": [],
   "source": [
    "app_df['Last Updated'] = pd.to_datetime(app_df['Last Updated'], format=\"%B %d, %Y\")"
   ]
  },
  {
   "cell_type": "markdown",
   "id": "805f86fe",
   "metadata": {},
   "source": [
    "# Đưa ra các câu hỏi có ý nghĩa cần trả lời"
   ]
  },
  {
   "cell_type": "markdown",
   "id": "9e8a90ef",
   "metadata": {},
   "source": [
    "* Câu hỏi là gì?\n",
    "* Nếu trả lời được câu hỏi thì sẽ có lợi ích gì?"
   ]
  },
  {
   "cell_type": "markdown",
   "id": "4fa09535",
   "metadata": {},
   "source": []
  },
  {
   "cell_type": "markdown",
   "id": "ea1f9587",
   "metadata": {},
   "source": [
    "# Tiền xử lý + phân tích dữ liệu để trả lời cho từng câu hỏi"
   ]
  },
  {
   "cell_type": "code",
   "execution_count": 52,
   "id": "cdc8ba3c",
   "metadata": {},
   "outputs": [
    {
     "ename": "IndexError",
     "evalue": "single positional indexer is out-of-bounds",
     "output_type": "error",
     "traceback": [
      "\u001b[0;31m---------------------------------------------------------------------------\u001b[0m",
      "\u001b[0;31mIndexError\u001b[0m                                Traceback (most recent call last)",
      "\u001b[0;32m/tmp/ipykernel_15332/633358914.py\u001b[0m in \u001b[0;36m<module>\u001b[0;34m\u001b[0m\n\u001b[0;32m----> 1\u001b[0;31m \u001b[0mapp_df\u001b[0m\u001b[0;34m.\u001b[0m\u001b[0miloc\u001b[0m\u001b[0;34m[\u001b[0m\u001b[0;36m10472\u001b[0m\u001b[0;34m]\u001b[0m\u001b[0;34m\u001b[0m\u001b[0;34m\u001b[0m\u001b[0m\n\u001b[0m",
      "\u001b[0;32m~/.conda/envs/min_ds-env/lib/python3.8/site-packages/pandas/core/indexing.py\u001b[0m in \u001b[0;36m__getitem__\u001b[0;34m(self, key)\u001b[0m\n\u001b[1;32m    893\u001b[0m \u001b[0;34m\u001b[0m\u001b[0m\n\u001b[1;32m    894\u001b[0m             \u001b[0mmaybe_callable\u001b[0m \u001b[0;34m=\u001b[0m \u001b[0mcom\u001b[0m\u001b[0;34m.\u001b[0m\u001b[0mapply_if_callable\u001b[0m\u001b[0;34m(\u001b[0m\u001b[0mkey\u001b[0m\u001b[0;34m,\u001b[0m \u001b[0mself\u001b[0m\u001b[0;34m.\u001b[0m\u001b[0mobj\u001b[0m\u001b[0;34m)\u001b[0m\u001b[0;34m\u001b[0m\u001b[0;34m\u001b[0m\u001b[0m\n\u001b[0;32m--> 895\u001b[0;31m             \u001b[0;32mreturn\u001b[0m \u001b[0mself\u001b[0m\u001b[0;34m.\u001b[0m\u001b[0m_getitem_axis\u001b[0m\u001b[0;34m(\u001b[0m\u001b[0mmaybe_callable\u001b[0m\u001b[0;34m,\u001b[0m \u001b[0maxis\u001b[0m\u001b[0;34m=\u001b[0m\u001b[0maxis\u001b[0m\u001b[0;34m)\u001b[0m\u001b[0;34m\u001b[0m\u001b[0;34m\u001b[0m\u001b[0m\n\u001b[0m\u001b[1;32m    896\u001b[0m \u001b[0;34m\u001b[0m\u001b[0m\n\u001b[1;32m    897\u001b[0m     \u001b[0;32mdef\u001b[0m \u001b[0m_is_scalar_access\u001b[0m\u001b[0;34m(\u001b[0m\u001b[0mself\u001b[0m\u001b[0;34m,\u001b[0m \u001b[0mkey\u001b[0m\u001b[0;34m:\u001b[0m \u001b[0mTuple\u001b[0m\u001b[0;34m)\u001b[0m\u001b[0;34m:\u001b[0m\u001b[0;34m\u001b[0m\u001b[0;34m\u001b[0m\u001b[0m\n",
      "\u001b[0;32m~/.conda/envs/min_ds-env/lib/python3.8/site-packages/pandas/core/indexing.py\u001b[0m in \u001b[0;36m_getitem_axis\u001b[0;34m(self, key, axis)\u001b[0m\n\u001b[1;32m   1499\u001b[0m \u001b[0;34m\u001b[0m\u001b[0m\n\u001b[1;32m   1500\u001b[0m             \u001b[0;31m# validate the location\u001b[0m\u001b[0;34m\u001b[0m\u001b[0;34m\u001b[0m\u001b[0;34m\u001b[0m\u001b[0m\n\u001b[0;32m-> 1501\u001b[0;31m             \u001b[0mself\u001b[0m\u001b[0;34m.\u001b[0m\u001b[0m_validate_integer\u001b[0m\u001b[0;34m(\u001b[0m\u001b[0mkey\u001b[0m\u001b[0;34m,\u001b[0m \u001b[0maxis\u001b[0m\u001b[0;34m)\u001b[0m\u001b[0;34m\u001b[0m\u001b[0;34m\u001b[0m\u001b[0m\n\u001b[0m\u001b[1;32m   1502\u001b[0m \u001b[0;34m\u001b[0m\u001b[0m\n\u001b[1;32m   1503\u001b[0m             \u001b[0;32mreturn\u001b[0m \u001b[0mself\u001b[0m\u001b[0;34m.\u001b[0m\u001b[0mobj\u001b[0m\u001b[0;34m.\u001b[0m\u001b[0m_ixs\u001b[0m\u001b[0;34m(\u001b[0m\u001b[0mkey\u001b[0m\u001b[0;34m,\u001b[0m \u001b[0maxis\u001b[0m\u001b[0;34m=\u001b[0m\u001b[0maxis\u001b[0m\u001b[0;34m)\u001b[0m\u001b[0;34m\u001b[0m\u001b[0;34m\u001b[0m\u001b[0m\n",
      "\u001b[0;32m~/.conda/envs/min_ds-env/lib/python3.8/site-packages/pandas/core/indexing.py\u001b[0m in \u001b[0;36m_validate_integer\u001b[0;34m(self, key, axis)\u001b[0m\n\u001b[1;32m   1442\u001b[0m         \u001b[0mlen_axis\u001b[0m \u001b[0;34m=\u001b[0m \u001b[0mlen\u001b[0m\u001b[0;34m(\u001b[0m\u001b[0mself\u001b[0m\u001b[0;34m.\u001b[0m\u001b[0mobj\u001b[0m\u001b[0;34m.\u001b[0m\u001b[0m_get_axis\u001b[0m\u001b[0;34m(\u001b[0m\u001b[0maxis\u001b[0m\u001b[0;34m)\u001b[0m\u001b[0;34m)\u001b[0m\u001b[0;34m\u001b[0m\u001b[0;34m\u001b[0m\u001b[0m\n\u001b[1;32m   1443\u001b[0m         \u001b[0;32mif\u001b[0m \u001b[0mkey\u001b[0m \u001b[0;34m>=\u001b[0m \u001b[0mlen_axis\u001b[0m \u001b[0;32mor\u001b[0m \u001b[0mkey\u001b[0m \u001b[0;34m<\u001b[0m \u001b[0;34m-\u001b[0m\u001b[0mlen_axis\u001b[0m\u001b[0;34m:\u001b[0m\u001b[0;34m\u001b[0m\u001b[0;34m\u001b[0m\u001b[0m\n\u001b[0;32m-> 1444\u001b[0;31m             \u001b[0;32mraise\u001b[0m \u001b[0mIndexError\u001b[0m\u001b[0;34m(\u001b[0m\u001b[0;34m\"single positional indexer is out-of-bounds\"\u001b[0m\u001b[0;34m)\u001b[0m\u001b[0;34m\u001b[0m\u001b[0;34m\u001b[0m\u001b[0m\n\u001b[0m\u001b[1;32m   1445\u001b[0m \u001b[0;34m\u001b[0m\u001b[0m\n\u001b[1;32m   1446\u001b[0m     \u001b[0;31m# -------------------------------------------------------------------\u001b[0m\u001b[0;34m\u001b[0m\u001b[0;34m\u001b[0m\u001b[0;34m\u001b[0m\u001b[0m\n",
      "\u001b[0;31mIndexError\u001b[0m: single positional indexer is out-of-bounds"
     ]
    }
   ],
   "source": []
  },
  {
   "cell_type": "markdown",
   "id": "5d246619",
   "metadata": {},
   "source": [
    "# Nhìn lại quá trình làm đồ án"
   ]
  },
  {
   "cell_type": "markdown",
   "id": "2b9842a4",
   "metadata": {},
   "source": [
    "* Mỗi thành viên: Đã gặp những khó khăn gì? (Hay mọi\n",
    "chuyện đều thuận lợi)\n",
    "* Mỗi thành viên: Có học được gì hữu ích? (Hay không\n",
    "học được gì)\n",
    "* Nhóm: Nếu có thêm thời gian thì sẽ làm gì?"
   ]
  },
  {
   "cell_type": "markdown",
   "id": "8e12f3eb",
   "metadata": {},
   "source": []
  },
  {
   "cell_type": "markdown",
   "id": "07957761",
   "metadata": {},
   "source": [
    "# Tài liệu tham khảo"
   ]
  },
  {
   "cell_type": "markdown",
   "id": "ce4e80a1",
   "metadata": {},
   "source": []
  }
 ],
 "metadata": {
  "kernelspec": {
   "display_name": "Python 3 (ipykernel)",
   "language": "python",
   "name": "python3"
  },
  "language_info": {
   "codemirror_mode": {
    "name": "ipython",
    "version": 3
   },
   "file_extension": ".py",
   "mimetype": "text/x-python",
   "name": "python",
   "nbconvert_exporter": "python",
   "pygments_lexer": "ipython3",
   "version": "3.8.8"
  },
  "toc": {
   "base_numbering": "0",
   "nav_menu": {},
   "number_sections": true,
   "sideBar": true,
   "skip_h1_title": false,
   "title_cell": "Mục lục",
   "title_sidebar": "Contents",
   "toc_cell": false,
   "toc_position": {},
   "toc_section_display": true,
   "toc_window_display": false
  }
 },
 "nbformat": 4,
 "nbformat_minor": 5
}
